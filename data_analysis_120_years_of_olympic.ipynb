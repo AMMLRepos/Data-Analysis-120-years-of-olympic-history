{
  "nbformat": 4,
  "nbformat_minor": 0,
  "metadata": {
    "kernelspec": {
      "display_name": "Python 3",
      "language": "python",
      "name": "python3"
    },
    "language_info": {
      "codemirror_mode": {
        "name": "ipython",
        "version": 3
      },
      "file_extension": ".py",
      "mimetype": "text/x-python",
      "name": "python",
      "nbconvert_exporter": "python",
      "pygments_lexer": "ipython3",
      "version": "3.7.6"
    },
    "colab": {
      "name": "data-analysis-120-years-of-olympic.ipynb",
      "provenance": [],
      "include_colab_link": true
    }
  },
  "cells": [
    {
      "cell_type": "markdown",
      "metadata": {
        "id": "view-in-github",
        "colab_type": "text"
      },
      "source": [
        "<a href=\"https://colab.research.google.com/github/AMMLRepos/Data-Analysis-120-years-of-olympic-history/blob/main/data_analysis_120_years_of_olympic.ipynb\" target=\"_parent\"><img src=\"https://colab.research.google.com/assets/colab-badge.svg\" alt=\"Open In Colab\"/></a>"
      ]
    },
    {
      "cell_type": "code",
      "metadata": {
        "id": "CkYfUGK1uuso"
      },
      "source": [
        "# Jovian Commit Essentials\n",
        "# Please retain and execute this cell without modifying the contents for `jovian.commit` to work\n",
        "!pip install jovian --upgrade -q\n",
        "import jovian\n",
        "jovian.set_project('data-analysis-120-years-of-olympic')\n",
        "jovian.set_colab_id('1HOuo72qgRdDcUkVPtprahYoZeCrU8Hcv')"
      ],
      "execution_count": 14,
      "outputs": []
    },
    {
      "cell_type": "markdown",
      "metadata": {
        "id": "Xr0llibTuuss"
      },
      "source": [
        "# Overview\n",
        "This nootebook is an exercise to analyse the Olympic dataset which is openly avaailable on [Kaggle](https://www.kaggle.com/mysarahmadbhat/120-years-of-olympic-history/). We have following objectives with this activity -\n",
        "- Get some interesting insights on the data we have available, like say person who won most number of golds in olympic history, number of countries participated each year and what not. \n",
        "- Learning purpose - Use pandas, matplotlib and seaborn libraries to analyse the data and provide us an interesting use case to apply these skills\n",
        "\n",
        "#Major Steps \n",
        "We will perform following major steps -\n",
        "- Setup your wokring environment - Download libraries like pandas, numpy, matplotlib, seaborn\n",
        "- Download the data from [Kaggle](https://www.kaggle.com/mysarahmadbhat/120-years-of-olympic-history/) using [opendatasets](https://github.com/JovianML/opendatasets) library which is developed by [jovian](https://jovian.ai)\n",
        "- Perform basic analysis and draw seaborn plots \n",
        "- Summarize your statistics \n",
        "- Optional - Expose your insights on a webpage \n",
        "\n",
        "Use the \"Run\" button to execute the code."
      ]
    },
    {
      "cell_type": "markdown",
      "metadata": {
        "id": "c29kqTPaxQCl"
      },
      "source": [
        "# Step 1 - Setup our working environment \n",
        "\n",
        "Please note that this notebook is saved in jovian's environment and hence have some setup involved for jovian. If you are not running and saving it in jovian environment, you might not need a few of the steps involving jovian"
      ]
    },
    {
      "cell_type": "code",
      "metadata": {
        "id": "yO7gg7V3uusu"
      },
      "source": [
        "!pip install jovian pandas numpy matplotlib opendatasets seaborn  --quiet"
      ],
      "execution_count": 15,
      "outputs": []
    },
    {
      "cell_type": "code",
      "metadata": {
        "id": "AAm7cp_9uusv"
      },
      "source": [
        "#Only needed if you are using jovian environment\n",
        "import jovian "
      ],
      "execution_count": 16,
      "outputs": []
    },
    {
      "cell_type": "code",
      "metadata": {
        "colab": {
          "base_uri": "https://localhost:8080/",
          "height": 86
        },
        "id": "os1bs4jMuusw",
        "outputId": "9c49faed-85e3-4c84-f458-d6c7626ae6ea"
      },
      "source": [
        "# Execute this to save new versions of the notebook\n",
        "jovian.commit(project=\"data-analysis-120-years-of-olympic\")"
      ],
      "execution_count": 17,
      "outputs": [
        {
          "output_type": "stream",
          "text": [
            "[jovian] Detected Colab notebook...\u001b[0m\n",
            "[jovian] Uploading colab notebook to Jovian...\u001b[0m\n",
            "Committed successfully! https://jovian.ai/aaryaashay1848/data-analysis-120-years-of-olympic\n"
          ],
          "name": "stdout"
        },
        {
          "output_type": "execute_result",
          "data": {
            "application/vnd.google.colaboratory.intrinsic+json": {
              "type": "string"
            },
            "text/plain": [
              "'https://jovian.ai/aaryaashay1848/data-analysis-120-years-of-olympic'"
            ]
          },
          "metadata": {
            "tags": []
          },
          "execution_count": 17
        }
      ]
    },
    {
      "cell_type": "code",
      "metadata": {
        "id": "rDE6e5gCuusw"
      },
      "source": [
        "#Import required libraries \n",
        "import pandas as pd\n",
        "import matplotlib.pyplot as plt\n",
        "import seaborn as sns"
      ],
      "execution_count": 18,
      "outputs": []
    },
    {
      "cell_type": "markdown",
      "metadata": {
        "id": "G4ir3W1IzeDk"
      },
      "source": [
        "setup basic configuration for notebook and seaborn plots"
      ]
    },
    {
      "cell_type": "code",
      "metadata": {
        "colab": {
          "base_uri": "https://localhost:8080/",
          "height": 34
        },
        "id": "Ws54xpeyziY5",
        "outputId": "64a3bfd9-500c-4d30-dc4e-9496666fac88"
      },
      "source": [
        "#Ensures that matplotlib and seaborn graphs are visible within notebook\n",
        "%matplotlib inline \n",
        "\n",
        "#Setup up style and theming for seaborn graphs \n",
        "sns.set_theme(style=\"darkgrid\")\n",
        "sns.set_context(\"paper\")\n",
        "plt.figure(figsize=(8,6))\n",
        "\n",
        "#Ensures that you see all (500) columns within notebook\n",
        "pd.set_option('display.max_columns', 500)\n",
        "pd.set_option('display.width', 1000)"
      ],
      "execution_count": 19,
      "outputs": [
        {
          "output_type": "display_data",
          "data": {
            "text/plain": [
              "<Figure size 576x432 with 0 Axes>"
            ]
          },
          "metadata": {
            "tags": []
          }
        }
      ]
    },
    {
      "cell_type": "markdown",
      "metadata": {
        "id": "XPbNIVvEz2si"
      },
      "source": [
        "#Step 2 - Download data\n",
        "Download dataset using opendatasets library of jovian"
      ]
    },
    {
      "cell_type": "code",
      "metadata": {
        "colab": {
          "base_uri": "https://localhost:8080/"
        },
        "id": "fLJGGb9qzyAl",
        "outputId": "4c67ef6a-c27f-460c-c1d1-e6e469697b23"
      },
      "source": [
        "import opendatasets as od\n",
        "dataset_url = \"https://www.kaggle.com/mysarahmadbhat/120-years-of-olympic-history/\"\n",
        "\n",
        "#This will prompt to ask for your Kaggle username and access key. Please provide as an input\n",
        "#If not, you can download your kaggle.json from kaggle and upload it in same working directory of this notebook\n",
        "#It will then pick your credentials from kaggle.json\n",
        "#I will manually provide those inputs\n",
        "od.download(dataset_url)"
      ],
      "execution_count": 22,
      "outputs": [
        {
          "output_type": "stream",
          "text": [
            "Please provide your Kaggle credentials to download this dataset. Learn more: http://bit.ly/kaggle-creds\n",
            "Your Kaggle username: aashaymaheshwari\n",
            "Your Kaggle Key: ··········\n",
            "Downloading 120-years-of-olympic-history.zip to ./120-years-of-olympic-history\n"
          ],
          "name": "stdout"
        },
        {
          "output_type": "stream",
          "text": [
            "100%|██████████| 5.43M/5.43M [00:00<00:00, 124MB/s]"
          ],
          "name": "stderr"
        },
        {
          "output_type": "stream",
          "text": [
            "\n"
          ],
          "name": "stdout"
        },
        {
          "output_type": "stream",
          "text": [
            "\n"
          ],
          "name": "stderr"
        }
      ]
    },
    {
      "cell_type": "markdown",
      "metadata": {
        "id": "ZsW9lEHB0shL"
      },
      "source": [
        "Your dataset is downloaded in a special directory named \"120-years-of-olympic-history\". Let us use os module to work on directories and get list of files which are downloaded\n"
      ]
    },
    {
      "cell_type": "code",
      "metadata": {
        "colab": {
          "base_uri": "https://localhost:8080/"
        },
        "id": "-CYAdCZM03G3",
        "outputId": "42481f3d-4ca0-4283-96eb-f9bcf45d24ad"
      },
      "source": [
        "import os \n",
        "datadir = \"./120-years-of-olympic-history\"\n",
        "\n",
        "data_files = os.listdir(datadir)\n",
        "print(\"List of downloaded files - \", data_files)"
      ],
      "execution_count": 26,
      "outputs": [
        {
          "output_type": "stream",
          "text": [
            "List of downloaded files -  ['country_definitions_data_dictionary.csv', 'country_definitions.csv', 'athlete_events_data_dictionary.csv', 'athlete_events.csv']\n"
          ],
          "name": "stdout"
        }
      ]
    },
    {
      "cell_type": "markdown",
      "metadata": {
        "id": "M_u03PT81Q_2"
      },
      "source": [
        "We have four files in each. It is a good practice to view files in excel to have a quick look at the data you are deadling with, but we will use pandas also to do that. Let us import all 4 files in our pandas dataframe"
      ]
    },
    {
      "cell_type": "code",
      "metadata": {
        "id": "67j5klUe1f0d"
      },
      "source": [
        "#Create file paths for all files present in the directory\n",
        "file_country_definition_data_dictionary = datadir + \"/\" + data_files[0]\n",
        "file_country_definition = datadir + \"/\" + data_files[1]\n",
        "file_athelete_events_data_dictionary = datadir + \"/\" + data_files[2]\n",
        "file_athelete_events = datadir + \"/\" + data_files[3]"
      ],
      "execution_count": 29,
      "outputs": []
    },
    {
      "cell_type": "markdown",
      "metadata": {
        "id": "VxIm3NL22MHw"
      },
      "source": [
        "Let us now import data into our dataframe and see if they are important for our analysis or are just helping data dictionary to understand manual data"
      ]
    },
    {
      "cell_type": "code",
      "metadata": {
        "colab": {
          "base_uri": "https://localhost:8080/"
        },
        "id": "NPftAOGO175S",
        "outputId": "b1a8e341-1dac-4e17-d049-7f75587d47c7"
      },
      "source": [
        "country_definition_data_dictionary_df = pd.read_csv(file_country_definition_data_dictionary)\n",
        "print(\"Dataframe for Country Definition data dictionary file\")\n",
        "print(country_definition_data_dictionary_df)"
      ],
      "execution_count": 31,
      "outputs": [
        {
          "output_type": "stream",
          "text": [
            "Dataframe for Country Definition data dictionary file\n",
            "    Field                                        Description\n",
            "0     NOC           National Olympic Committee 3 letter code\n",
            "1  region           Country name used for geospatial mapping\n",
            "2   notes  Real country name if \"region\" isn't an exact m...\n"
          ],
          "name": "stdout"
        }
      ]
    },
    {
      "cell_type": "markdown",
      "metadata": {
        "id": "8lWCEJhW2brd"
      },
      "source": [
        "The above output looks like this is just a helping file with mapping dictionaries for data in some other file. For time being we might not need this and we can refer it in an excel seperately if needed. \n",
        "Let us do that for all other remaining files "
      ]
    },
    {
      "cell_type": "code",
      "metadata": {
        "colab": {
          "base_uri": "https://localhost:8080/"
        },
        "id": "Sp3jNXJb2odh",
        "outputId": "2e28748a-3897-4888-c82c-c925e5989d19"
      },
      "source": [
        "country_definition_df = pd.read_csv(file_country_definition)\n",
        "print(\"Dataframe for Country Definition file\")\n",
        "print(country_definition_df)"
      ],
      "execution_count": 33,
      "outputs": [
        {
          "output_type": "stream",
          "text": [
            "Dataframe for Country Definition file\n",
            "     NOC       region                 notes\n",
            "0    AFG  Afghanistan                   NaN\n",
            "1    AHO      Curacao  Netherlands Antilles\n",
            "2    ALB      Albania                   NaN\n",
            "3    ALG      Algeria                   NaN\n",
            "4    AND      Andorra                   NaN\n",
            "..   ...          ...                   ...\n",
            "225  YEM        Yemen                   NaN\n",
            "226  YMD        Yemen           South Yemen\n",
            "227  YUG       Serbia            Yugoslavia\n",
            "228  ZAM       Zambia                   NaN\n",
            "229  ZIM     Zimbabwe                   NaN\n",
            "\n",
            "[230 rows x 3 columns]\n"
          ],
          "name": "stdout"
        }
      ]
    },
    {
      "cell_type": "markdown",
      "metadata": {
        "id": "I9e-9h2D2wui"
      },
      "source": [
        "The above dataframe is a list of coutries with country code and name of country. If you observe columns of our values of our first dataset file are used as columns in our second file "
      ]
    },
    {
      "cell_type": "code",
      "metadata": {
        "colab": {
          "base_uri": "https://localhost:8080/"
        },
        "id": "ZCAzpms929w9",
        "outputId": "96b1178f-dc6d-469e-866e-2c6bdd081448"
      },
      "source": [
        "athelete_definition_data_dictionary_df = pd.read_csv(file_athelete_events_data_dictionary)\n",
        "print(\"Dataframe for Athelete events data dictionary file\")\n",
        "print(athelete_definition_data_dictionary_df)"
      ],
      "execution_count": 35,
      "outputs": [
        {
          "output_type": "stream",
          "text": [
            "Dataframe for Country Definition file\n",
            "     Field                               Description\n",
            "0       ID            Unique number for each athlete\n",
            "1     Name                            Athlete's name\n",
            "2      Sex                    Male (M) or Female (F)\n",
            "3      Age                                   Integer\n",
            "4   Height                            In centimeters\n",
            "5   Weight                              In kilograms\n",
            "6     Team                                 Team name\n",
            "7      NOC  National Olympic Committee 3-letter code\n",
            "8    Games                           Year and season\n",
            "9     Year                                   Integer\n",
            "10  Season                          Summer or Winter\n",
            "11    City                                 Host city\n",
            "12   Sport                                     Sport\n",
            "13   Event                                     Event\n",
            "14   Medal               Gold, Silver, Bronze, or NA\n"
          ],
          "name": "stdout"
        }
      ]
    },
    {
      "cell_type": "markdown",
      "metadata": {
        "id": "9wiQqyrx3Pni"
      },
      "source": [
        "This is again the metadata but an important one which is giving us details of all the columns which we will get to see in our main datafile. Let us know do the important job of importing last and critical data file"
      ]
    },
    {
      "cell_type": "code",
      "metadata": {
        "colab": {
          "base_uri": "https://localhost:8080/"
        },
        "id": "p6LU4gLr3eOK",
        "outputId": "8bf508c5-c91f-4f60-bc8c-a2d9dbeaf7ed"
      },
      "source": [
        "athelete_events_df = pd.read_csv(file_athelete_events)\n",
        "print(\"Dataframe for Athelete events file\")\n",
        "print(athelete_events_df)"
      ],
      "execution_count": 36,
      "outputs": [
        {
          "output_type": "stream",
          "text": [
            "Dataframe for Athelete events file\n",
            "            ID                      Name Sex   Age  Height  Weight            Team  NOC        Games  Year  Season            City          Sport                                     Event Medal\n",
            "0            1                 A Dijiang   M  24.0   180.0    80.0           China  CHN  1992 Summer  1992  Summer       Barcelona     Basketball               Basketball Men's Basketball   NaN\n",
            "1            2                  A Lamusi   M  23.0   170.0    60.0           China  CHN  2012 Summer  2012  Summer          London           Judo              Judo Men's Extra-Lightweight   NaN\n",
            "2            3       Gunnar Nielsen Aaby   M  24.0     NaN     NaN         Denmark  DEN  1920 Summer  1920  Summer       Antwerpen       Football                   Football Men's Football   NaN\n",
            "3            4      Edgar Lindenau Aabye   M  34.0     NaN     NaN  Denmark/Sweden  DEN  1900 Summer  1900  Summer           Paris     Tug-Of-War               Tug-Of-War Men's Tug-Of-War  Gold\n",
            "4            5  Christine Jacoba Aaftink   F  21.0   185.0    82.0     Netherlands  NED  1988 Winter  1988  Winter         Calgary  Speed Skating          Speed Skating Women's 500 metres   NaN\n",
            "...        ...                       ...  ..   ...     ...     ...             ...  ...          ...   ...     ...             ...            ...                                       ...   ...\n",
            "271111  135569                Andrzej ya   M  29.0   179.0    89.0        Poland-1  POL  1976 Winter  1976  Winter       Innsbruck           Luge                Luge Mixed (Men)'s Doubles   NaN\n",
            "271112  135570                  Piotr ya   M  27.0   176.0    59.0          Poland  POL  2014 Winter  2014  Winter           Sochi    Ski Jumping  Ski Jumping Men's Large Hill, Individual   NaN\n",
            "271113  135570                  Piotr ya   M  27.0   176.0    59.0          Poland  POL  2014 Winter  2014  Winter           Sochi    Ski Jumping        Ski Jumping Men's Large Hill, Team   NaN\n",
            "271114  135571        Tomasz Ireneusz ya   M  30.0   185.0    96.0          Poland  POL  1998 Winter  1998  Winter          Nagano      Bobsleigh                      Bobsleigh Men's Four   NaN\n",
            "271115  135571        Tomasz Ireneusz ya   M  34.0   185.0    96.0          Poland  POL  2002 Winter  2002  Winter  Salt Lake City      Bobsleigh                      Bobsleigh Men's Four   NaN\n",
            "\n",
            "[271116 rows x 15 columns]\n"
          ],
          "name": "stdout"
        }
      ]
    },
    {
      "cell_type": "markdown",
      "metadata": {
        "id": "r47FjsLE33_5"
      },
      "source": [
        "#Step 3 - Working on basic data analysis \n",
        "Now that we have our data imported in dataframe, lets observe our data and perform basic analysis on the meta information of the data "
      ]
    }
  ]
}