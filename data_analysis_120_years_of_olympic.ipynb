{
  "nbformat": 4,
  "nbformat_minor": 0,
  "metadata": {
    "kernelspec": {
      "display_name": "Python 3",
      "language": "python",
      "name": "python3"
    },
    "language_info": {
      "codemirror_mode": {
        "name": "ipython",
        "version": 3
      },
      "file_extension": ".py",
      "mimetype": "text/x-python",
      "name": "python",
      "nbconvert_exporter": "python",
      "pygments_lexer": "ipython3",
      "version": "3.7.6"
    },
    "colab": {
      "name": "data-analysis-120-years-of-olympic.ipynb",
      "provenance": [],
      "include_colab_link": true
    }
  },
  "cells": [
    {
      "cell_type": "markdown",
      "metadata": {
        "id": "view-in-github",
        "colab_type": "text"
      },
      "source": [
        "<a href=\"https://colab.research.google.com/github/AMMLRepos/Data-Analysis-120-years-of-olympic-history/blob/main/data_analysis_120_years_of_olympic.ipynb\" target=\"_parent\"><img src=\"https://colab.research.google.com/assets/colab-badge.svg\" alt=\"Open In Colab\"/></a>"
      ]
    },
    {
      "cell_type": "code",
      "metadata": {
        "id": "CkYfUGK1uuso"
      },
      "source": [
        "# Jovian Commit Essentials\n",
        "# Please retain and execute this cell without modifying the contents for `jovian.commit` to work\n",
        "!pip install jovian --upgrade -q\n",
        "import jovian\n",
        "jovian.set_project('data-analysis-120-years-of-olympic')\n",
        "jovian.set_colab_id('1HOuo72qgRdDcUkVPtprahYoZeCrU8Hcv')"
      ],
      "execution_count": 1,
      "outputs": []
    },
    {
      "cell_type": "markdown",
      "metadata": {
        "id": "Xr0llibTuuss"
      },
      "source": [
        "# Overview\n",
        "This nootebook is an exercise to analyse the Olympic dataset which is openly avaailable on [Kaggle](https://www.kaggle.com/mysarahmadbhat/120-years-of-olympic-history/). We have following objectives with this activity -\n",
        "- Get some interesting insights on the data we have available, like say person who won most number of golds in olympic history, number of countries participated each year and what not. \n",
        "- Learning purpose - Use pandas, matplotlib and seaborn libraries to analyse the data and provide us an interesting use case to apply these skills\n",
        "\n",
        "#Major Steps \n",
        "We will perform following major steps -\n",
        "- Setup your wokring environment - Download libraries like pandas, numpy, matplotlib, seaborn\n",
        "- Download the data from [Kaggle](https://www.kaggle.com/mysarahmadbhat/120-years-of-olympic-history/) using [opendatasets](https://github.com/JovianML/opendatasets) library which is developed by [jovian](https://jovian.ai)\n",
        "- Perform basic analysis and draw seaborn plots \n",
        "- Summarize your statistics \n",
        "- Optional - Expose your insights on a webpage \n",
        "\n",
        "Use the \"Run\" button to execute the code."
      ]
    },
    {
      "cell_type": "markdown",
      "metadata": {
        "id": "c29kqTPaxQCl"
      },
      "source": [
        "# Step 1 - Setup our working environment \n",
        "\n",
        "Please note that this notebook is saved in jovian's environment and hence have some setup involved for jovian. If you are not running and saving it in jovian environment, you might not need a few of the steps involving jovian"
      ]
    },
    {
      "cell_type": "code",
      "metadata": {
        "id": "yO7gg7V3uusu"
      },
      "source": [
        "!pip install jovian pandas numpy matplotlib opendatasets seaborn  --quiet"
      ],
      "execution_count": 2,
      "outputs": []
    },
    {
      "cell_type": "code",
      "metadata": {
        "id": "AAm7cp_9uusv"
      },
      "source": [
        "#Only needed if you are using jovian environment\n",
        "import jovian "
      ],
      "execution_count": 3,
      "outputs": []
    },
    {
      "cell_type": "code",
      "metadata": {
        "colab": {
          "base_uri": "https://localhost:8080/",
          "height": 86
        },
        "id": "os1bs4jMuusw",
        "outputId": "673da99f-ce25-4326-abf1-21d22bfbd892"
      },
      "source": [
        "# Execute this to save new versions of the notebook\n",
        "jovian.commit(project=\"data-analysis-120-years-of-olympic\")"
      ],
      "execution_count": 4,
      "outputs": [
        {
          "output_type": "stream",
          "text": [
            "[jovian] Detected Colab notebook...\u001b[0m\n",
            "[jovian] Uploading colab notebook to Jovian...\u001b[0m\n",
            "Committed successfully! https://jovian.ai/aaryaashay1848/data-analysis-120-years-of-olympic\n"
          ],
          "name": "stdout"
        },
        {
          "output_type": "execute_result",
          "data": {
            "application/vnd.google.colaboratory.intrinsic+json": {
              "type": "string"
            },
            "text/plain": [
              "'https://jovian.ai/aaryaashay1848/data-analysis-120-years-of-olympic'"
            ]
          },
          "metadata": {
            "tags": []
          },
          "execution_count": 4
        }
      ]
    },
    {
      "cell_type": "code",
      "metadata": {
        "id": "rDE6e5gCuusw"
      },
      "source": [
        "#Import required libraries \n",
        "import pandas as pd\n",
        "import matplotlib.pyplot as plt\n",
        "import seaborn as sns"
      ],
      "execution_count": 5,
      "outputs": []
    },
    {
      "cell_type": "markdown",
      "metadata": {
        "id": "G4ir3W1IzeDk"
      },
      "source": [
        "setup basic configuration for notebook and seaborn plots"
      ]
    },
    {
      "cell_type": "code",
      "metadata": {
        "colab": {
          "base_uri": "https://localhost:8080/",
          "height": 34
        },
        "id": "Ws54xpeyziY5",
        "outputId": "66f62291-3137-4bfe-c501-8445276cdd98"
      },
      "source": [
        "#Ensures that matplotlib and seaborn graphs are visible within notebook\n",
        "%matplotlib inline \n",
        "\n",
        "#Setup up style and theming for seaborn graphs \n",
        "sns.set_theme(style=\"darkgrid\")\n",
        "sns.set_context(\"paper\")\n",
        "plt.figure(figsize=(8,6))\n",
        "\n",
        "#Ensures that you see all (500) columns within notebook\n",
        "pd.set_option('display.max_columns', 500)\n",
        "pd.set_option('display.width', 1000)"
      ],
      "execution_count": 6,
      "outputs": [
        {
          "output_type": "display_data",
          "data": {
            "text/plain": [
              "<Figure size 576x432 with 0 Axes>"
            ]
          },
          "metadata": {
            "tags": []
          }
        }
      ]
    },
    {
      "cell_type": "markdown",
      "metadata": {
        "id": "XPbNIVvEz2si"
      },
      "source": [
        "#Step 2 - Download data\n",
        "Download dataset using opendatasets library of jovian"
      ]
    },
    {
      "cell_type": "code",
      "metadata": {
        "colab": {
          "base_uri": "https://localhost:8080/"
        },
        "id": "fLJGGb9qzyAl",
        "outputId": "67dfda40-29a3-4434-c095-0b75e8688898"
      },
      "source": [
        "import opendatasets as od\n",
        "dataset_url = \"https://www.kaggle.com/mysarahmadbhat/120-years-of-olympic-history/\"\n",
        "\n",
        "#This will prompt to ask for your Kaggle username and access key. Please provide as an input\n",
        "#If not, you can download your kaggle.json from kaggle and upload it in same working directory of this notebook\n",
        "#It will then pick your credentials from kaggle.json\n",
        "#I will manually provide those inputs\n",
        "od.download(dataset_url)"
      ],
      "execution_count": 7,
      "outputs": [
        {
          "output_type": "stream",
          "text": [
            "Skipping, found downloaded files in \"./120-years-of-olympic-history\" (use force=True to force download)\n"
          ],
          "name": "stdout"
        }
      ]
    },
    {
      "cell_type": "markdown",
      "metadata": {
        "id": "ZsW9lEHB0shL"
      },
      "source": [
        "Your dataset is downloaded in a special directory named \"120-years-of-olympic-history\". Let us use os module to work on directories and get list of files which are downloaded\n"
      ]
    },
    {
      "cell_type": "code",
      "metadata": {
        "colab": {
          "base_uri": "https://localhost:8080/"
        },
        "id": "-CYAdCZM03G3",
        "outputId": "d6ebbd30-a5cd-4c48-ea4e-5b72cc8c9c6a"
      },
      "source": [
        "import os \n",
        "datadir = \"./120-years-of-olympic-history\"\n",
        "\n",
        "data_files = os.listdir(datadir)\n",
        "print(\"List of downloaded files - \", data_files)"
      ],
      "execution_count": 8,
      "outputs": [
        {
          "output_type": "stream",
          "text": [
            "List of downloaded files -  ['country_definitions_data_dictionary.csv', 'country_definitions.csv', 'athlete_events_data_dictionary.csv', 'athlete_events.csv']\n"
          ],
          "name": "stdout"
        }
      ]
    },
    {
      "cell_type": "markdown",
      "metadata": {
        "id": "M_u03PT81Q_2"
      },
      "source": [
        "We have four files in each. It is a good practice to view files in excel to have a quick look at the data you are deadling with, but we will use pandas also to do that. Let us import all 4 files in our pandas dataframe"
      ]
    },
    {
      "cell_type": "code",
      "metadata": {
        "id": "67j5klUe1f0d"
      },
      "source": [
        "#Create file paths for all files present in the directory\n",
        "file_country_definition_data_dictionary = datadir + \"/\" + data_files[0]\n",
        "file_country_definition = datadir + \"/\" + data_files[1]\n",
        "file_athelete_events_data_dictionary = datadir + \"/\" + data_files[2]\n",
        "file_athelete_events = datadir + \"/\" + data_files[3]"
      ],
      "execution_count": 9,
      "outputs": []
    },
    {
      "cell_type": "markdown",
      "metadata": {
        "id": "VxIm3NL22MHw"
      },
      "source": [
        "Let us now import data into our dataframe and see if they are important for our analysis or are just helping data dictionary to understand manual data"
      ]
    },
    {
      "cell_type": "code",
      "metadata": {
        "colab": {
          "base_uri": "https://localhost:8080/"
        },
        "id": "NPftAOGO175S",
        "outputId": "3ff6d993-bd42-46cc-9c85-4b9234672dcf"
      },
      "source": [
        "country_definition_data_dictionary_df = pd.read_csv(file_country_definition_data_dictionary)\n",
        "print(\"Dataframe for Country Definition data dictionary file\")\n",
        "print(country_definition_data_dictionary_df)"
      ],
      "execution_count": 10,
      "outputs": [
        {
          "output_type": "stream",
          "text": [
            "Dataframe for Country Definition data dictionary file\n",
            "    Field                                        Description\n",
            "0     NOC           National Olympic Committee 3 letter code\n",
            "1  region           Country name used for geospatial mapping\n",
            "2   notes  Real country name if \"region\" isn't an exact m...\n"
          ],
          "name": "stdout"
        }
      ]
    },
    {
      "cell_type": "markdown",
      "metadata": {
        "id": "8lWCEJhW2brd"
      },
      "source": [
        "The above output looks like this is just a helping file with mapping dictionaries for data in some other file. For time being we might not need this and we can refer it in an excel seperately if needed. \n",
        "Let us do that for all other remaining files "
      ]
    },
    {
      "cell_type": "code",
      "metadata": {
        "colab": {
          "base_uri": "https://localhost:8080/"
        },
        "id": "Sp3jNXJb2odh",
        "outputId": "a0a7ee2f-c3a5-47d6-ab62-801614e16359"
      },
      "source": [
        "country_definition_df = pd.read_csv(file_country_definition)\n",
        "print(\"Dataframe for Country Definition file\")\n",
        "print(country_definition_df)"
      ],
      "execution_count": 11,
      "outputs": [
        {
          "output_type": "stream",
          "text": [
            "Dataframe for Country Definition file\n",
            "     NOC       region                 notes\n",
            "0    AFG  Afghanistan                   NaN\n",
            "1    AHO      Curacao  Netherlands Antilles\n",
            "2    ALB      Albania                   NaN\n",
            "3    ALG      Algeria                   NaN\n",
            "4    AND      Andorra                   NaN\n",
            "..   ...          ...                   ...\n",
            "225  YEM        Yemen                   NaN\n",
            "226  YMD        Yemen           South Yemen\n",
            "227  YUG       Serbia            Yugoslavia\n",
            "228  ZAM       Zambia                   NaN\n",
            "229  ZIM     Zimbabwe                   NaN\n",
            "\n",
            "[230 rows x 3 columns]\n"
          ],
          "name": "stdout"
        }
      ]
    },
    {
      "cell_type": "markdown",
      "metadata": {
        "id": "I9e-9h2D2wui"
      },
      "source": [
        "The above dataframe is a list of coutries with country code and name of country. If you observe columns of our values of our first dataset file are used as columns in our second file "
      ]
    },
    {
      "cell_type": "code",
      "metadata": {
        "colab": {
          "base_uri": "https://localhost:8080/"
        },
        "id": "ZCAzpms929w9",
        "outputId": "90883e5b-3c8f-4b16-997f-09df1d2a836a"
      },
      "source": [
        "athelete_definition_data_dictionary_df = pd.read_csv(file_athelete_events_data_dictionary)\n",
        "print(\"Dataframe for Athelete events data dictionary file\")\n",
        "print(athelete_definition_data_dictionary_df)"
      ],
      "execution_count": 12,
      "outputs": [
        {
          "output_type": "stream",
          "text": [
            "Dataframe for Athelete events data dictionary file\n",
            "     Field                               Description\n",
            "0       ID            Unique number for each athlete\n",
            "1     Name                            Athlete's name\n",
            "2      Sex                    Male (M) or Female (F)\n",
            "3      Age                                   Integer\n",
            "4   Height                            In centimeters\n",
            "5   Weight                              In kilograms\n",
            "6     Team                                 Team name\n",
            "7      NOC  National Olympic Committee 3-letter code\n",
            "8    Games                           Year and season\n",
            "9     Year                                   Integer\n",
            "10  Season                          Summer or Winter\n",
            "11    City                                 Host city\n",
            "12   Sport                                     Sport\n",
            "13   Event                                     Event\n",
            "14   Medal               Gold, Silver, Bronze, or NA\n"
          ],
          "name": "stdout"
        }
      ]
    },
    {
      "cell_type": "markdown",
      "metadata": {
        "id": "9wiQqyrx3Pni"
      },
      "source": [
        "This is again the metadata but an important one which is giving us details of all the columns which we will get to see in our main datafile. Let us know do the important job of importing last and critical data file"
      ]
    },
    {
      "cell_type": "code",
      "metadata": {
        "colab": {
          "base_uri": "https://localhost:8080/"
        },
        "id": "p6LU4gLr3eOK",
        "outputId": "15238b6e-897b-4c7a-fba7-021a9a386fea"
      },
      "source": [
        "athelete_events_df = pd.read_csv(file_athelete_events)\n",
        "print(\"Dataframe for Athelete events file\")\n",
        "print(athelete_events_df)"
      ],
      "execution_count": 13,
      "outputs": [
        {
          "output_type": "stream",
          "text": [
            "Dataframe for Athelete events file\n",
            "            ID                      Name Sex   Age  Height  Weight            Team  NOC        Games  Year  Season            City          Sport                                     Event Medal\n",
            "0            1                 A Dijiang   M  24.0   180.0    80.0           China  CHN  1992 Summer  1992  Summer       Barcelona     Basketball               Basketball Men's Basketball   NaN\n",
            "1            2                  A Lamusi   M  23.0   170.0    60.0           China  CHN  2012 Summer  2012  Summer          London           Judo              Judo Men's Extra-Lightweight   NaN\n",
            "2            3       Gunnar Nielsen Aaby   M  24.0     NaN     NaN         Denmark  DEN  1920 Summer  1920  Summer       Antwerpen       Football                   Football Men's Football   NaN\n",
            "3            4      Edgar Lindenau Aabye   M  34.0     NaN     NaN  Denmark/Sweden  DEN  1900 Summer  1900  Summer           Paris     Tug-Of-War               Tug-Of-War Men's Tug-Of-War  Gold\n",
            "4            5  Christine Jacoba Aaftink   F  21.0   185.0    82.0     Netherlands  NED  1988 Winter  1988  Winter         Calgary  Speed Skating          Speed Skating Women's 500 metres   NaN\n",
            "...        ...                       ...  ..   ...     ...     ...             ...  ...          ...   ...     ...             ...            ...                                       ...   ...\n",
            "271111  135569                Andrzej ya   M  29.0   179.0    89.0        Poland-1  POL  1976 Winter  1976  Winter       Innsbruck           Luge                Luge Mixed (Men)'s Doubles   NaN\n",
            "271112  135570                  Piotr ya   M  27.0   176.0    59.0          Poland  POL  2014 Winter  2014  Winter           Sochi    Ski Jumping  Ski Jumping Men's Large Hill, Individual   NaN\n",
            "271113  135570                  Piotr ya   M  27.0   176.0    59.0          Poland  POL  2014 Winter  2014  Winter           Sochi    Ski Jumping        Ski Jumping Men's Large Hill, Team   NaN\n",
            "271114  135571        Tomasz Ireneusz ya   M  30.0   185.0    96.0          Poland  POL  1998 Winter  1998  Winter          Nagano      Bobsleigh                      Bobsleigh Men's Four   NaN\n",
            "271115  135571        Tomasz Ireneusz ya   M  34.0   185.0    96.0          Poland  POL  2002 Winter  2002  Winter  Salt Lake City      Bobsleigh                      Bobsleigh Men's Four   NaN\n",
            "\n",
            "[271116 rows x 15 columns]\n"
          ],
          "name": "stdout"
        }
      ]
    },
    {
      "cell_type": "markdown",
      "metadata": {
        "id": "r47FjsLE33_5"
      },
      "source": [
        "#Step 3 - Working on basic data analysis \n",
        "Now that we have our data imported in dataframe, lets observe our data and perform basic analysis on the meta information of the data "
      ]
    },
    {
      "cell_type": "markdown",
      "metadata": {
        "id": "qanRZm2R4dLm"
      },
      "source": [
        "## Let us print our dataframe "
      ]
    },
    {
      "cell_type": "code",
      "metadata": {
        "colab": {
          "base_uri": "https://localhost:8080/"
        },
        "id": "BPW5PvY94exT",
        "outputId": "667e77b7-fd8b-418f-bb92-e24b5ebc227c"
      },
      "source": [
        "print(athelete_events_df)"
      ],
      "execution_count": 14,
      "outputs": [
        {
          "output_type": "stream",
          "text": [
            "            ID                      Name Sex   Age  Height  Weight            Team  NOC        Games  Year  Season            City          Sport                                     Event Medal\n",
            "0            1                 A Dijiang   M  24.0   180.0    80.0           China  CHN  1992 Summer  1992  Summer       Barcelona     Basketball               Basketball Men's Basketball   NaN\n",
            "1            2                  A Lamusi   M  23.0   170.0    60.0           China  CHN  2012 Summer  2012  Summer          London           Judo              Judo Men's Extra-Lightweight   NaN\n",
            "2            3       Gunnar Nielsen Aaby   M  24.0     NaN     NaN         Denmark  DEN  1920 Summer  1920  Summer       Antwerpen       Football                   Football Men's Football   NaN\n",
            "3            4      Edgar Lindenau Aabye   M  34.0     NaN     NaN  Denmark/Sweden  DEN  1900 Summer  1900  Summer           Paris     Tug-Of-War               Tug-Of-War Men's Tug-Of-War  Gold\n",
            "4            5  Christine Jacoba Aaftink   F  21.0   185.0    82.0     Netherlands  NED  1988 Winter  1988  Winter         Calgary  Speed Skating          Speed Skating Women's 500 metres   NaN\n",
            "...        ...                       ...  ..   ...     ...     ...             ...  ...          ...   ...     ...             ...            ...                                       ...   ...\n",
            "271111  135569                Andrzej ya   M  29.0   179.0    89.0        Poland-1  POL  1976 Winter  1976  Winter       Innsbruck           Luge                Luge Mixed (Men)'s Doubles   NaN\n",
            "271112  135570                  Piotr ya   M  27.0   176.0    59.0          Poland  POL  2014 Winter  2014  Winter           Sochi    Ski Jumping  Ski Jumping Men's Large Hill, Individual   NaN\n",
            "271113  135570                  Piotr ya   M  27.0   176.0    59.0          Poland  POL  2014 Winter  2014  Winter           Sochi    Ski Jumping        Ski Jumping Men's Large Hill, Team   NaN\n",
            "271114  135571        Tomasz Ireneusz ya   M  30.0   185.0    96.0          Poland  POL  1998 Winter  1998  Winter          Nagano      Bobsleigh                      Bobsleigh Men's Four   NaN\n",
            "271115  135571        Tomasz Ireneusz ya   M  34.0   185.0    96.0          Poland  POL  2002 Winter  2002  Winter  Salt Lake City      Bobsleigh                      Bobsleigh Men's Four   NaN\n",
            "\n",
            "[271116 rows x 15 columns]\n"
          ],
          "name": "stdout"
        }
      ]
    },
    {
      "cell_type": "markdown",
      "metadata": {
        "id": "ctb6wiGM4zOW"
      },
      "source": [
        "## Get the list of columns we have in our dataframe"
      ]
    },
    {
      "cell_type": "code",
      "metadata": {
        "colab": {
          "base_uri": "https://localhost:8080/"
        },
        "id": "abzwLSD542nJ",
        "outputId": "c753fa8d-76c5-4c6e-a5a4-0ce96cad0027"
      },
      "source": [
        "print(athelete_events_df.columns)"
      ],
      "execution_count": 15,
      "outputs": [
        {
          "output_type": "stream",
          "text": [
            "Index(['ID', 'Name', 'Sex', 'Age', 'Height', 'Weight', 'Team', 'NOC', 'Games', 'Year', 'Season', 'City', 'Sport', 'Event', 'Medal'], dtype='object')\n"
          ],
          "name": "stdout"
        }
      ]
    },
    {
      "cell_type": "markdown",
      "metadata": {
        "id": "xNuuofft49gy"
      },
      "source": [
        "As saved in our athelete data dictionary file, we have following columns and their explaination"
      ]
    },
    {
      "cell_type": "code",
      "metadata": {
        "colab": {
          "base_uri": "https://localhost:8080/"
        },
        "id": "R0oPJUmT5F8y",
        "outputId": "26e6d951-4300-40c4-a2d2-d927582f885a"
      },
      "source": [
        "print(athelete_definition_data_dictionary_df)"
      ],
      "execution_count": 16,
      "outputs": [
        {
          "output_type": "stream",
          "text": [
            "     Field                               Description\n",
            "0       ID            Unique number for each athlete\n",
            "1     Name                            Athlete's name\n",
            "2      Sex                    Male (M) or Female (F)\n",
            "3      Age                                   Integer\n",
            "4   Height                            In centimeters\n",
            "5   Weight                              In kilograms\n",
            "6     Team                                 Team name\n",
            "7      NOC  National Olympic Committee 3-letter code\n",
            "8    Games                           Year and season\n",
            "9     Year                                   Integer\n",
            "10  Season                          Summer or Winter\n",
            "11    City                                 Host city\n",
            "12   Sport                                     Sport\n",
            "13   Event                                     Event\n",
            "14   Medal               Gold, Silver, Bronze, or NA\n"
          ],
          "name": "stdout"
        }
      ]
    },
    {
      "cell_type": "markdown",
      "metadata": {
        "id": "LIJf6P5a5Wqn"
      },
      "source": [
        "## Get basic information on the dataframe "
      ]
    },
    {
      "cell_type": "code",
      "metadata": {
        "colab": {
          "base_uri": "https://localhost:8080/"
        },
        "id": "fNfV4Ic45ZS0",
        "outputId": "ea132756-a568-4e1f-d548-3d7f12a1238d"
      },
      "source": [
        "print(athelete_events_df.info())"
      ],
      "execution_count": 17,
      "outputs": [
        {
          "output_type": "stream",
          "text": [
            "<class 'pandas.core.frame.DataFrame'>\n",
            "RangeIndex: 271116 entries, 0 to 271115\n",
            "Data columns (total 15 columns):\n",
            " #   Column  Non-Null Count   Dtype  \n",
            "---  ------  --------------   -----  \n",
            " 0   ID      271116 non-null  int64  \n",
            " 1   Name    271116 non-null  object \n",
            " 2   Sex     271116 non-null  object \n",
            " 3   Age     261642 non-null  float64\n",
            " 4   Height  210945 non-null  float64\n",
            " 5   Weight  208241 non-null  float64\n",
            " 6   Team    271116 non-null  object \n",
            " 7   NOC     271116 non-null  object \n",
            " 8   Games   271116 non-null  object \n",
            " 9   Year    271116 non-null  int64  \n",
            " 10  Season  271116 non-null  object \n",
            " 11  City    271116 non-null  object \n",
            " 12  Sport   271116 non-null  object \n",
            " 13  Event   271116 non-null  object \n",
            " 14  Medal   39783 non-null   object \n",
            "dtypes: float64(3), int64(2), object(10)\n",
            "memory usage: 31.0+ MB\n",
            "None\n"
          ],
          "name": "stdout"
        }
      ]
    },
    {
      "cell_type": "markdown",
      "metadata": {
        "id": "K7Hij9dT5rGr"
      },
      "source": [
        "AS shown above we can get following insights from the dataframe \n",
        "- We have 271116 records in total\n",
        "- Size of dataframe - 31 MB \n",
        "- Majority of columns in our dataframe has no missing values. We can see Age, Height, Weight, and Medal having missing or NAN values# \n"
      ]
    },
    {
      "cell_type": "markdown",
      "metadata": {
        "id": "0S2Q8ZGd8g_d"
      },
      "source": [
        "## Get basic statistics on the numerical columns of the dataframe"
      ]
    },
    {
      "cell_type": "code",
      "metadata": {
        "colab": {
          "base_uri": "https://localhost:8080/"
        },
        "id": "a7Q8_ec58gHq",
        "outputId": "8c63d214-720f-4730-8dba-aa422e560984"
      },
      "source": [
        "print(athelete_events_df.describe())"
      ],
      "execution_count": 18,
      "outputs": [
        {
          "output_type": "stream",
          "text": [
            "                  ID            Age         Height         Weight           Year\n",
            "count  271116.000000  261642.000000  210945.000000  208241.000000  271116.000000\n",
            "mean    68248.954396      25.556898     175.338970      70.702393    1978.378480\n",
            "std     39022.286345       6.393561      10.518462      14.348020      29.877632\n",
            "min         1.000000      10.000000     127.000000      25.000000    1896.000000\n",
            "25%     34643.000000      21.000000     168.000000      60.000000    1960.000000\n",
            "50%     68205.000000      24.000000     175.000000      70.000000    1988.000000\n",
            "75%    102097.250000      28.000000     183.000000      79.000000    2002.000000\n",
            "max    135571.000000      97.000000     226.000000     214.000000    2016.000000\n"
          ],
          "name": "stdout"
        }
      ]
    },
    {
      "cell_type": "markdown",
      "metadata": {
        "id": "Y7rpeiA_8qy_"
      },
      "source": [
        "Based on the above outcome we have following stats - \n",
        "- Average age of an athelete is 25.5 years \n",
        "- **Min age of an athelete is 10 years - Wow! I never thought that an athelete of 10 years also participated in olympics. We will find more about it later **\n",
        "- **Max age of an athelete is 97 years - Another surprise. It this really the right data ?**\n",
        "- 75% of atheletes had age around 28 years \n",
        "\n",
        "\n",
        "We have similiar interesting insights on height and weight as well and two to highlight are - \n",
        "- Max weight of an athelete in our data is 214 KG\n",
        "- Min weight of an athelete in our data is 25 KG "
      ]
    },
    {
      "cell_type": "markdown",
      "metadata": {
        "id": "9VICy3yM9m73"
      },
      "source": [
        "**We already got a few interesting insights on age and height**. Let us go ahead and ask more questions to this data"
      ]
    },
    {
      "cell_type": "markdown",
      "metadata": {
        "id": "ZyPIgQkK-WtG"
      },
      "source": [
        "#Let us question our data\n",
        "\n",
        "## How many males and females appeared in Olympics ?"
      ]
    },
    {
      "cell_type": "code",
      "metadata": {
        "colab": {
          "base_uri": "https://localhost:8080/"
        },
        "id": "gmeQAW-j-kW1",
        "outputId": "4f2660dc-c8e8-49aa-e092-0095b0fd4adf"
      },
      "source": [
        "males_count = athelete_events_df[athelete_events_df[\"Sex\"] == \"M\"][\"Sex\"].count()\n",
        "females_count = athelete_events_df[athelete_events_df[\"Sex\"] == \"F\"][\"Sex\"].count()\n",
        "\n",
        "print(\"Number of males - \", males_count)\n",
        "print(\"Number of females - \", females_count)"
      ],
      "execution_count": 19,
      "outputs": [
        {
          "output_type": "stream",
          "text": [
            "Number of males -  196594\n",
            "Number of females -  74522\n"
          ],
          "name": "stdout"
        }
      ]
    },
    {
      "cell_type": "code",
      "metadata": {
        "colab": {
          "base_uri": "https://localhost:8080/"
        },
        "id": "1SlIX6tEA_k1",
        "outputId": "8a5241d3-d838-4ddd-cf97-98ce0f38eb05"
      },
      "source": [
        "percent_of_males = males_count / (males_count + females_count)\n",
        "percent_of_females = females_count / (males_count + females_count)\n",
        "\n",
        "print(\"Males % - \", percent_of_males)\n",
        "print(\"Females % - \", percent_of_females)"
      ],
      "execution_count": 21,
      "outputs": [
        {
          "output_type": "stream",
          "text": [
            "Males % -  0.7251287271868868\n",
            "Females % -  0.2748712728131132\n"
          ],
          "name": "stdout"
        }
      ]
    },
    {
      "cell_type": "code",
      "metadata": {
        "colab": {
          "base_uri": "https://localhost:8080/",
          "height": 280
        },
        "id": "dxhjXGt1_VIV",
        "outputId": "03c978e6-eea9-4d54-d588-8503f9a4b639"
      },
      "source": [
        "#Let us plot a graph\n",
        "sns.countplot(x = 'Sex', data = athelete_events_df);"
      ],
      "execution_count": 20,
      "outputs": [
        {
          "output_type": "display_data",
          "data": {
            "image/png": "[encoded data removed]",
            "text/plain": [
              "<Figure size 432x288 with 1 Axes>"
            ]
          },
          "metadata": {
            "tags": []
          }
        }
      ]
    },
    {
      "cell_type": "markdown",
      "metadata": {
        "id": "QQuL0kiwAmKE"
      },
      "source": [
        "As shown above we have 196,594 males and 74,522 females in our olympics dataset and there is a count plot showing the same. "
      ]
    },
    {
      "cell_type": "markdown",
      "metadata": {
        "id": "3wBaUq6ODSB1"
      },
      "source": [
        "## Which athelete appeared in Olympics for most of the time ?"
      ]
    },
    {
      "cell_type": "code",
      "metadata": {
        "colab": {
          "base_uri": "https://localhost:8080/"
        },
        "id": "8k5gwTdkCF1c",
        "outputId": "bc8277d7-1edf-4a52-c1f0-0cee9fa161f3"
      },
      "source": [
        "#Get the count of each athelete in our dataframe\n",
        "athelete_events_df['Name'].value_counts()"
      ],
      "execution_count": 33,
      "outputs": [
        {
          "output_type": "execute_result",
          "data": {
            "text/plain": [
              "Robert Tait McKenzie            58\n",
              "Heikki Ilmari Savolainen        39\n",
              "Joseph \"Josy\" Stoffel           38\n",
              "Ioannis Theofilakis             36\n",
              "Takashi Ono                     33\n",
              "                                ..\n",
              "Tatyana Vasilyevna Kalmykova     1\n",
              "Mariya Lvovna Kalmykova          1\n",
              "Christine Kalmer                 1\n",
              "Joannis \"Jannis\" Kalmazidis      1\n",
              "Pierre-Georges LeClercq          1\n",
              "Name: Name, Length: 134732, dtype: int64"
            ]
          },
          "metadata": {
            "tags": []
          },
          "execution_count": 33
        }
      ]
    },
    {
      "cell_type": "code",
      "metadata": {
        "colab": {
          "base_uri": "https://localhost:8080/"
        },
        "id": "ZypEhEixDjzp",
        "outputId": "09afc1fe-2301-4cf8-bed7-440694f93eab"
      },
      "source": [
        "#Get the max count from our previous records \n",
        "max_appearances = athelete_events_df[\"Name\"].value_counts().max();\n",
        "print(\"Maximum number of appearences - \", max_appearances)"
      ],
      "execution_count": 39,
      "outputs": [
        {
          "output_type": "stream",
          "text": [
            "Maximum number of appearences -  58\n"
          ],
          "name": "stdout"
        }
      ]
    },
    {
      "cell_type": "markdown",
      "metadata": {
        "id": "VLEQh4W3Fddx"
      },
      "source": [
        "We can copy the name of the athelete and use it in the below form to get details of that specific athelete who appeared for max number of times "
      ]
    },
    {
      "cell_type": "code",
      "metadata": {
        "colab": {
          "base_uri": "https://localhost:8080/",
          "height": 1000
        },
        "id": "SP5YUAdBEOBz",
        "outputId": "992b8d53-f72a-40c0-b7b8-54eabba9b484"
      },
      "source": [
        "# Get the details of an athelete who appeared most number of times \n",
        "athelete_events_df[athelete_events_df[\"Name\"] == \"Robert Tait McKenzie\"]"
      ],
      "execution_count": 51,
      "outputs": [
        {
          "output_type": "execute_result",
          "data": {
            "text/html": [
              "<div>\n",
              "<style scoped>\n",
              "    .dataframe tbody tr th:only-of-type {\n",
              "        vertical-align: middle;\n",
              "    }\n",
              "\n",
              "    .dataframe tbody tr th {\n",
              "        vertical-align: top;\n",
              "    }\n",
              "\n",
              "    .dataframe thead th {\n",
              "        text-align: right;\n",
              "    }\n",
              "</style>\n",
              "<table border=\"1\" class=\"dataframe\">\n",
              "  <thead>\n",
              "    <tr style=\"text-align: right;\">\n",
              "      <th></th>\n",
              "      <th>ID</th>\n",
              "      <th>Name</th>\n",
              "      <th>Sex</th>\n",
              "      <th>Age</th>\n",
              "      <th>Height</th>\n",
              "      <th>Weight</th>\n",
              "      <th>Team</th>\n",
              "      <th>NOC</th>\n",
              "      <th>Games</th>\n",
              "      <th>Year</th>\n",
              "      <th>Season</th>\n",
              "      <th>City</th>\n",
              "      <th>Sport</th>\n",
              "      <th>Event</th>\n",
              "      <th>Medal</th>\n",
              "    </tr>\n",
              "  </thead>\n",
              "  <tbody>\n",
              "    <tr>\n",
              "      <th>154798</th>\n",
              "      <td>77710</td>\n",
              "      <td>Robert Tait McKenzie</td>\n",
              "      <td>M</td>\n",
              "      <td>44.0</td>\n",
              "      <td>NaN</td>\n",
              "      <td>NaN</td>\n",
              "      <td>Canada</td>\n",
              "      <td>CAN</td>\n",
              "      <td>1912 Summer</td>\n",
              "      <td>1912</td>\n",
              "      <td>Summer</td>\n",
              "      <td>Stockholm</td>\n",
              "      <td>Art Competitions</td>\n",
              "      <td>Art Competitions Mixed Sculpturing</td>\n",
              "      <td>NaN</td>\n",
              "    </tr>\n",
              "    <tr>\n",
              "      <th>154799</th>\n",
              "      <td>77710</td>\n",
              "      <td>Robert Tait McKenzie</td>\n",
              "      <td>M</td>\n",
              "      <td>60.0</td>\n",
              "      <td>NaN</td>\n",
              "      <td>NaN</td>\n",
              "      <td>Canada</td>\n",
              "      <td>CAN</td>\n",
              "      <td>1928 Summer</td>\n",
              "      <td>1928</td>\n",
              "      <td>Summer</td>\n",
              "      <td>Amsterdam</td>\n",
              "      <td>Art Competitions</td>\n",
              "      <td>Art Competitions Mixed Sculpturing, Statues</td>\n",
              "      <td>NaN</td>\n",
              "    </tr>\n",
              "    <tr>\n",
              "      <th>154800</th>\n",
              "      <td>77710</td>\n",
              "      <td>Robert Tait McKenzie</td>\n",
              "      <td>M</td>\n",
              "      <td>60.0</td>\n",
              "      <td>NaN</td>\n",
              "      <td>NaN</td>\n",
              "      <td>Canada</td>\n",
              "      <td>CAN</td>\n",
              "      <td>1928 Summer</td>\n",
              "      <td>1928</td>\n",
              "      <td>Summer</td>\n",
              "      <td>Amsterdam</td>\n",
              "      <td>Art Competitions</td>\n",
              "      <td>Art Competitions Mixed Sculpturing, Statues</td>\n",
              "      <td>NaN</td>\n",
              "    </tr>\n",
              "    <tr>\n",
              "      <th>154801</th>\n",
              "      <td>77710</td>\n",
              "      <td>Robert Tait McKenzie</td>\n",
              "      <td>M</td>\n",
              "      <td>60.0</td>\n",
              "      <td>NaN</td>\n",
              "      <td>NaN</td>\n",
              "      <td>Canada</td>\n",
              "      <td>CAN</td>\n",
              "      <td>1928 Summer</td>\n",
              "      <td>1928</td>\n",
              "      <td>Summer</td>\n",
              "      <td>Amsterdam</td>\n",
              "      <td>Art Competitions</td>\n",
              "      <td>Art Competitions Mixed Sculpturing, Statues</td>\n",
              "      <td>NaN</td>\n",
              "    </tr>\n",
              "    <tr>\n",
              "      <th>154802</th>\n",
              "      <td>77710</td>\n",
              "      <td>Robert Tait McKenzie</td>\n",
              "      <td>M</td>\n",
              "      <td>60.0</td>\n",
              "      <td>NaN</td>\n",
              "      <td>NaN</td>\n",
              "      <td>Canada</td>\n",
              "      <td>CAN</td>\n",
              "      <td>1928 Summer</td>\n",
              "      <td>1928</td>\n",
              "      <td>Summer</td>\n",
              "      <td>Amsterdam</td>\n",
              "      <td>Art Competitions</td>\n",
              "      <td>Art Competitions Mixed Sculpturing, Statues</td>\n",
              "      <td>NaN</td>\n",
              "    </tr>\n",
              "    <tr>\n",
              "      <th>154803</th>\n",
              "      <td>77710</td>\n",
              "      <td>Robert Tait McKenzie</td>\n",
              "      <td>M</td>\n",
              "      <td>60.0</td>\n",
              "      <td>NaN</td>\n",
              "      <td>NaN</td>\n",
              "      <td>Canada</td>\n",
              "      <td>CAN</td>\n",
              "      <td>1928 Summer</td>\n",
              "      <td>1928</td>\n",
              "      <td>Summer</td>\n",
              "      <td>Amsterdam</td>\n",
              "      <td>Art Competitions</td>\n",
              "      <td>Art Competitions Mixed Sculpturing, Statues</td>\n",
              "      <td>NaN</td>\n",
              "    </tr>\n",
              "    <tr>\n",
              "      <th>154804</th>\n",
              "      <td>77710</td>\n",
              "      <td>Robert Tait McKenzie</td>\n",
              "      <td>M</td>\n",
              "      <td>60.0</td>\n",
              "      <td>NaN</td>\n",
              "      <td>NaN</td>\n",
              "      <td>Canada</td>\n",
              "      <td>CAN</td>\n",
              "      <td>1928 Summer</td>\n",
              "      <td>1928</td>\n",
              "      <td>Summer</td>\n",
              "      <td>Amsterdam</td>\n",
              "      <td>Art Competitions</td>\n",
              "      <td>Art Competitions Mixed Sculpturing, Statues</td>\n",
              "      <td>NaN</td>\n",
              "    </tr>\n",
              "    <tr>\n",
              "      <th>154805</th>\n",
              "      <td>77710</td>\n",
              "      <td>Robert Tait McKenzie</td>\n",
              "      <td>M</td>\n",
              "      <td>60.0</td>\n",
              "      <td>NaN</td>\n",
              "      <td>NaN</td>\n",
              "      <td>Canada</td>\n",
              "      <td>CAN</td>\n",
              "      <td>1928 Summer</td>\n",
              "      <td>1928</td>\n",
              "      <td>Summer</td>\n",
              "      <td>Amsterdam</td>\n",
              "      <td>Art Competitions</td>\n",
              "      <td>Art Competitions Mixed Sculpturing, Statues</td>\n",
              "      <td>NaN</td>\n",
              "    </tr>\n",
              "    <tr>\n",
              "      <th>154806</th>\n",
              "      <td>77710</td>\n",
              "      <td>Robert Tait McKenzie</td>\n",
              "      <td>M</td>\n",
              "      <td>65.0</td>\n",
              "      <td>NaN</td>\n",
              "      <td>NaN</td>\n",
              "      <td>Canada</td>\n",
              "      <td>CAN</td>\n",
              "      <td>1932 Summer</td>\n",
              "      <td>1932</td>\n",
              "      <td>Summer</td>\n",
              "      <td>Los Angeles</td>\n",
              "      <td>Art Competitions</td>\n",
              "      <td>Art Competitions Mixed Sculpturing, Medals And...</td>\n",
              "      <td>Bronze</td>\n",
              "    </tr>\n",
              "    <tr>\n",
              "      <th>154807</th>\n",
              "      <td>77710</td>\n",
              "      <td>Robert Tait McKenzie</td>\n",
              "      <td>M</td>\n",
              "      <td>65.0</td>\n",
              "      <td>NaN</td>\n",
              "      <td>NaN</td>\n",
              "      <td>Canada</td>\n",
              "      <td>CAN</td>\n",
              "      <td>1932 Summer</td>\n",
              "      <td>1932</td>\n",
              "      <td>Summer</td>\n",
              "      <td>Los Angeles</td>\n",
              "      <td>Art Competitions</td>\n",
              "      <td>Art Competitions Mixed Sculpturing, Unknown Event</td>\n",
              "      <td>NaN</td>\n",
              "    </tr>\n",
              "    <tr>\n",
              "      <th>154808</th>\n",
              "      <td>77710</td>\n",
              "      <td>Robert Tait McKenzie</td>\n",
              "      <td>M</td>\n",
              "      <td>65.0</td>\n",
              "      <td>NaN</td>\n",
              "      <td>NaN</td>\n",
              "      <td>Canada</td>\n",
              "      <td>CAN</td>\n",
              "      <td>1932 Summer</td>\n",
              "      <td>1932</td>\n",
              "      <td>Summer</td>\n",
              "      <td>Los Angeles</td>\n",
              "      <td>Art Competitions</td>\n",
              "      <td>Art Competitions Mixed Sculpturing, Unknown Event</td>\n",
              "      <td>NaN</td>\n",
              "    </tr>\n",
              "    <tr>\n",
              "      <th>154809</th>\n",
              "      <td>77710</td>\n",
              "      <td>Robert Tait McKenzie</td>\n",
              "      <td>M</td>\n",
              "      <td>65.0</td>\n",
              "      <td>NaN</td>\n",
              "      <td>NaN</td>\n",
              "      <td>Canada</td>\n",
              "      <td>CAN</td>\n",
              "      <td>1932 Summer</td>\n",
              "      <td>1932</td>\n",
              "      <td>Summer</td>\n",
              "      <td>Los Angeles</td>\n",
              "      <td>Art Competitions</td>\n",
              "      <td>Art Competitions Mixed Sculpturing, Unknown Event</td>\n",
              "      <td>NaN</td>\n",
              "    </tr>\n",
              "    <tr>\n",
              "      <th>154810</th>\n",
              "      <td>77710</td>\n",
              "      <td>Robert Tait McKenzie</td>\n",
              "      <td>M</td>\n",
              "      <td>65.0</td>\n",
              "      <td>NaN</td>\n",
              "      <td>NaN</td>\n",
              "      <td>Canada</td>\n",
              "      <td>CAN</td>\n",
              "      <td>1932 Summer</td>\n",
              "      <td>1932</td>\n",
              "      <td>Summer</td>\n",
              "      <td>Los Angeles</td>\n",
              "      <td>Art Competitions</td>\n",
              "      <td>Art Competitions Mixed Sculpturing, Unknown Event</td>\n",
              "      <td>NaN</td>\n",
              "    </tr>\n",
              "    <tr>\n",
              "      <th>154811</th>\n",
              "      <td>77710</td>\n",
              "      <td>Robert Tait McKenzie</td>\n",
              "      <td>M</td>\n",
              "      <td>65.0</td>\n",
              "      <td>NaN</td>\n",
              "      <td>NaN</td>\n",
              "      <td>Canada</td>\n",
              "      <td>CAN</td>\n",
              "      <td>1932 Summer</td>\n",
              "      <td>1932</td>\n",
              "      <td>Summer</td>\n",
              "      <td>Los Angeles</td>\n",
              "      <td>Art Competitions</td>\n",
              "      <td>Art Competitions Mixed Sculpturing, Unknown Event</td>\n",
              "      <td>NaN</td>\n",
              "    </tr>\n",
              "    <tr>\n",
              "      <th>154812</th>\n",
              "      <td>77710</td>\n",
              "      <td>Robert Tait McKenzie</td>\n",
              "      <td>M</td>\n",
              "      <td>65.0</td>\n",
              "      <td>NaN</td>\n",
              "      <td>NaN</td>\n",
              "      <td>Canada</td>\n",
              "      <td>CAN</td>\n",
              "      <td>1932 Summer</td>\n",
              "      <td>1932</td>\n",
              "      <td>Summer</td>\n",
              "      <td>Los Angeles</td>\n",
              "      <td>Art Competitions</td>\n",
              "      <td>Art Competitions Mixed Sculpturing, Unknown Event</td>\n",
              "      <td>NaN</td>\n",
              "    </tr>\n",
              "    <tr>\n",
              "      <th>154813</th>\n",
              "      <td>77710</td>\n",
              "      <td>Robert Tait McKenzie</td>\n",
              "      <td>M</td>\n",
              "      <td>65.0</td>\n",
              "      <td>NaN</td>\n",
              "      <td>NaN</td>\n",
              "      <td>Canada</td>\n",
              "      <td>CAN</td>\n",
              "      <td>1932 Summer</td>\n",
              "      <td>1932</td>\n",
              "      <td>Summer</td>\n",
              "      <td>Los Angeles</td>\n",
              "      <td>Art Competitions</td>\n",
              "      <td>Art Competitions Mixed Sculpturing, Unknown Event</td>\n",
              "      <td>NaN</td>\n",
              "    </tr>\n",
              "    <tr>\n",
              "      <th>154814</th>\n",
              "      <td>77710</td>\n",
              "      <td>Robert Tait McKenzie</td>\n",
              "      <td>M</td>\n",
              "      <td>65.0</td>\n",
              "      <td>NaN</td>\n",
              "      <td>NaN</td>\n",
              "      <td>Canada</td>\n",
              "      <td>CAN</td>\n",
              "      <td>1932 Summer</td>\n",
              "      <td>1932</td>\n",
              "      <td>Summer</td>\n",
              "      <td>Los Angeles</td>\n",
              "      <td>Art Competitions</td>\n",
              "      <td>Art Competitions Mixed Sculpturing, Unknown Event</td>\n",
              "      <td>NaN</td>\n",
              "    </tr>\n",
              "    <tr>\n",
              "      <th>154815</th>\n",
              "      <td>77710</td>\n",
              "      <td>Robert Tait McKenzie</td>\n",
              "      <td>M</td>\n",
              "      <td>65.0</td>\n",
              "      <td>NaN</td>\n",
              "      <td>NaN</td>\n",
              "      <td>Canada</td>\n",
              "      <td>CAN</td>\n",
              "      <td>1932 Summer</td>\n",
              "      <td>1932</td>\n",
              "      <td>Summer</td>\n",
              "      <td>Los Angeles</td>\n",
              "      <td>Art Competitions</td>\n",
              "      <td>Art Competitions Mixed Sculpturing, Unknown Event</td>\n",
              "      <td>NaN</td>\n",
              "    </tr>\n",
              "    <tr>\n",
              "      <th>154816</th>\n",
              "      <td>77710</td>\n",
              "      <td>Robert Tait McKenzie</td>\n",
              "      <td>M</td>\n",
              "      <td>65.0</td>\n",
              "      <td>NaN</td>\n",
              "      <td>NaN</td>\n",
              "      <td>Canada</td>\n",
              "      <td>CAN</td>\n",
              "      <td>1932 Summer</td>\n",
              "      <td>1932</td>\n",
              "      <td>Summer</td>\n",
              "      <td>Los Angeles</td>\n",
              "      <td>Art Competitions</td>\n",
              "      <td>Art Competitions Mixed Sculpturing, Unknown Event</td>\n",
              "      <td>NaN</td>\n",
              "    </tr>\n",
              "    <tr>\n",
              "      <th>154817</th>\n",
              "      <td>77710</td>\n",
              "      <td>Robert Tait McKenzie</td>\n",
              "      <td>M</td>\n",
              "      <td>65.0</td>\n",
              "      <td>NaN</td>\n",
              "      <td>NaN</td>\n",
              "      <td>Canada</td>\n",
              "      <td>CAN</td>\n",
              "      <td>1932 Summer</td>\n",
              "      <td>1932</td>\n",
              "      <td>Summer</td>\n",
              "      <td>Los Angeles</td>\n",
              "      <td>Art Competitions</td>\n",
              "      <td>Art Competitions Mixed Sculpturing, Unknown Event</td>\n",
              "      <td>NaN</td>\n",
              "    </tr>\n",
              "    <tr>\n",
              "      <th>154818</th>\n",
              "      <td>77710</td>\n",
              "      <td>Robert Tait McKenzie</td>\n",
              "      <td>M</td>\n",
              "      <td>65.0</td>\n",
              "      <td>NaN</td>\n",
              "      <td>NaN</td>\n",
              "      <td>Canada</td>\n",
              "      <td>CAN</td>\n",
              "      <td>1932 Summer</td>\n",
              "      <td>1932</td>\n",
              "      <td>Summer</td>\n",
              "      <td>Los Angeles</td>\n",
              "      <td>Art Competitions</td>\n",
              "      <td>Art Competitions Mixed Sculpturing, Unknown Event</td>\n",
              "      <td>NaN</td>\n",
              "    </tr>\n",
              "    <tr>\n",
              "      <th>154819</th>\n",
              "      <td>77710</td>\n",
              "      <td>Robert Tait McKenzie</td>\n",
              "      <td>M</td>\n",
              "      <td>65.0</td>\n",
              "      <td>NaN</td>\n",
              "      <td>NaN</td>\n",
              "      <td>Canada</td>\n",
              "      <td>CAN</td>\n",
              "      <td>1932 Summer</td>\n",
              "      <td>1932</td>\n",
              "      <td>Summer</td>\n",
              "      <td>Los Angeles</td>\n",
              "      <td>Art Competitions</td>\n",
              "      <td>Art Competitions Mixed Sculpturing, Unknown Event</td>\n",
              "      <td>NaN</td>\n",
              "    </tr>\n",
              "    <tr>\n",
              "      <th>154820</th>\n",
              "      <td>77710</td>\n",
              "      <td>Robert Tait McKenzie</td>\n",
              "      <td>M</td>\n",
              "      <td>65.0</td>\n",
              "      <td>NaN</td>\n",
              "      <td>NaN</td>\n",
              "      <td>Canada</td>\n",
              "      <td>CAN</td>\n",
              "      <td>1932 Summer</td>\n",
              "      <td>1932</td>\n",
              "      <td>Summer</td>\n",
              "      <td>Los Angeles</td>\n",
              "      <td>Art Competitions</td>\n",
              "      <td>Art Competitions Mixed Sculpturing, Unknown Event</td>\n",
              "      <td>NaN</td>\n",
              "    </tr>\n",
              "    <tr>\n",
              "      <th>154821</th>\n",
              "      <td>77710</td>\n",
              "      <td>Robert Tait McKenzie</td>\n",
              "      <td>M</td>\n",
              "      <td>65.0</td>\n",
              "      <td>NaN</td>\n",
              "      <td>NaN</td>\n",
              "      <td>Canada</td>\n",
              "      <td>CAN</td>\n",
              "      <td>1932 Summer</td>\n",
              "      <td>1932</td>\n",
              "      <td>Summer</td>\n",
              "      <td>Los Angeles</td>\n",
              "      <td>Art Competitions</td>\n",
              "      <td>Art Competitions Mixed Sculpturing, Unknown Event</td>\n",
              "      <td>NaN</td>\n",
              "    </tr>\n",
              "    <tr>\n",
              "      <th>154822</th>\n",
              "      <td>77710</td>\n",
              "      <td>Robert Tait McKenzie</td>\n",
              "      <td>M</td>\n",
              "      <td>65.0</td>\n",
              "      <td>NaN</td>\n",
              "      <td>NaN</td>\n",
              "      <td>Canada</td>\n",
              "      <td>CAN</td>\n",
              "      <td>1932 Summer</td>\n",
              "      <td>1932</td>\n",
              "      <td>Summer</td>\n",
              "      <td>Los Angeles</td>\n",
              "      <td>Art Competitions</td>\n",
              "      <td>Art Competitions Mixed Sculpturing, Unknown Event</td>\n",
              "      <td>NaN</td>\n",
              "    </tr>\n",
              "    <tr>\n",
              "      <th>154823</th>\n",
              "      <td>77710</td>\n",
              "      <td>Robert Tait McKenzie</td>\n",
              "      <td>M</td>\n",
              "      <td>65.0</td>\n",
              "      <td>NaN</td>\n",
              "      <td>NaN</td>\n",
              "      <td>Canada</td>\n",
              "      <td>CAN</td>\n",
              "      <td>1932 Summer</td>\n",
              "      <td>1932</td>\n",
              "      <td>Summer</td>\n",
              "      <td>Los Angeles</td>\n",
              "      <td>Art Competitions</td>\n",
              "      <td>Art Competitions Mixed Sculpturing, Unknown Event</td>\n",
              "      <td>NaN</td>\n",
              "    </tr>\n",
              "    <tr>\n",
              "      <th>154824</th>\n",
              "      <td>77710</td>\n",
              "      <td>Robert Tait McKenzie</td>\n",
              "      <td>M</td>\n",
              "      <td>65.0</td>\n",
              "      <td>NaN</td>\n",
              "      <td>NaN</td>\n",
              "      <td>Canada</td>\n",
              "      <td>CAN</td>\n",
              "      <td>1932 Summer</td>\n",
              "      <td>1932</td>\n",
              "      <td>Summer</td>\n",
              "      <td>Los Angeles</td>\n",
              "      <td>Art Competitions</td>\n",
              "      <td>Art Competitions Mixed Sculpturing, Unknown Event</td>\n",
              "      <td>NaN</td>\n",
              "    </tr>\n",
              "    <tr>\n",
              "      <th>154825</th>\n",
              "      <td>77710</td>\n",
              "      <td>Robert Tait McKenzie</td>\n",
              "      <td>M</td>\n",
              "      <td>65.0</td>\n",
              "      <td>NaN</td>\n",
              "      <td>NaN</td>\n",
              "      <td>Canada</td>\n",
              "      <td>CAN</td>\n",
              "      <td>1932 Summer</td>\n",
              "      <td>1932</td>\n",
              "      <td>Summer</td>\n",
              "      <td>Los Angeles</td>\n",
              "      <td>Art Competitions</td>\n",
              "      <td>Art Competitions Mixed Sculpturing, Unknown Event</td>\n",
              "      <td>NaN</td>\n",
              "    </tr>\n",
              "    <tr>\n",
              "      <th>154826</th>\n",
              "      <td>77710</td>\n",
              "      <td>Robert Tait McKenzie</td>\n",
              "      <td>M</td>\n",
              "      <td>65.0</td>\n",
              "      <td>NaN</td>\n",
              "      <td>NaN</td>\n",
              "      <td>Canada</td>\n",
              "      <td>CAN</td>\n",
              "      <td>1932 Summer</td>\n",
              "      <td>1932</td>\n",
              "      <td>Summer</td>\n",
              "      <td>Los Angeles</td>\n",
              "      <td>Art Competitions</td>\n",
              "      <td>Art Competitions Mixed Sculpturing, Unknown Event</td>\n",
              "      <td>NaN</td>\n",
              "    </tr>\n",
              "    <tr>\n",
              "      <th>154827</th>\n",
              "      <td>77710</td>\n",
              "      <td>Robert Tait McKenzie</td>\n",
              "      <td>M</td>\n",
              "      <td>65.0</td>\n",
              "      <td>NaN</td>\n",
              "      <td>NaN</td>\n",
              "      <td>Canada</td>\n",
              "      <td>CAN</td>\n",
              "      <td>1932 Summer</td>\n",
              "      <td>1932</td>\n",
              "      <td>Summer</td>\n",
              "      <td>Los Angeles</td>\n",
              "      <td>Art Competitions</td>\n",
              "      <td>Art Competitions Mixed Sculpturing, Unknown Event</td>\n",
              "      <td>NaN</td>\n",
              "    </tr>\n",
              "    <tr>\n",
              "      <th>154828</th>\n",
              "      <td>77710</td>\n",
              "      <td>Robert Tait McKenzie</td>\n",
              "      <td>M</td>\n",
              "      <td>65.0</td>\n",
              "      <td>NaN</td>\n",
              "      <td>NaN</td>\n",
              "      <td>Canada</td>\n",
              "      <td>CAN</td>\n",
              "      <td>1932 Summer</td>\n",
              "      <td>1932</td>\n",
              "      <td>Summer</td>\n",
              "      <td>Los Angeles</td>\n",
              "      <td>Art Competitions</td>\n",
              "      <td>Art Competitions Mixed Sculpturing, Unknown Event</td>\n",
              "      <td>NaN</td>\n",
              "    </tr>\n",
              "    <tr>\n",
              "      <th>154829</th>\n",
              "      <td>77710</td>\n",
              "      <td>Robert Tait McKenzie</td>\n",
              "      <td>M</td>\n",
              "      <td>65.0</td>\n",
              "      <td>NaN</td>\n",
              "      <td>NaN</td>\n",
              "      <td>Canada</td>\n",
              "      <td>CAN</td>\n",
              "      <td>1932 Summer</td>\n",
              "      <td>1932</td>\n",
              "      <td>Summer</td>\n",
              "      <td>Los Angeles</td>\n",
              "      <td>Art Competitions</td>\n",
              "      <td>Art Competitions Mixed Sculpturing, Unknown Event</td>\n",
              "      <td>NaN</td>\n",
              "    </tr>\n",
              "    <tr>\n",
              "      <th>154830</th>\n",
              "      <td>77710</td>\n",
              "      <td>Robert Tait McKenzie</td>\n",
              "      <td>M</td>\n",
              "      <td>65.0</td>\n",
              "      <td>NaN</td>\n",
              "      <td>NaN</td>\n",
              "      <td>Canada</td>\n",
              "      <td>CAN</td>\n",
              "      <td>1932 Summer</td>\n",
              "      <td>1932</td>\n",
              "      <td>Summer</td>\n",
              "      <td>Los Angeles</td>\n",
              "      <td>Art Competitions</td>\n",
              "      <td>Art Competitions Mixed Sculpturing, Unknown Event</td>\n",
              "      <td>NaN</td>\n",
              "    </tr>\n",
              "    <tr>\n",
              "      <th>154831</th>\n",
              "      <td>77710</td>\n",
              "      <td>Robert Tait McKenzie</td>\n",
              "      <td>M</td>\n",
              "      <td>65.0</td>\n",
              "      <td>NaN</td>\n",
              "      <td>NaN</td>\n",
              "      <td>Canada</td>\n",
              "      <td>CAN</td>\n",
              "      <td>1932 Summer</td>\n",
              "      <td>1932</td>\n",
              "      <td>Summer</td>\n",
              "      <td>Los Angeles</td>\n",
              "      <td>Art Competitions</td>\n",
              "      <td>Art Competitions Mixed Sculpturing, Unknown Event</td>\n",
              "      <td>NaN</td>\n",
              "    </tr>\n",
              "    <tr>\n",
              "      <th>154832</th>\n",
              "      <td>77710</td>\n",
              "      <td>Robert Tait McKenzie</td>\n",
              "      <td>M</td>\n",
              "      <td>65.0</td>\n",
              "      <td>NaN</td>\n",
              "      <td>NaN</td>\n",
              "      <td>Canada</td>\n",
              "      <td>CAN</td>\n",
              "      <td>1932 Summer</td>\n",
              "      <td>1932</td>\n",
              "      <td>Summer</td>\n",
              "      <td>Los Angeles</td>\n",
              "      <td>Art Competitions</td>\n",
              "      <td>Art Competitions Mixed Sculpturing, Unknown Event</td>\n",
              "      <td>NaN</td>\n",
              "    </tr>\n",
              "    <tr>\n",
              "      <th>154833</th>\n",
              "      <td>77710</td>\n",
              "      <td>Robert Tait McKenzie</td>\n",
              "      <td>M</td>\n",
              "      <td>65.0</td>\n",
              "      <td>NaN</td>\n",
              "      <td>NaN</td>\n",
              "      <td>Canada</td>\n",
              "      <td>CAN</td>\n",
              "      <td>1932 Summer</td>\n",
              "      <td>1932</td>\n",
              "      <td>Summer</td>\n",
              "      <td>Los Angeles</td>\n",
              "      <td>Art Competitions</td>\n",
              "      <td>Art Competitions Mixed Sculpturing, Unknown Event</td>\n",
              "      <td>NaN</td>\n",
              "    </tr>\n",
              "    <tr>\n",
              "      <th>154834</th>\n",
              "      <td>77710</td>\n",
              "      <td>Robert Tait McKenzie</td>\n",
              "      <td>M</td>\n",
              "      <td>65.0</td>\n",
              "      <td>NaN</td>\n",
              "      <td>NaN</td>\n",
              "      <td>Canada</td>\n",
              "      <td>CAN</td>\n",
              "      <td>1932 Summer</td>\n",
              "      <td>1932</td>\n",
              "      <td>Summer</td>\n",
              "      <td>Los Angeles</td>\n",
              "      <td>Art Competitions</td>\n",
              "      <td>Art Competitions Mixed Sculpturing, Unknown Event</td>\n",
              "      <td>NaN</td>\n",
              "    </tr>\n",
              "    <tr>\n",
              "      <th>154835</th>\n",
              "      <td>77710</td>\n",
              "      <td>Robert Tait McKenzie</td>\n",
              "      <td>M</td>\n",
              "      <td>65.0</td>\n",
              "      <td>NaN</td>\n",
              "      <td>NaN</td>\n",
              "      <td>Canada</td>\n",
              "      <td>CAN</td>\n",
              "      <td>1932 Summer</td>\n",
              "      <td>1932</td>\n",
              "      <td>Summer</td>\n",
              "      <td>Los Angeles</td>\n",
              "      <td>Art Competitions</td>\n",
              "      <td>Art Competitions Mixed Sculpturing, Unknown Event</td>\n",
              "      <td>NaN</td>\n",
              "    </tr>\n",
              "    <tr>\n",
              "      <th>154836</th>\n",
              "      <td>77710</td>\n",
              "      <td>Robert Tait McKenzie</td>\n",
              "      <td>M</td>\n",
              "      <td>65.0</td>\n",
              "      <td>NaN</td>\n",
              "      <td>NaN</td>\n",
              "      <td>Canada</td>\n",
              "      <td>CAN</td>\n",
              "      <td>1932 Summer</td>\n",
              "      <td>1932</td>\n",
              "      <td>Summer</td>\n",
              "      <td>Los Angeles</td>\n",
              "      <td>Art Competitions</td>\n",
              "      <td>Art Competitions Mixed Sculpturing, Unknown Event</td>\n",
              "      <td>NaN</td>\n",
              "    </tr>\n",
              "    <tr>\n",
              "      <th>154837</th>\n",
              "      <td>77710</td>\n",
              "      <td>Robert Tait McKenzie</td>\n",
              "      <td>M</td>\n",
              "      <td>65.0</td>\n",
              "      <td>NaN</td>\n",
              "      <td>NaN</td>\n",
              "      <td>Canada</td>\n",
              "      <td>CAN</td>\n",
              "      <td>1932 Summer</td>\n",
              "      <td>1932</td>\n",
              "      <td>Summer</td>\n",
              "      <td>Los Angeles</td>\n",
              "      <td>Art Competitions</td>\n",
              "      <td>Art Competitions Mixed Sculpturing, Unknown Event</td>\n",
              "      <td>NaN</td>\n",
              "    </tr>\n",
              "    <tr>\n",
              "      <th>154838</th>\n",
              "      <td>77710</td>\n",
              "      <td>Robert Tait McKenzie</td>\n",
              "      <td>M</td>\n",
              "      <td>65.0</td>\n",
              "      <td>NaN</td>\n",
              "      <td>NaN</td>\n",
              "      <td>Canada</td>\n",
              "      <td>CAN</td>\n",
              "      <td>1932 Summer</td>\n",
              "      <td>1932</td>\n",
              "      <td>Summer</td>\n",
              "      <td>Los Angeles</td>\n",
              "      <td>Art Competitions</td>\n",
              "      <td>Art Competitions Mixed Sculpturing, Unknown Event</td>\n",
              "      <td>NaN</td>\n",
              "    </tr>\n",
              "    <tr>\n",
              "      <th>154839</th>\n",
              "      <td>77710</td>\n",
              "      <td>Robert Tait McKenzie</td>\n",
              "      <td>M</td>\n",
              "      <td>65.0</td>\n",
              "      <td>NaN</td>\n",
              "      <td>NaN</td>\n",
              "      <td>Canada</td>\n",
              "      <td>CAN</td>\n",
              "      <td>1932 Summer</td>\n",
              "      <td>1932</td>\n",
              "      <td>Summer</td>\n",
              "      <td>Los Angeles</td>\n",
              "      <td>Art Competitions</td>\n",
              "      <td>Art Competitions Mixed Sculpturing, Unknown Event</td>\n",
              "      <td>NaN</td>\n",
              "    </tr>\n",
              "    <tr>\n",
              "      <th>154840</th>\n",
              "      <td>77710</td>\n",
              "      <td>Robert Tait McKenzie</td>\n",
              "      <td>M</td>\n",
              "      <td>65.0</td>\n",
              "      <td>NaN</td>\n",
              "      <td>NaN</td>\n",
              "      <td>Canada</td>\n",
              "      <td>CAN</td>\n",
              "      <td>1932 Summer</td>\n",
              "      <td>1932</td>\n",
              "      <td>Summer</td>\n",
              "      <td>Los Angeles</td>\n",
              "      <td>Art Competitions</td>\n",
              "      <td>Art Competitions Mixed Sculpturing, Unknown Event</td>\n",
              "      <td>NaN</td>\n",
              "    </tr>\n",
              "    <tr>\n",
              "      <th>154841</th>\n",
              "      <td>77710</td>\n",
              "      <td>Robert Tait McKenzie</td>\n",
              "      <td>M</td>\n",
              "      <td>65.0</td>\n",
              "      <td>NaN</td>\n",
              "      <td>NaN</td>\n",
              "      <td>Canada</td>\n",
              "      <td>CAN</td>\n",
              "      <td>1932 Summer</td>\n",
              "      <td>1932</td>\n",
              "      <td>Summer</td>\n",
              "      <td>Los Angeles</td>\n",
              "      <td>Art Competitions</td>\n",
              "      <td>Art Competitions Mixed Sculpturing, Unknown Event</td>\n",
              "      <td>NaN</td>\n",
              "    </tr>\n",
              "    <tr>\n",
              "      <th>154842</th>\n",
              "      <td>77710</td>\n",
              "      <td>Robert Tait McKenzie</td>\n",
              "      <td>M</td>\n",
              "      <td>65.0</td>\n",
              "      <td>NaN</td>\n",
              "      <td>NaN</td>\n",
              "      <td>Canada</td>\n",
              "      <td>CAN</td>\n",
              "      <td>1932 Summer</td>\n",
              "      <td>1932</td>\n",
              "      <td>Summer</td>\n",
              "      <td>Los Angeles</td>\n",
              "      <td>Art Competitions</td>\n",
              "      <td>Art Competitions Mixed Sculpturing, Unknown Event</td>\n",
              "      <td>NaN</td>\n",
              "    </tr>\n",
              "    <tr>\n",
              "      <th>154843</th>\n",
              "      <td>77710</td>\n",
              "      <td>Robert Tait McKenzie</td>\n",
              "      <td>M</td>\n",
              "      <td>65.0</td>\n",
              "      <td>NaN</td>\n",
              "      <td>NaN</td>\n",
              "      <td>Canada</td>\n",
              "      <td>CAN</td>\n",
              "      <td>1932 Summer</td>\n",
              "      <td>1932</td>\n",
              "      <td>Summer</td>\n",
              "      <td>Los Angeles</td>\n",
              "      <td>Art Competitions</td>\n",
              "      <td>Art Competitions Mixed Sculpturing, Unknown Event</td>\n",
              "      <td>NaN</td>\n",
              "    </tr>\n",
              "    <tr>\n",
              "      <th>154844</th>\n",
              "      <td>77710</td>\n",
              "      <td>Robert Tait McKenzie</td>\n",
              "      <td>M</td>\n",
              "      <td>65.0</td>\n",
              "      <td>NaN</td>\n",
              "      <td>NaN</td>\n",
              "      <td>Canada</td>\n",
              "      <td>CAN</td>\n",
              "      <td>1932 Summer</td>\n",
              "      <td>1932</td>\n",
              "      <td>Summer</td>\n",
              "      <td>Los Angeles</td>\n",
              "      <td>Art Competitions</td>\n",
              "      <td>Art Competitions Mixed Sculpturing, Unknown Event</td>\n",
              "      <td>NaN</td>\n",
              "    </tr>\n",
              "    <tr>\n",
              "      <th>154845</th>\n",
              "      <td>77710</td>\n",
              "      <td>Robert Tait McKenzie</td>\n",
              "      <td>M</td>\n",
              "      <td>65.0</td>\n",
              "      <td>NaN</td>\n",
              "      <td>NaN</td>\n",
              "      <td>Canada</td>\n",
              "      <td>CAN</td>\n",
              "      <td>1932 Summer</td>\n",
              "      <td>1932</td>\n",
              "      <td>Summer</td>\n",
              "      <td>Los Angeles</td>\n",
              "      <td>Art Competitions</td>\n",
              "      <td>Art Competitions Mixed Sculpturing, Unknown Event</td>\n",
              "      <td>NaN</td>\n",
              "    </tr>\n",
              "    <tr>\n",
              "      <th>154846</th>\n",
              "      <td>77710</td>\n",
              "      <td>Robert Tait McKenzie</td>\n",
              "      <td>M</td>\n",
              "      <td>65.0</td>\n",
              "      <td>NaN</td>\n",
              "      <td>NaN</td>\n",
              "      <td>Canada</td>\n",
              "      <td>CAN</td>\n",
              "      <td>1932 Summer</td>\n",
              "      <td>1932</td>\n",
              "      <td>Summer</td>\n",
              "      <td>Los Angeles</td>\n",
              "      <td>Art Competitions</td>\n",
              "      <td>Art Competitions Mixed Sculpturing, Unknown Event</td>\n",
              "      <td>NaN</td>\n",
              "    </tr>\n",
              "    <tr>\n",
              "      <th>154847</th>\n",
              "      <td>77710</td>\n",
              "      <td>Robert Tait McKenzie</td>\n",
              "      <td>M</td>\n",
              "      <td>65.0</td>\n",
              "      <td>NaN</td>\n",
              "      <td>NaN</td>\n",
              "      <td>Canada</td>\n",
              "      <td>CAN</td>\n",
              "      <td>1932 Summer</td>\n",
              "      <td>1932</td>\n",
              "      <td>Summer</td>\n",
              "      <td>Los Angeles</td>\n",
              "      <td>Art Competitions</td>\n",
              "      <td>Art Competitions Mixed Sculpturing, Unknown Event</td>\n",
              "      <td>NaN</td>\n",
              "    </tr>\n",
              "    <tr>\n",
              "      <th>154848</th>\n",
              "      <td>77710</td>\n",
              "      <td>Robert Tait McKenzie</td>\n",
              "      <td>M</td>\n",
              "      <td>65.0</td>\n",
              "      <td>NaN</td>\n",
              "      <td>NaN</td>\n",
              "      <td>Canada</td>\n",
              "      <td>CAN</td>\n",
              "      <td>1932 Summer</td>\n",
              "      <td>1932</td>\n",
              "      <td>Summer</td>\n",
              "      <td>Los Angeles</td>\n",
              "      <td>Art Competitions</td>\n",
              "      <td>Art Competitions Mixed Sculpturing, Unknown Event</td>\n",
              "      <td>NaN</td>\n",
              "    </tr>\n",
              "    <tr>\n",
              "      <th>154849</th>\n",
              "      <td>77710</td>\n",
              "      <td>Robert Tait McKenzie</td>\n",
              "      <td>M</td>\n",
              "      <td>65.0</td>\n",
              "      <td>NaN</td>\n",
              "      <td>NaN</td>\n",
              "      <td>Canada</td>\n",
              "      <td>CAN</td>\n",
              "      <td>1932 Summer</td>\n",
              "      <td>1932</td>\n",
              "      <td>Summer</td>\n",
              "      <td>Los Angeles</td>\n",
              "      <td>Art Competitions</td>\n",
              "      <td>Art Competitions Mixed Sculpturing, Unknown Event</td>\n",
              "      <td>NaN</td>\n",
              "    </tr>\n",
              "    <tr>\n",
              "      <th>154850</th>\n",
              "      <td>77710</td>\n",
              "      <td>Robert Tait McKenzie</td>\n",
              "      <td>M</td>\n",
              "      <td>69.0</td>\n",
              "      <td>NaN</td>\n",
              "      <td>NaN</td>\n",
              "      <td>Canada</td>\n",
              "      <td>CAN</td>\n",
              "      <td>1936 Summer</td>\n",
              "      <td>1936</td>\n",
              "      <td>Summer</td>\n",
              "      <td>Berlin</td>\n",
              "      <td>Art Competitions</td>\n",
              "      <td>Art Competitions Mixed Sculpturing, Medals</td>\n",
              "      <td>NaN</td>\n",
              "    </tr>\n",
              "    <tr>\n",
              "      <th>154851</th>\n",
              "      <td>77710</td>\n",
              "      <td>Robert Tait McKenzie</td>\n",
              "      <td>M</td>\n",
              "      <td>69.0</td>\n",
              "      <td>NaN</td>\n",
              "      <td>NaN</td>\n",
              "      <td>Canada</td>\n",
              "      <td>CAN</td>\n",
              "      <td>1936 Summer</td>\n",
              "      <td>1936</td>\n",
              "      <td>Summer</td>\n",
              "      <td>Berlin</td>\n",
              "      <td>Art Competitions</td>\n",
              "      <td>Art Competitions Mixed Sculpturing, Unknown Event</td>\n",
              "      <td>NaN</td>\n",
              "    </tr>\n",
              "    <tr>\n",
              "      <th>154852</th>\n",
              "      <td>77710</td>\n",
              "      <td>Robert Tait McKenzie</td>\n",
              "      <td>M</td>\n",
              "      <td>69.0</td>\n",
              "      <td>NaN</td>\n",
              "      <td>NaN</td>\n",
              "      <td>Canada</td>\n",
              "      <td>CAN</td>\n",
              "      <td>1936 Summer</td>\n",
              "      <td>1936</td>\n",
              "      <td>Summer</td>\n",
              "      <td>Berlin</td>\n",
              "      <td>Art Competitions</td>\n",
              "      <td>Art Competitions Mixed Sculpturing, Unknown Event</td>\n",
              "      <td>NaN</td>\n",
              "    </tr>\n",
              "    <tr>\n",
              "      <th>154853</th>\n",
              "      <td>77710</td>\n",
              "      <td>Robert Tait McKenzie</td>\n",
              "      <td>M</td>\n",
              "      <td>69.0</td>\n",
              "      <td>NaN</td>\n",
              "      <td>NaN</td>\n",
              "      <td>Canada</td>\n",
              "      <td>CAN</td>\n",
              "      <td>1936 Summer</td>\n",
              "      <td>1936</td>\n",
              "      <td>Summer</td>\n",
              "      <td>Berlin</td>\n",
              "      <td>Art Competitions</td>\n",
              "      <td>Art Competitions Mixed Sculpturing, Unknown Event</td>\n",
              "      <td>NaN</td>\n",
              "    </tr>\n",
              "    <tr>\n",
              "      <th>154854</th>\n",
              "      <td>77710</td>\n",
              "      <td>Robert Tait McKenzie</td>\n",
              "      <td>M</td>\n",
              "      <td>69.0</td>\n",
              "      <td>NaN</td>\n",
              "      <td>NaN</td>\n",
              "      <td>Canada</td>\n",
              "      <td>CAN</td>\n",
              "      <td>1936 Summer</td>\n",
              "      <td>1936</td>\n",
              "      <td>Summer</td>\n",
              "      <td>Berlin</td>\n",
              "      <td>Art Competitions</td>\n",
              "      <td>Art Competitions Mixed Sculpturing, Unknown Event</td>\n",
              "      <td>NaN</td>\n",
              "    </tr>\n",
              "    <tr>\n",
              "      <th>154855</th>\n",
              "      <td>77710</td>\n",
              "      <td>Robert Tait McKenzie</td>\n",
              "      <td>M</td>\n",
              "      <td>81.0</td>\n",
              "      <td>NaN</td>\n",
              "      <td>NaN</td>\n",
              "      <td>Canada</td>\n",
              "      <td>CAN</td>\n",
              "      <td>1948 Summer</td>\n",
              "      <td>1948</td>\n",
              "      <td>Summer</td>\n",
              "      <td>London</td>\n",
              "      <td>Art Competitions</td>\n",
              "      <td>Art Competitions Mixed Sculpturing, Unknown Event</td>\n",
              "      <td>NaN</td>\n",
              "    </tr>\n",
              "  </tbody>\n",
              "</table>\n",
              "</div>"
            ],
            "text/plain": [
              "           ID                  Name Sex   Age  Height  Weight    Team  NOC        Games  Year  Season         City             Sport                                              Event   Medal\n",
              "154798  77710  Robert Tait McKenzie   M  44.0     NaN     NaN  Canada  CAN  1912 Summer  1912  Summer    Stockholm  Art Competitions                 Art Competitions Mixed Sculpturing     NaN\n",
              "154799  77710  Robert Tait McKenzie   M  60.0     NaN     NaN  Canada  CAN  1928 Summer  1928  Summer    Amsterdam  Art Competitions        Art Competitions Mixed Sculpturing, Statues     NaN\n",
              "154800  77710  Robert Tait McKenzie   M  60.0     NaN     NaN  Canada  CAN  1928 Summer  1928  Summer    Amsterdam  Art Competitions        Art Competitions Mixed Sculpturing, Statues     NaN\n",
              "154801  77710  Robert Tait McKenzie   M  60.0     NaN     NaN  Canada  CAN  1928 Summer  1928  Summer    Amsterdam  Art Competitions        Art Competitions Mixed Sculpturing, Statues     NaN\n",
              "154802  77710  Robert Tait McKenzie   M  60.0     NaN     NaN  Canada  CAN  1928 Summer  1928  Summer    Amsterdam  Art Competitions        Art Competitions Mixed Sculpturing, Statues     NaN\n",
              "154803  77710  Robert Tait McKenzie   M  60.0     NaN     NaN  Canada  CAN  1928 Summer  1928  Summer    Amsterdam  Art Competitions        Art Competitions Mixed Sculpturing, Statues     NaN\n",
              "154804  77710  Robert Tait McKenzie   M  60.0     NaN     NaN  Canada  CAN  1928 Summer  1928  Summer    Amsterdam  Art Competitions        Art Competitions Mixed Sculpturing, Statues     NaN\n",
              "154805  77710  Robert Tait McKenzie   M  60.0     NaN     NaN  Canada  CAN  1928 Summer  1928  Summer    Amsterdam  Art Competitions        Art Competitions Mixed Sculpturing, Statues     NaN\n",
              "154806  77710  Robert Tait McKenzie   M  65.0     NaN     NaN  Canada  CAN  1932 Summer  1932  Summer  Los Angeles  Art Competitions  Art Competitions Mixed Sculpturing, Medals And...  Bronze\n",
              "154807  77710  Robert Tait McKenzie   M  65.0     NaN     NaN  Canada  CAN  1932 Summer  1932  Summer  Los Angeles  Art Competitions  Art Competitions Mixed Sculpturing, Unknown Event     NaN\n",
              "154808  77710  Robert Tait McKenzie   M  65.0     NaN     NaN  Canada  CAN  1932 Summer  1932  Summer  Los Angeles  Art Competitions  Art Competitions Mixed Sculpturing, Unknown Event     NaN\n",
              "154809  77710  Robert Tait McKenzie   M  65.0     NaN     NaN  Canada  CAN  1932 Summer  1932  Summer  Los Angeles  Art Competitions  Art Competitions Mixed Sculpturing, Unknown Event     NaN\n",
              "154810  77710  Robert Tait McKenzie   M  65.0     NaN     NaN  Canada  CAN  1932 Summer  1932  Summer  Los Angeles  Art Competitions  Art Competitions Mixed Sculpturing, Unknown Event     NaN\n",
              "154811  77710  Robert Tait McKenzie   M  65.0     NaN     NaN  Canada  CAN  1932 Summer  1932  Summer  Los Angeles  Art Competitions  Art Competitions Mixed Sculpturing, Unknown Event     NaN\n",
              "154812  77710  Robert Tait McKenzie   M  65.0     NaN     NaN  Canada  CAN  1932 Summer  1932  Summer  Los Angeles  Art Competitions  Art Competitions Mixed Sculpturing, Unknown Event     NaN\n",
              "154813  77710  Robert Tait McKenzie   M  65.0     NaN     NaN  Canada  CAN  1932 Summer  1932  Summer  Los Angeles  Art Competitions  Art Competitions Mixed Sculpturing, Unknown Event     NaN\n",
              "154814  77710  Robert Tait McKenzie   M  65.0     NaN     NaN  Canada  CAN  1932 Summer  1932  Summer  Los Angeles  Art Competitions  Art Competitions Mixed Sculpturing, Unknown Event     NaN\n",
              "154815  77710  Robert Tait McKenzie   M  65.0     NaN     NaN  Canada  CAN  1932 Summer  1932  Summer  Los Angeles  Art Competitions  Art Competitions Mixed Sculpturing, Unknown Event     NaN\n",
              "154816  77710  Robert Tait McKenzie   M  65.0     NaN     NaN  Canada  CAN  1932 Summer  1932  Summer  Los Angeles  Art Competitions  Art Competitions Mixed Sculpturing, Unknown Event     NaN\n",
              "154817  77710  Robert Tait McKenzie   M  65.0     NaN     NaN  Canada  CAN  1932 Summer  1932  Summer  Los Angeles  Art Competitions  Art Competitions Mixed Sculpturing, Unknown Event     NaN\n",
              "154818  77710  Robert Tait McKenzie   M  65.0     NaN     NaN  Canada  CAN  1932 Summer  1932  Summer  Los Angeles  Art Competitions  Art Competitions Mixed Sculpturing, Unknown Event     NaN\n",
              "154819  77710  Robert Tait McKenzie   M  65.0     NaN     NaN  Canada  CAN  1932 Summer  1932  Summer  Los Angeles  Art Competitions  Art Competitions Mixed Sculpturing, Unknown Event     NaN\n",
              "154820  77710  Robert Tait McKenzie   M  65.0     NaN     NaN  Canada  CAN  1932 Summer  1932  Summer  Los Angeles  Art Competitions  Art Competitions Mixed Sculpturing, Unknown Event     NaN\n",
              "154821  77710  Robert Tait McKenzie   M  65.0     NaN     NaN  Canada  CAN  1932 Summer  1932  Summer  Los Angeles  Art Competitions  Art Competitions Mixed Sculpturing, Unknown Event     NaN\n",
              "154822  77710  Robert Tait McKenzie   M  65.0     NaN     NaN  Canada  CAN  1932 Summer  1932  Summer  Los Angeles  Art Competitions  Art Competitions Mixed Sculpturing, Unknown Event     NaN\n",
              "154823  77710  Robert Tait McKenzie   M  65.0     NaN     NaN  Canada  CAN  1932 Summer  1932  Summer  Los Angeles  Art Competitions  Art Competitions Mixed Sculpturing, Unknown Event     NaN\n",
              "154824  77710  Robert Tait McKenzie   M  65.0     NaN     NaN  Canada  CAN  1932 Summer  1932  Summer  Los Angeles  Art Competitions  Art Competitions Mixed Sculpturing, Unknown Event     NaN\n",
              "154825  77710  Robert Tait McKenzie   M  65.0     NaN     NaN  Canada  CAN  1932 Summer  1932  Summer  Los Angeles  Art Competitions  Art Competitions Mixed Sculpturing, Unknown Event     NaN\n",
              "154826  77710  Robert Tait McKenzie   M  65.0     NaN     NaN  Canada  CAN  1932 Summer  1932  Summer  Los Angeles  Art Competitions  Art Competitions Mixed Sculpturing, Unknown Event     NaN\n",
              "154827  77710  Robert Tait McKenzie   M  65.0     NaN     NaN  Canada  CAN  1932 Summer  1932  Summer  Los Angeles  Art Competitions  Art Competitions Mixed Sculpturing, Unknown Event     NaN\n",
              "154828  77710  Robert Tait McKenzie   M  65.0     NaN     NaN  Canada  CAN  1932 Summer  1932  Summer  Los Angeles  Art Competitions  Art Competitions Mixed Sculpturing, Unknown Event     NaN\n",
              "154829  77710  Robert Tait McKenzie   M  65.0     NaN     NaN  Canada  CAN  1932 Summer  1932  Summer  Los Angeles  Art Competitions  Art Competitions Mixed Sculpturing, Unknown Event     NaN\n",
              "154830  77710  Robert Tait McKenzie   M  65.0     NaN     NaN  Canada  CAN  1932 Summer  1932  Summer  Los Angeles  Art Competitions  Art Competitions Mixed Sculpturing, Unknown Event     NaN\n",
              "154831  77710  Robert Tait McKenzie   M  65.0     NaN     NaN  Canada  CAN  1932 Summer  1932  Summer  Los Angeles  Art Competitions  Art Competitions Mixed Sculpturing, Unknown Event     NaN\n",
              "154832  77710  Robert Tait McKenzie   M  65.0     NaN     NaN  Canada  CAN  1932 Summer  1932  Summer  Los Angeles  Art Competitions  Art Competitions Mixed Sculpturing, Unknown Event     NaN\n",
              "154833  77710  Robert Tait McKenzie   M  65.0     NaN     NaN  Canada  CAN  1932 Summer  1932  Summer  Los Angeles  Art Competitions  Art Competitions Mixed Sculpturing, Unknown Event     NaN\n",
              "154834  77710  Robert Tait McKenzie   M  65.0     NaN     NaN  Canada  CAN  1932 Summer  1932  Summer  Los Angeles  Art Competitions  Art Competitions Mixed Sculpturing, Unknown Event     NaN\n",
              "154835  77710  Robert Tait McKenzie   M  65.0     NaN     NaN  Canada  CAN  1932 Summer  1932  Summer  Los Angeles  Art Competitions  Art Competitions Mixed Sculpturing, Unknown Event     NaN\n",
              "154836  77710  Robert Tait McKenzie   M  65.0     NaN     NaN  Canada  CAN  1932 Summer  1932  Summer  Los Angeles  Art Competitions  Art Competitions Mixed Sculpturing, Unknown Event     NaN\n",
              "154837  77710  Robert Tait McKenzie   M  65.0     NaN     NaN  Canada  CAN  1932 Summer  1932  Summer  Los Angeles  Art Competitions  Art Competitions Mixed Sculpturing, Unknown Event     NaN\n",
              "154838  77710  Robert Tait McKenzie   M  65.0     NaN     NaN  Canada  CAN  1932 Summer  1932  Summer  Los Angeles  Art Competitions  Art Competitions Mixed Sculpturing, Unknown Event     NaN\n",
              "154839  77710  Robert Tait McKenzie   M  65.0     NaN     NaN  Canada  CAN  1932 Summer  1932  Summer  Los Angeles  Art Competitions  Art Competitions Mixed Sculpturing, Unknown Event     NaN\n",
              "154840  77710  Robert Tait McKenzie   M  65.0     NaN     NaN  Canada  CAN  1932 Summer  1932  Summer  Los Angeles  Art Competitions  Art Competitions Mixed Sculpturing, Unknown Event     NaN\n",
              "154841  77710  Robert Tait McKenzie   M  65.0     NaN     NaN  Canada  CAN  1932 Summer  1932  Summer  Los Angeles  Art Competitions  Art Competitions Mixed Sculpturing, Unknown Event     NaN\n",
              "154842  77710  Robert Tait McKenzie   M  65.0     NaN     NaN  Canada  CAN  1932 Summer  1932  Summer  Los Angeles  Art Competitions  Art Competitions Mixed Sculpturing, Unknown Event     NaN\n",
              "154843  77710  Robert Tait McKenzie   M  65.0     NaN     NaN  Canada  CAN  1932 Summer  1932  Summer  Los Angeles  Art Competitions  Art Competitions Mixed Sculpturing, Unknown Event     NaN\n",
              "154844  77710  Robert Tait McKenzie   M  65.0     NaN     NaN  Canada  CAN  1932 Summer  1932  Summer  Los Angeles  Art Competitions  Art Competitions Mixed Sculpturing, Unknown Event     NaN\n",
              "154845  77710  Robert Tait McKenzie   M  65.0     NaN     NaN  Canada  CAN  1932 Summer  1932  Summer  Los Angeles  Art Competitions  Art Competitions Mixed Sculpturing, Unknown Event     NaN\n",
              "154846  77710  Robert Tait McKenzie   M  65.0     NaN     NaN  Canada  CAN  1932 Summer  1932  Summer  Los Angeles  Art Competitions  Art Competitions Mixed Sculpturing, Unknown Event     NaN\n",
              "154847  77710  Robert Tait McKenzie   M  65.0     NaN     NaN  Canada  CAN  1932 Summer  1932  Summer  Los Angeles  Art Competitions  Art Competitions Mixed Sculpturing, Unknown Event     NaN\n",
              "154848  77710  Robert Tait McKenzie   M  65.0     NaN     NaN  Canada  CAN  1932 Summer  1932  Summer  Los Angeles  Art Competitions  Art Competitions Mixed Sculpturing, Unknown Event     NaN\n",
              "154849  77710  Robert Tait McKenzie   M  65.0     NaN     NaN  Canada  CAN  1932 Summer  1932  Summer  Los Angeles  Art Competitions  Art Competitions Mixed Sculpturing, Unknown Event     NaN\n",
              "154850  77710  Robert Tait McKenzie   M  69.0     NaN     NaN  Canada  CAN  1936 Summer  1936  Summer       Berlin  Art Competitions         Art Competitions Mixed Sculpturing, Medals     NaN\n",
              "154851  77710  Robert Tait McKenzie   M  69.0     NaN     NaN  Canada  CAN  1936 Summer  1936  Summer       Berlin  Art Competitions  Art Competitions Mixed Sculpturing, Unknown Event     NaN\n",
              "154852  77710  Robert Tait McKenzie   M  69.0     NaN     NaN  Canada  CAN  1936 Summer  1936  Summer       Berlin  Art Competitions  Art Competitions Mixed Sculpturing, Unknown Event     NaN\n",
              "154853  77710  Robert Tait McKenzie   M  69.0     NaN     NaN  Canada  CAN  1936 Summer  1936  Summer       Berlin  Art Competitions  Art Competitions Mixed Sculpturing, Unknown Event     NaN\n",
              "154854  77710  Robert Tait McKenzie   M  69.0     NaN     NaN  Canada  CAN  1936 Summer  1936  Summer       Berlin  Art Competitions  Art Competitions Mixed Sculpturing, Unknown Event     NaN\n",
              "154855  77710  Robert Tait McKenzie   M  81.0     NaN     NaN  Canada  CAN  1948 Summer  1948  Summer       London  Art Competitions  Art Competitions Mixed Sculpturing, Unknown Event     NaN"
            ]
          },
          "metadata": {
            "tags": []
          },
          "execution_count": 51
        }
      ]
    },
    {
      "cell_type": "markdown",
      "metadata": {
        "id": "bUb_ytbYFnzU"
      },
      "source": [
        "If we don't want to manually copy athelete's name we have to do something as shown below "
      ]
    },
    {
      "cell_type": "code",
      "metadata": {
        "colab": {
          "base_uri": "https://localhost:8080/"
        },
        "id": "9rThu-E_Fu_E",
        "outputId": "97de85fe-5b01-46d7-835b-2cfa70e9963b"
      },
      "source": [
        "max_appearances = athelete_events_df[\"Name\"].value_counts()\n",
        "#Get the index of the series we got as an outcome \n",
        "series_indexes = max_appearances.index\n",
        "print(series_indexes)"
      ],
      "execution_count": 56,
      "outputs": [
        {
          "output_type": "stream",
          "text": [
            "Index(['Robert Tait McKenzie', 'Heikki Ilmari Savolainen', 'Joseph \"Josy\" Stoffel', 'Ioannis Theofilakis', 'Takashi Ono', 'Andreas Wecker', 'Alexandros Theofilakis', 'Alfrd (Arnold-) Hajs (Guttmann-)', 'Jean Lucien Nicolas Jacoby', 'Michel Mathiot',\n",
            "       ...\n",
            "       'Margit Kalocsai (Krammer)', 'Sndor Kal', 'Juris Kalni', 'Alfrds Kalni', 'Pavla Kaln', 'Tatyana Vasilyevna Kalmykova', 'Mariya Lvovna Kalmykova', 'Christine Kalmer', 'Joannis \"Jannis\" Kalmazidis', 'Pierre-Georges LeClercq'], dtype='object', length=134732)\n"
          ],
          "name": "stdout"
        }
      ]
    },
    {
      "cell_type": "code",
      "metadata": {
        "colab": {
          "base_uri": "https://localhost:8080/"
        },
        "id": "xegw6X4BGIPY",
        "outputId": "f5f65a76-89df-4f66-8464-a3b341fb2064"
      },
      "source": [
        "#You can now get first element of the Series as we know the max is shown at the top in our response \n",
        "athelete_name = series_indexes[0]\n",
        "print(\"Name of athelete who appeared for maximum {} times is {}\".format(max_appearances.max(), athelete_name))"
      ],
      "execution_count": 59,
      "outputs": [
        {
          "output_type": "stream",
          "text": [
            "Name of athelete who appeared for maximum 58 times is Robert Tait McKenzie\n"
          ],
          "name": "stdout"
        }
      ]
    },
    {
      "cell_type": "code",
      "metadata": {
        "colab": {
          "base_uri": "https://localhost:8080/",
          "height": 1000
        },
        "id": "4YV_r6iZGm2Z",
        "outputId": "50ccf638-e9dd-4f01-9b12-5f224df21c5d"
      },
      "source": [
        "#Let us know get all records for this athelete \n",
        "athelete_events_df[athelete_events_df[\"Name\"] == athelete_name]"
      ],
      "execution_count": 60,
      "outputs": [
        {
          "output_type": "execute_result",
          "data": {
            "text/html": [
              "<div>\n",
              "<style scoped>\n",
              "    .dataframe tbody tr th:only-of-type {\n",
              "        vertical-align: middle;\n",
              "    }\n",
              "\n",
              "    .dataframe tbody tr th {\n",
              "        vertical-align: top;\n",
              "    }\n",
              "\n",
              "    .dataframe thead th {\n",
              "        text-align: right;\n",
              "    }\n",
              "</style>\n",
              "<table border=\"1\" class=\"dataframe\">\n",
              "  <thead>\n",
              "    <tr style=\"text-align: right;\">\n",
              "      <th></th>\n",
              "      <th>ID</th>\n",
              "      <th>Name</th>\n",
              "      <th>Sex</th>\n",
              "      <th>Age</th>\n",
              "      <th>Height</th>\n",
              "      <th>Weight</th>\n",
              "      <th>Team</th>\n",
              "      <th>NOC</th>\n",
              "      <th>Games</th>\n",
              "      <th>Year</th>\n",
              "      <th>Season</th>\n",
              "      <th>City</th>\n",
              "      <th>Sport</th>\n",
              "      <th>Event</th>\n",
              "      <th>Medal</th>\n",
              "    </tr>\n",
              "  </thead>\n",
              "  <tbody>\n",
              "    <tr>\n",
              "      <th>154798</th>\n",
              "      <td>77710</td>\n",
              "      <td>Robert Tait McKenzie</td>\n",
              "      <td>M</td>\n",
              "      <td>44.0</td>\n",
              "      <td>NaN</td>\n",
              "      <td>NaN</td>\n",
              "      <td>Canada</td>\n",
              "      <td>CAN</td>\n",
              "      <td>1912 Summer</td>\n",
              "      <td>1912</td>\n",
              "      <td>Summer</td>\n",
              "      <td>Stockholm</td>\n",
              "      <td>Art Competitions</td>\n",
              "      <td>Art Competitions Mixed Sculpturing</td>\n",
              "      <td>NaN</td>\n",
              "    </tr>\n",
              "    <tr>\n",
              "      <th>154799</th>\n",
              "      <td>77710</td>\n",
              "      <td>Robert Tait McKenzie</td>\n",
              "      <td>M</td>\n",
              "      <td>60.0</td>\n",
              "      <td>NaN</td>\n",
              "      <td>NaN</td>\n",
              "      <td>Canada</td>\n",
              "      <td>CAN</td>\n",
              "      <td>1928 Summer</td>\n",
              "      <td>1928</td>\n",
              "      <td>Summer</td>\n",
              "      <td>Amsterdam</td>\n",
              "      <td>Art Competitions</td>\n",
              "      <td>Art Competitions Mixed Sculpturing, Statues</td>\n",
              "      <td>NaN</td>\n",
              "    </tr>\n",
              "    <tr>\n",
              "      <th>154800</th>\n",
              "      <td>77710</td>\n",
              "      <td>Robert Tait McKenzie</td>\n",
              "      <td>M</td>\n",
              "      <td>60.0</td>\n",
              "      <td>NaN</td>\n",
              "      <td>NaN</td>\n",
              "      <td>Canada</td>\n",
              "      <td>CAN</td>\n",
              "      <td>1928 Summer</td>\n",
              "      <td>1928</td>\n",
              "      <td>Summer</td>\n",
              "      <td>Amsterdam</td>\n",
              "      <td>Art Competitions</td>\n",
              "      <td>Art Competitions Mixed Sculpturing, Statues</td>\n",
              "      <td>NaN</td>\n",
              "    </tr>\n",
              "    <tr>\n",
              "      <th>154801</th>\n",
              "      <td>77710</td>\n",
              "      <td>Robert Tait McKenzie</td>\n",
              "      <td>M</td>\n",
              "      <td>60.0</td>\n",
              "      <td>NaN</td>\n",
              "      <td>NaN</td>\n",
              "      <td>Canada</td>\n",
              "      <td>CAN</td>\n",
              "      <td>1928 Summer</td>\n",
              "      <td>1928</td>\n",
              "      <td>Summer</td>\n",
              "      <td>Amsterdam</td>\n",
              "      <td>Art Competitions</td>\n",
              "      <td>Art Competitions Mixed Sculpturing, Statues</td>\n",
              "      <td>NaN</td>\n",
              "    </tr>\n",
              "    <tr>\n",
              "      <th>154802</th>\n",
              "      <td>77710</td>\n",
              "      <td>Robert Tait McKenzie</td>\n",
              "      <td>M</td>\n",
              "      <td>60.0</td>\n",
              "      <td>NaN</td>\n",
              "      <td>NaN</td>\n",
              "      <td>Canada</td>\n",
              "      <td>CAN</td>\n",
              "      <td>1928 Summer</td>\n",
              "      <td>1928</td>\n",
              "      <td>Summer</td>\n",
              "      <td>Amsterdam</td>\n",
              "      <td>Art Competitions</td>\n",
              "      <td>Art Competitions Mixed Sculpturing, Statues</td>\n",
              "      <td>NaN</td>\n",
              "    </tr>\n",
              "    <tr>\n",
              "      <th>154803</th>\n",
              "      <td>77710</td>\n",
              "      <td>Robert Tait McKenzie</td>\n",
              "      <td>M</td>\n",
              "      <td>60.0</td>\n",
              "      <td>NaN</td>\n",
              "      <td>NaN</td>\n",
              "      <td>Canada</td>\n",
              "      <td>CAN</td>\n",
              "      <td>1928 Summer</td>\n",
              "      <td>1928</td>\n",
              "      <td>Summer</td>\n",
              "      <td>Amsterdam</td>\n",
              "      <td>Art Competitions</td>\n",
              "      <td>Art Competitions Mixed Sculpturing, Statues</td>\n",
              "      <td>NaN</td>\n",
              "    </tr>\n",
              "    <tr>\n",
              "      <th>154804</th>\n",
              "      <td>77710</td>\n",
              "      <td>Robert Tait McKenzie</td>\n",
              "      <td>M</td>\n",
              "      <td>60.0</td>\n",
              "      <td>NaN</td>\n",
              "      <td>NaN</td>\n",
              "      <td>Canada</td>\n",
              "      <td>CAN</td>\n",
              "      <td>1928 Summer</td>\n",
              "      <td>1928</td>\n",
              "      <td>Summer</td>\n",
              "      <td>Amsterdam</td>\n",
              "      <td>Art Competitions</td>\n",
              "      <td>Art Competitions Mixed Sculpturing, Statues</td>\n",
              "      <td>NaN</td>\n",
              "    </tr>\n",
              "    <tr>\n",
              "      <th>154805</th>\n",
              "      <td>77710</td>\n",
              "      <td>Robert Tait McKenzie</td>\n",
              "      <td>M</td>\n",
              "      <td>60.0</td>\n",
              "      <td>NaN</td>\n",
              "      <td>NaN</td>\n",
              "      <td>Canada</td>\n",
              "      <td>CAN</td>\n",
              "      <td>1928 Summer</td>\n",
              "      <td>1928</td>\n",
              "      <td>Summer</td>\n",
              "      <td>Amsterdam</td>\n",
              "      <td>Art Competitions</td>\n",
              "      <td>Art Competitions Mixed Sculpturing, Statues</td>\n",
              "      <td>NaN</td>\n",
              "    </tr>\n",
              "    <tr>\n",
              "      <th>154806</th>\n",
              "      <td>77710</td>\n",
              "      <td>Robert Tait McKenzie</td>\n",
              "      <td>M</td>\n",
              "      <td>65.0</td>\n",
              "      <td>NaN</td>\n",
              "      <td>NaN</td>\n",
              "      <td>Canada</td>\n",
              "      <td>CAN</td>\n",
              "      <td>1932 Summer</td>\n",
              "      <td>1932</td>\n",
              "      <td>Summer</td>\n",
              "      <td>Los Angeles</td>\n",
              "      <td>Art Competitions</td>\n",
              "      <td>Art Competitions Mixed Sculpturing, Medals And...</td>\n",
              "      <td>Bronze</td>\n",
              "    </tr>\n",
              "    <tr>\n",
              "      <th>154807</th>\n",
              "      <td>77710</td>\n",
              "      <td>Robert Tait McKenzie</td>\n",
              "      <td>M</td>\n",
              "      <td>65.0</td>\n",
              "      <td>NaN</td>\n",
              "      <td>NaN</td>\n",
              "      <td>Canada</td>\n",
              "      <td>CAN</td>\n",
              "      <td>1932 Summer</td>\n",
              "      <td>1932</td>\n",
              "      <td>Summer</td>\n",
              "      <td>Los Angeles</td>\n",
              "      <td>Art Competitions</td>\n",
              "      <td>Art Competitions Mixed Sculpturing, Unknown Event</td>\n",
              "      <td>NaN</td>\n",
              "    </tr>\n",
              "    <tr>\n",
              "      <th>154808</th>\n",
              "      <td>77710</td>\n",
              "      <td>Robert Tait McKenzie</td>\n",
              "      <td>M</td>\n",
              "      <td>65.0</td>\n",
              "      <td>NaN</td>\n",
              "      <td>NaN</td>\n",
              "      <td>Canada</td>\n",
              "      <td>CAN</td>\n",
              "      <td>1932 Summer</td>\n",
              "      <td>1932</td>\n",
              "      <td>Summer</td>\n",
              "      <td>Los Angeles</td>\n",
              "      <td>Art Competitions</td>\n",
              "      <td>Art Competitions Mixed Sculpturing, Unknown Event</td>\n",
              "      <td>NaN</td>\n",
              "    </tr>\n",
              "    <tr>\n",
              "      <th>154809</th>\n",
              "      <td>77710</td>\n",
              "      <td>Robert Tait McKenzie</td>\n",
              "      <td>M</td>\n",
              "      <td>65.0</td>\n",
              "      <td>NaN</td>\n",
              "      <td>NaN</td>\n",
              "      <td>Canada</td>\n",
              "      <td>CAN</td>\n",
              "      <td>1932 Summer</td>\n",
              "      <td>1932</td>\n",
              "      <td>Summer</td>\n",
              "      <td>Los Angeles</td>\n",
              "      <td>Art Competitions</td>\n",
              "      <td>Art Competitions Mixed Sculpturing, Unknown Event</td>\n",
              "      <td>NaN</td>\n",
              "    </tr>\n",
              "    <tr>\n",
              "      <th>154810</th>\n",
              "      <td>77710</td>\n",
              "      <td>Robert Tait McKenzie</td>\n",
              "      <td>M</td>\n",
              "      <td>65.0</td>\n",
              "      <td>NaN</td>\n",
              "      <td>NaN</td>\n",
              "      <td>Canada</td>\n",
              "      <td>CAN</td>\n",
              "      <td>1932 Summer</td>\n",
              "      <td>1932</td>\n",
              "      <td>Summer</td>\n",
              "      <td>Los Angeles</td>\n",
              "      <td>Art Competitions</td>\n",
              "      <td>Art Competitions Mixed Sculpturing, Unknown Event</td>\n",
              "      <td>NaN</td>\n",
              "    </tr>\n",
              "    <tr>\n",
              "      <th>154811</th>\n",
              "      <td>77710</td>\n",
              "      <td>Robert Tait McKenzie</td>\n",
              "      <td>M</td>\n",
              "      <td>65.0</td>\n",
              "      <td>NaN</td>\n",
              "      <td>NaN</td>\n",
              "      <td>Canada</td>\n",
              "      <td>CAN</td>\n",
              "      <td>1932 Summer</td>\n",
              "      <td>1932</td>\n",
              "      <td>Summer</td>\n",
              "      <td>Los Angeles</td>\n",
              "      <td>Art Competitions</td>\n",
              "      <td>Art Competitions Mixed Sculpturing, Unknown Event</td>\n",
              "      <td>NaN</td>\n",
              "    </tr>\n",
              "    <tr>\n",
              "      <th>154812</th>\n",
              "      <td>77710</td>\n",
              "      <td>Robert Tait McKenzie</td>\n",
              "      <td>M</td>\n",
              "      <td>65.0</td>\n",
              "      <td>NaN</td>\n",
              "      <td>NaN</td>\n",
              "      <td>Canada</td>\n",
              "      <td>CAN</td>\n",
              "      <td>1932 Summer</td>\n",
              "      <td>1932</td>\n",
              "      <td>Summer</td>\n",
              "      <td>Los Angeles</td>\n",
              "      <td>Art Competitions</td>\n",
              "      <td>Art Competitions Mixed Sculpturing, Unknown Event</td>\n",
              "      <td>NaN</td>\n",
              "    </tr>\n",
              "    <tr>\n",
              "      <th>154813</th>\n",
              "      <td>77710</td>\n",
              "      <td>Robert Tait McKenzie</td>\n",
              "      <td>M</td>\n",
              "      <td>65.0</td>\n",
              "      <td>NaN</td>\n",
              "      <td>NaN</td>\n",
              "      <td>Canada</td>\n",
              "      <td>CAN</td>\n",
              "      <td>1932 Summer</td>\n",
              "      <td>1932</td>\n",
              "      <td>Summer</td>\n",
              "      <td>Los Angeles</td>\n",
              "      <td>Art Competitions</td>\n",
              "      <td>Art Competitions Mixed Sculpturing, Unknown Event</td>\n",
              "      <td>NaN</td>\n",
              "    </tr>\n",
              "    <tr>\n",
              "      <th>154814</th>\n",
              "      <td>77710</td>\n",
              "      <td>Robert Tait McKenzie</td>\n",
              "      <td>M</td>\n",
              "      <td>65.0</td>\n",
              "      <td>NaN</td>\n",
              "      <td>NaN</td>\n",
              "      <td>Canada</td>\n",
              "      <td>CAN</td>\n",
              "      <td>1932 Summer</td>\n",
              "      <td>1932</td>\n",
              "      <td>Summer</td>\n",
              "      <td>Los Angeles</td>\n",
              "      <td>Art Competitions</td>\n",
              "      <td>Art Competitions Mixed Sculpturing, Unknown Event</td>\n",
              "      <td>NaN</td>\n",
              "    </tr>\n",
              "    <tr>\n",
              "      <th>154815</th>\n",
              "      <td>77710</td>\n",
              "      <td>Robert Tait McKenzie</td>\n",
              "      <td>M</td>\n",
              "      <td>65.0</td>\n",
              "      <td>NaN</td>\n",
              "      <td>NaN</td>\n",
              "      <td>Canada</td>\n",
              "      <td>CAN</td>\n",
              "      <td>1932 Summer</td>\n",
              "      <td>1932</td>\n",
              "      <td>Summer</td>\n",
              "      <td>Los Angeles</td>\n",
              "      <td>Art Competitions</td>\n",
              "      <td>Art Competitions Mixed Sculpturing, Unknown Event</td>\n",
              "      <td>NaN</td>\n",
              "    </tr>\n",
              "    <tr>\n",
              "      <th>154816</th>\n",
              "      <td>77710</td>\n",
              "      <td>Robert Tait McKenzie</td>\n",
              "      <td>M</td>\n",
              "      <td>65.0</td>\n",
              "      <td>NaN</td>\n",
              "      <td>NaN</td>\n",
              "      <td>Canada</td>\n",
              "      <td>CAN</td>\n",
              "      <td>1932 Summer</td>\n",
              "      <td>1932</td>\n",
              "      <td>Summer</td>\n",
              "      <td>Los Angeles</td>\n",
              "      <td>Art Competitions</td>\n",
              "      <td>Art Competitions Mixed Sculpturing, Unknown Event</td>\n",
              "      <td>NaN</td>\n",
              "    </tr>\n",
              "    <tr>\n",
              "      <th>154817</th>\n",
              "      <td>77710</td>\n",
              "      <td>Robert Tait McKenzie</td>\n",
              "      <td>M</td>\n",
              "      <td>65.0</td>\n",
              "      <td>NaN</td>\n",
              "      <td>NaN</td>\n",
              "      <td>Canada</td>\n",
              "      <td>CAN</td>\n",
              "      <td>1932 Summer</td>\n",
              "      <td>1932</td>\n",
              "      <td>Summer</td>\n",
              "      <td>Los Angeles</td>\n",
              "      <td>Art Competitions</td>\n",
              "      <td>Art Competitions Mixed Sculpturing, Unknown Event</td>\n",
              "      <td>NaN</td>\n",
              "    </tr>\n",
              "    <tr>\n",
              "      <th>154818</th>\n",
              "      <td>77710</td>\n",
              "      <td>Robert Tait McKenzie</td>\n",
              "      <td>M</td>\n",
              "      <td>65.0</td>\n",
              "      <td>NaN</td>\n",
              "      <td>NaN</td>\n",
              "      <td>Canada</td>\n",
              "      <td>CAN</td>\n",
              "      <td>1932 Summer</td>\n",
              "      <td>1932</td>\n",
              "      <td>Summer</td>\n",
              "      <td>Los Angeles</td>\n",
              "      <td>Art Competitions</td>\n",
              "      <td>Art Competitions Mixed Sculpturing, Unknown Event</td>\n",
              "      <td>NaN</td>\n",
              "    </tr>\n",
              "    <tr>\n",
              "      <th>154819</th>\n",
              "      <td>77710</td>\n",
              "      <td>Robert Tait McKenzie</td>\n",
              "      <td>M</td>\n",
              "      <td>65.0</td>\n",
              "      <td>NaN</td>\n",
              "      <td>NaN</td>\n",
              "      <td>Canada</td>\n",
              "      <td>CAN</td>\n",
              "      <td>1932 Summer</td>\n",
              "      <td>1932</td>\n",
              "      <td>Summer</td>\n",
              "      <td>Los Angeles</td>\n",
              "      <td>Art Competitions</td>\n",
              "      <td>Art Competitions Mixed Sculpturing, Unknown Event</td>\n",
              "      <td>NaN</td>\n",
              "    </tr>\n",
              "    <tr>\n",
              "      <th>154820</th>\n",
              "      <td>77710</td>\n",
              "      <td>Robert Tait McKenzie</td>\n",
              "      <td>M</td>\n",
              "      <td>65.0</td>\n",
              "      <td>NaN</td>\n",
              "      <td>NaN</td>\n",
              "      <td>Canada</td>\n",
              "      <td>CAN</td>\n",
              "      <td>1932 Summer</td>\n",
              "      <td>1932</td>\n",
              "      <td>Summer</td>\n",
              "      <td>Los Angeles</td>\n",
              "      <td>Art Competitions</td>\n",
              "      <td>Art Competitions Mixed Sculpturing, Unknown Event</td>\n",
              "      <td>NaN</td>\n",
              "    </tr>\n",
              "    <tr>\n",
              "      <th>154821</th>\n",
              "      <td>77710</td>\n",
              "      <td>Robert Tait McKenzie</td>\n",
              "      <td>M</td>\n",
              "      <td>65.0</td>\n",
              "      <td>NaN</td>\n",
              "      <td>NaN</td>\n",
              "      <td>Canada</td>\n",
              "      <td>CAN</td>\n",
              "      <td>1932 Summer</td>\n",
              "      <td>1932</td>\n",
              "      <td>Summer</td>\n",
              "      <td>Los Angeles</td>\n",
              "      <td>Art Competitions</td>\n",
              "      <td>Art Competitions Mixed Sculpturing, Unknown Event</td>\n",
              "      <td>NaN</td>\n",
              "    </tr>\n",
              "    <tr>\n",
              "      <th>154822</th>\n",
              "      <td>77710</td>\n",
              "      <td>Robert Tait McKenzie</td>\n",
              "      <td>M</td>\n",
              "      <td>65.0</td>\n",
              "      <td>NaN</td>\n",
              "      <td>NaN</td>\n",
              "      <td>Canada</td>\n",
              "      <td>CAN</td>\n",
              "      <td>1932 Summer</td>\n",
              "      <td>1932</td>\n",
              "      <td>Summer</td>\n",
              "      <td>Los Angeles</td>\n",
              "      <td>Art Competitions</td>\n",
              "      <td>Art Competitions Mixed Sculpturing, Unknown Event</td>\n",
              "      <td>NaN</td>\n",
              "    </tr>\n",
              "    <tr>\n",
              "      <th>154823</th>\n",
              "      <td>77710</td>\n",
              "      <td>Robert Tait McKenzie</td>\n",
              "      <td>M</td>\n",
              "      <td>65.0</td>\n",
              "      <td>NaN</td>\n",
              "      <td>NaN</td>\n",
              "      <td>Canada</td>\n",
              "      <td>CAN</td>\n",
              "      <td>1932 Summer</td>\n",
              "      <td>1932</td>\n",
              "      <td>Summer</td>\n",
              "      <td>Los Angeles</td>\n",
              "      <td>Art Competitions</td>\n",
              "      <td>Art Competitions Mixed Sculpturing, Unknown Event</td>\n",
              "      <td>NaN</td>\n",
              "    </tr>\n",
              "    <tr>\n",
              "      <th>154824</th>\n",
              "      <td>77710</td>\n",
              "      <td>Robert Tait McKenzie</td>\n",
              "      <td>M</td>\n",
              "      <td>65.0</td>\n",
              "      <td>NaN</td>\n",
              "      <td>NaN</td>\n",
              "      <td>Canada</td>\n",
              "      <td>CAN</td>\n",
              "      <td>1932 Summer</td>\n",
              "      <td>1932</td>\n",
              "      <td>Summer</td>\n",
              "      <td>Los Angeles</td>\n",
              "      <td>Art Competitions</td>\n",
              "      <td>Art Competitions Mixed Sculpturing, Unknown Event</td>\n",
              "      <td>NaN</td>\n",
              "    </tr>\n",
              "    <tr>\n",
              "      <th>154825</th>\n",
              "      <td>77710</td>\n",
              "      <td>Robert Tait McKenzie</td>\n",
              "      <td>M</td>\n",
              "      <td>65.0</td>\n",
              "      <td>NaN</td>\n",
              "      <td>NaN</td>\n",
              "      <td>Canada</td>\n",
              "      <td>CAN</td>\n",
              "      <td>1932 Summer</td>\n",
              "      <td>1932</td>\n",
              "      <td>Summer</td>\n",
              "      <td>Los Angeles</td>\n",
              "      <td>Art Competitions</td>\n",
              "      <td>Art Competitions Mixed Sculpturing, Unknown Event</td>\n",
              "      <td>NaN</td>\n",
              "    </tr>\n",
              "    <tr>\n",
              "      <th>154826</th>\n",
              "      <td>77710</td>\n",
              "      <td>Robert Tait McKenzie</td>\n",
              "      <td>M</td>\n",
              "      <td>65.0</td>\n",
              "      <td>NaN</td>\n",
              "      <td>NaN</td>\n",
              "      <td>Canada</td>\n",
              "      <td>CAN</td>\n",
              "      <td>1932 Summer</td>\n",
              "      <td>1932</td>\n",
              "      <td>Summer</td>\n",
              "      <td>Los Angeles</td>\n",
              "      <td>Art Competitions</td>\n",
              "      <td>Art Competitions Mixed Sculpturing, Unknown Event</td>\n",
              "      <td>NaN</td>\n",
              "    </tr>\n",
              "    <tr>\n",
              "      <th>154827</th>\n",
              "      <td>77710</td>\n",
              "      <td>Robert Tait McKenzie</td>\n",
              "      <td>M</td>\n",
              "      <td>65.0</td>\n",
              "      <td>NaN</td>\n",
              "      <td>NaN</td>\n",
              "      <td>Canada</td>\n",
              "      <td>CAN</td>\n",
              "      <td>1932 Summer</td>\n",
              "      <td>1932</td>\n",
              "      <td>Summer</td>\n",
              "      <td>Los Angeles</td>\n",
              "      <td>Art Competitions</td>\n",
              "      <td>Art Competitions Mixed Sculpturing, Unknown Event</td>\n",
              "      <td>NaN</td>\n",
              "    </tr>\n",
              "    <tr>\n",
              "      <th>154828</th>\n",
              "      <td>77710</td>\n",
              "      <td>Robert Tait McKenzie</td>\n",
              "      <td>M</td>\n",
              "      <td>65.0</td>\n",
              "      <td>NaN</td>\n",
              "      <td>NaN</td>\n",
              "      <td>Canada</td>\n",
              "      <td>CAN</td>\n",
              "      <td>1932 Summer</td>\n",
              "      <td>1932</td>\n",
              "      <td>Summer</td>\n",
              "      <td>Los Angeles</td>\n",
              "      <td>Art Competitions</td>\n",
              "      <td>Art Competitions Mixed Sculpturing, Unknown Event</td>\n",
              "      <td>NaN</td>\n",
              "    </tr>\n",
              "    <tr>\n",
              "      <th>154829</th>\n",
              "      <td>77710</td>\n",
              "      <td>Robert Tait McKenzie</td>\n",
              "      <td>M</td>\n",
              "      <td>65.0</td>\n",
              "      <td>NaN</td>\n",
              "      <td>NaN</td>\n",
              "      <td>Canada</td>\n",
              "      <td>CAN</td>\n",
              "      <td>1932 Summer</td>\n",
              "      <td>1932</td>\n",
              "      <td>Summer</td>\n",
              "      <td>Los Angeles</td>\n",
              "      <td>Art Competitions</td>\n",
              "      <td>Art Competitions Mixed Sculpturing, Unknown Event</td>\n",
              "      <td>NaN</td>\n",
              "    </tr>\n",
              "    <tr>\n",
              "      <th>154830</th>\n",
              "      <td>77710</td>\n",
              "      <td>Robert Tait McKenzie</td>\n",
              "      <td>M</td>\n",
              "      <td>65.0</td>\n",
              "      <td>NaN</td>\n",
              "      <td>NaN</td>\n",
              "      <td>Canada</td>\n",
              "      <td>CAN</td>\n",
              "      <td>1932 Summer</td>\n",
              "      <td>1932</td>\n",
              "      <td>Summer</td>\n",
              "      <td>Los Angeles</td>\n",
              "      <td>Art Competitions</td>\n",
              "      <td>Art Competitions Mixed Sculpturing, Unknown Event</td>\n",
              "      <td>NaN</td>\n",
              "    </tr>\n",
              "    <tr>\n",
              "      <th>154831</th>\n",
              "      <td>77710</td>\n",
              "      <td>Robert Tait McKenzie</td>\n",
              "      <td>M</td>\n",
              "      <td>65.0</td>\n",
              "      <td>NaN</td>\n",
              "      <td>NaN</td>\n",
              "      <td>Canada</td>\n",
              "      <td>CAN</td>\n",
              "      <td>1932 Summer</td>\n",
              "      <td>1932</td>\n",
              "      <td>Summer</td>\n",
              "      <td>Los Angeles</td>\n",
              "      <td>Art Competitions</td>\n",
              "      <td>Art Competitions Mixed Sculpturing, Unknown Event</td>\n",
              "      <td>NaN</td>\n",
              "    </tr>\n",
              "    <tr>\n",
              "      <th>154832</th>\n",
              "      <td>77710</td>\n",
              "      <td>Robert Tait McKenzie</td>\n",
              "      <td>M</td>\n",
              "      <td>65.0</td>\n",
              "      <td>NaN</td>\n",
              "      <td>NaN</td>\n",
              "      <td>Canada</td>\n",
              "      <td>CAN</td>\n",
              "      <td>1932 Summer</td>\n",
              "      <td>1932</td>\n",
              "      <td>Summer</td>\n",
              "      <td>Los Angeles</td>\n",
              "      <td>Art Competitions</td>\n",
              "      <td>Art Competitions Mixed Sculpturing, Unknown Event</td>\n",
              "      <td>NaN</td>\n",
              "    </tr>\n",
              "    <tr>\n",
              "      <th>154833</th>\n",
              "      <td>77710</td>\n",
              "      <td>Robert Tait McKenzie</td>\n",
              "      <td>M</td>\n",
              "      <td>65.0</td>\n",
              "      <td>NaN</td>\n",
              "      <td>NaN</td>\n",
              "      <td>Canada</td>\n",
              "      <td>CAN</td>\n",
              "      <td>1932 Summer</td>\n",
              "      <td>1932</td>\n",
              "      <td>Summer</td>\n",
              "      <td>Los Angeles</td>\n",
              "      <td>Art Competitions</td>\n",
              "      <td>Art Competitions Mixed Sculpturing, Unknown Event</td>\n",
              "      <td>NaN</td>\n",
              "    </tr>\n",
              "    <tr>\n",
              "      <th>154834</th>\n",
              "      <td>77710</td>\n",
              "      <td>Robert Tait McKenzie</td>\n",
              "      <td>M</td>\n",
              "      <td>65.0</td>\n",
              "      <td>NaN</td>\n",
              "      <td>NaN</td>\n",
              "      <td>Canada</td>\n",
              "      <td>CAN</td>\n",
              "      <td>1932 Summer</td>\n",
              "      <td>1932</td>\n",
              "      <td>Summer</td>\n",
              "      <td>Los Angeles</td>\n",
              "      <td>Art Competitions</td>\n",
              "      <td>Art Competitions Mixed Sculpturing, Unknown Event</td>\n",
              "      <td>NaN</td>\n",
              "    </tr>\n",
              "    <tr>\n",
              "      <th>154835</th>\n",
              "      <td>77710</td>\n",
              "      <td>Robert Tait McKenzie</td>\n",
              "      <td>M</td>\n",
              "      <td>65.0</td>\n",
              "      <td>NaN</td>\n",
              "      <td>NaN</td>\n",
              "      <td>Canada</td>\n",
              "      <td>CAN</td>\n",
              "      <td>1932 Summer</td>\n",
              "      <td>1932</td>\n",
              "      <td>Summer</td>\n",
              "      <td>Los Angeles</td>\n",
              "      <td>Art Competitions</td>\n",
              "      <td>Art Competitions Mixed Sculpturing, Unknown Event</td>\n",
              "      <td>NaN</td>\n",
              "    </tr>\n",
              "    <tr>\n",
              "      <th>154836</th>\n",
              "      <td>77710</td>\n",
              "      <td>Robert Tait McKenzie</td>\n",
              "      <td>M</td>\n",
              "      <td>65.0</td>\n",
              "      <td>NaN</td>\n",
              "      <td>NaN</td>\n",
              "      <td>Canada</td>\n",
              "      <td>CAN</td>\n",
              "      <td>1932 Summer</td>\n",
              "      <td>1932</td>\n",
              "      <td>Summer</td>\n",
              "      <td>Los Angeles</td>\n",
              "      <td>Art Competitions</td>\n",
              "      <td>Art Competitions Mixed Sculpturing, Unknown Event</td>\n",
              "      <td>NaN</td>\n",
              "    </tr>\n",
              "    <tr>\n",
              "      <th>154837</th>\n",
              "      <td>77710</td>\n",
              "      <td>Robert Tait McKenzie</td>\n",
              "      <td>M</td>\n",
              "      <td>65.0</td>\n",
              "      <td>NaN</td>\n",
              "      <td>NaN</td>\n",
              "      <td>Canada</td>\n",
              "      <td>CAN</td>\n",
              "      <td>1932 Summer</td>\n",
              "      <td>1932</td>\n",
              "      <td>Summer</td>\n",
              "      <td>Los Angeles</td>\n",
              "      <td>Art Competitions</td>\n",
              "      <td>Art Competitions Mixed Sculpturing, Unknown Event</td>\n",
              "      <td>NaN</td>\n",
              "    </tr>\n",
              "    <tr>\n",
              "      <th>154838</th>\n",
              "      <td>77710</td>\n",
              "      <td>Robert Tait McKenzie</td>\n",
              "      <td>M</td>\n",
              "      <td>65.0</td>\n",
              "      <td>NaN</td>\n",
              "      <td>NaN</td>\n",
              "      <td>Canada</td>\n",
              "      <td>CAN</td>\n",
              "      <td>1932 Summer</td>\n",
              "      <td>1932</td>\n",
              "      <td>Summer</td>\n",
              "      <td>Los Angeles</td>\n",
              "      <td>Art Competitions</td>\n",
              "      <td>Art Competitions Mixed Sculpturing, Unknown Event</td>\n",
              "      <td>NaN</td>\n",
              "    </tr>\n",
              "    <tr>\n",
              "      <th>154839</th>\n",
              "      <td>77710</td>\n",
              "      <td>Robert Tait McKenzie</td>\n",
              "      <td>M</td>\n",
              "      <td>65.0</td>\n",
              "      <td>NaN</td>\n",
              "      <td>NaN</td>\n",
              "      <td>Canada</td>\n",
              "      <td>CAN</td>\n",
              "      <td>1932 Summer</td>\n",
              "      <td>1932</td>\n",
              "      <td>Summer</td>\n",
              "      <td>Los Angeles</td>\n",
              "      <td>Art Competitions</td>\n",
              "      <td>Art Competitions Mixed Sculpturing, Unknown Event</td>\n",
              "      <td>NaN</td>\n",
              "    </tr>\n",
              "    <tr>\n",
              "      <th>154840</th>\n",
              "      <td>77710</td>\n",
              "      <td>Robert Tait McKenzie</td>\n",
              "      <td>M</td>\n",
              "      <td>65.0</td>\n",
              "      <td>NaN</td>\n",
              "      <td>NaN</td>\n",
              "      <td>Canada</td>\n",
              "      <td>CAN</td>\n",
              "      <td>1932 Summer</td>\n",
              "      <td>1932</td>\n",
              "      <td>Summer</td>\n",
              "      <td>Los Angeles</td>\n",
              "      <td>Art Competitions</td>\n",
              "      <td>Art Competitions Mixed Sculpturing, Unknown Event</td>\n",
              "      <td>NaN</td>\n",
              "    </tr>\n",
              "    <tr>\n",
              "      <th>154841</th>\n",
              "      <td>77710</td>\n",
              "      <td>Robert Tait McKenzie</td>\n",
              "      <td>M</td>\n",
              "      <td>65.0</td>\n",
              "      <td>NaN</td>\n",
              "      <td>NaN</td>\n",
              "      <td>Canada</td>\n",
              "      <td>CAN</td>\n",
              "      <td>1932 Summer</td>\n",
              "      <td>1932</td>\n",
              "      <td>Summer</td>\n",
              "      <td>Los Angeles</td>\n",
              "      <td>Art Competitions</td>\n",
              "      <td>Art Competitions Mixed Sculpturing, Unknown Event</td>\n",
              "      <td>NaN</td>\n",
              "    </tr>\n",
              "    <tr>\n",
              "      <th>154842</th>\n",
              "      <td>77710</td>\n",
              "      <td>Robert Tait McKenzie</td>\n",
              "      <td>M</td>\n",
              "      <td>65.0</td>\n",
              "      <td>NaN</td>\n",
              "      <td>NaN</td>\n",
              "      <td>Canada</td>\n",
              "      <td>CAN</td>\n",
              "      <td>1932 Summer</td>\n",
              "      <td>1932</td>\n",
              "      <td>Summer</td>\n",
              "      <td>Los Angeles</td>\n",
              "      <td>Art Competitions</td>\n",
              "      <td>Art Competitions Mixed Sculpturing, Unknown Event</td>\n",
              "      <td>NaN</td>\n",
              "    </tr>\n",
              "    <tr>\n",
              "      <th>154843</th>\n",
              "      <td>77710</td>\n",
              "      <td>Robert Tait McKenzie</td>\n",
              "      <td>M</td>\n",
              "      <td>65.0</td>\n",
              "      <td>NaN</td>\n",
              "      <td>NaN</td>\n",
              "      <td>Canada</td>\n",
              "      <td>CAN</td>\n",
              "      <td>1932 Summer</td>\n",
              "      <td>1932</td>\n",
              "      <td>Summer</td>\n",
              "      <td>Los Angeles</td>\n",
              "      <td>Art Competitions</td>\n",
              "      <td>Art Competitions Mixed Sculpturing, Unknown Event</td>\n",
              "      <td>NaN</td>\n",
              "    </tr>\n",
              "    <tr>\n",
              "      <th>154844</th>\n",
              "      <td>77710</td>\n",
              "      <td>Robert Tait McKenzie</td>\n",
              "      <td>M</td>\n",
              "      <td>65.0</td>\n",
              "      <td>NaN</td>\n",
              "      <td>NaN</td>\n",
              "      <td>Canada</td>\n",
              "      <td>CAN</td>\n",
              "      <td>1932 Summer</td>\n",
              "      <td>1932</td>\n",
              "      <td>Summer</td>\n",
              "      <td>Los Angeles</td>\n",
              "      <td>Art Competitions</td>\n",
              "      <td>Art Competitions Mixed Sculpturing, Unknown Event</td>\n",
              "      <td>NaN</td>\n",
              "    </tr>\n",
              "    <tr>\n",
              "      <th>154845</th>\n",
              "      <td>77710</td>\n",
              "      <td>Robert Tait McKenzie</td>\n",
              "      <td>M</td>\n",
              "      <td>65.0</td>\n",
              "      <td>NaN</td>\n",
              "      <td>NaN</td>\n",
              "      <td>Canada</td>\n",
              "      <td>CAN</td>\n",
              "      <td>1932 Summer</td>\n",
              "      <td>1932</td>\n",
              "      <td>Summer</td>\n",
              "      <td>Los Angeles</td>\n",
              "      <td>Art Competitions</td>\n",
              "      <td>Art Competitions Mixed Sculpturing, Unknown Event</td>\n",
              "      <td>NaN</td>\n",
              "    </tr>\n",
              "    <tr>\n",
              "      <th>154846</th>\n",
              "      <td>77710</td>\n",
              "      <td>Robert Tait McKenzie</td>\n",
              "      <td>M</td>\n",
              "      <td>65.0</td>\n",
              "      <td>NaN</td>\n",
              "      <td>NaN</td>\n",
              "      <td>Canada</td>\n",
              "      <td>CAN</td>\n",
              "      <td>1932 Summer</td>\n",
              "      <td>1932</td>\n",
              "      <td>Summer</td>\n",
              "      <td>Los Angeles</td>\n",
              "      <td>Art Competitions</td>\n",
              "      <td>Art Competitions Mixed Sculpturing, Unknown Event</td>\n",
              "      <td>NaN</td>\n",
              "    </tr>\n",
              "    <tr>\n",
              "      <th>154847</th>\n",
              "      <td>77710</td>\n",
              "      <td>Robert Tait McKenzie</td>\n",
              "      <td>M</td>\n",
              "      <td>65.0</td>\n",
              "      <td>NaN</td>\n",
              "      <td>NaN</td>\n",
              "      <td>Canada</td>\n",
              "      <td>CAN</td>\n",
              "      <td>1932 Summer</td>\n",
              "      <td>1932</td>\n",
              "      <td>Summer</td>\n",
              "      <td>Los Angeles</td>\n",
              "      <td>Art Competitions</td>\n",
              "      <td>Art Competitions Mixed Sculpturing, Unknown Event</td>\n",
              "      <td>NaN</td>\n",
              "    </tr>\n",
              "    <tr>\n",
              "      <th>154848</th>\n",
              "      <td>77710</td>\n",
              "      <td>Robert Tait McKenzie</td>\n",
              "      <td>M</td>\n",
              "      <td>65.0</td>\n",
              "      <td>NaN</td>\n",
              "      <td>NaN</td>\n",
              "      <td>Canada</td>\n",
              "      <td>CAN</td>\n",
              "      <td>1932 Summer</td>\n",
              "      <td>1932</td>\n",
              "      <td>Summer</td>\n",
              "      <td>Los Angeles</td>\n",
              "      <td>Art Competitions</td>\n",
              "      <td>Art Competitions Mixed Sculpturing, Unknown Event</td>\n",
              "      <td>NaN</td>\n",
              "    </tr>\n",
              "    <tr>\n",
              "      <th>154849</th>\n",
              "      <td>77710</td>\n",
              "      <td>Robert Tait McKenzie</td>\n",
              "      <td>M</td>\n",
              "      <td>65.0</td>\n",
              "      <td>NaN</td>\n",
              "      <td>NaN</td>\n",
              "      <td>Canada</td>\n",
              "      <td>CAN</td>\n",
              "      <td>1932 Summer</td>\n",
              "      <td>1932</td>\n",
              "      <td>Summer</td>\n",
              "      <td>Los Angeles</td>\n",
              "      <td>Art Competitions</td>\n",
              "      <td>Art Competitions Mixed Sculpturing, Unknown Event</td>\n",
              "      <td>NaN</td>\n",
              "    </tr>\n",
              "    <tr>\n",
              "      <th>154850</th>\n",
              "      <td>77710</td>\n",
              "      <td>Robert Tait McKenzie</td>\n",
              "      <td>M</td>\n",
              "      <td>69.0</td>\n",
              "      <td>NaN</td>\n",
              "      <td>NaN</td>\n",
              "      <td>Canada</td>\n",
              "      <td>CAN</td>\n",
              "      <td>1936 Summer</td>\n",
              "      <td>1936</td>\n",
              "      <td>Summer</td>\n",
              "      <td>Berlin</td>\n",
              "      <td>Art Competitions</td>\n",
              "      <td>Art Competitions Mixed Sculpturing, Medals</td>\n",
              "      <td>NaN</td>\n",
              "    </tr>\n",
              "    <tr>\n",
              "      <th>154851</th>\n",
              "      <td>77710</td>\n",
              "      <td>Robert Tait McKenzie</td>\n",
              "      <td>M</td>\n",
              "      <td>69.0</td>\n",
              "      <td>NaN</td>\n",
              "      <td>NaN</td>\n",
              "      <td>Canada</td>\n",
              "      <td>CAN</td>\n",
              "      <td>1936 Summer</td>\n",
              "      <td>1936</td>\n",
              "      <td>Summer</td>\n",
              "      <td>Berlin</td>\n",
              "      <td>Art Competitions</td>\n",
              "      <td>Art Competitions Mixed Sculpturing, Unknown Event</td>\n",
              "      <td>NaN</td>\n",
              "    </tr>\n",
              "    <tr>\n",
              "      <th>154852</th>\n",
              "      <td>77710</td>\n",
              "      <td>Robert Tait McKenzie</td>\n",
              "      <td>M</td>\n",
              "      <td>69.0</td>\n",
              "      <td>NaN</td>\n",
              "      <td>NaN</td>\n",
              "      <td>Canada</td>\n",
              "      <td>CAN</td>\n",
              "      <td>1936 Summer</td>\n",
              "      <td>1936</td>\n",
              "      <td>Summer</td>\n",
              "      <td>Berlin</td>\n",
              "      <td>Art Competitions</td>\n",
              "      <td>Art Competitions Mixed Sculpturing, Unknown Event</td>\n",
              "      <td>NaN</td>\n",
              "    </tr>\n",
              "    <tr>\n",
              "      <th>154853</th>\n",
              "      <td>77710</td>\n",
              "      <td>Robert Tait McKenzie</td>\n",
              "      <td>M</td>\n",
              "      <td>69.0</td>\n",
              "      <td>NaN</td>\n",
              "      <td>NaN</td>\n",
              "      <td>Canada</td>\n",
              "      <td>CAN</td>\n",
              "      <td>1936 Summer</td>\n",
              "      <td>1936</td>\n",
              "      <td>Summer</td>\n",
              "      <td>Berlin</td>\n",
              "      <td>Art Competitions</td>\n",
              "      <td>Art Competitions Mixed Sculpturing, Unknown Event</td>\n",
              "      <td>NaN</td>\n",
              "    </tr>\n",
              "    <tr>\n",
              "      <th>154854</th>\n",
              "      <td>77710</td>\n",
              "      <td>Robert Tait McKenzie</td>\n",
              "      <td>M</td>\n",
              "      <td>69.0</td>\n",
              "      <td>NaN</td>\n",
              "      <td>NaN</td>\n",
              "      <td>Canada</td>\n",
              "      <td>CAN</td>\n",
              "      <td>1936 Summer</td>\n",
              "      <td>1936</td>\n",
              "      <td>Summer</td>\n",
              "      <td>Berlin</td>\n",
              "      <td>Art Competitions</td>\n",
              "      <td>Art Competitions Mixed Sculpturing, Unknown Event</td>\n",
              "      <td>NaN</td>\n",
              "    </tr>\n",
              "    <tr>\n",
              "      <th>154855</th>\n",
              "      <td>77710</td>\n",
              "      <td>Robert Tait McKenzie</td>\n",
              "      <td>M</td>\n",
              "      <td>81.0</td>\n",
              "      <td>NaN</td>\n",
              "      <td>NaN</td>\n",
              "      <td>Canada</td>\n",
              "      <td>CAN</td>\n",
              "      <td>1948 Summer</td>\n",
              "      <td>1948</td>\n",
              "      <td>Summer</td>\n",
              "      <td>London</td>\n",
              "      <td>Art Competitions</td>\n",
              "      <td>Art Competitions Mixed Sculpturing, Unknown Event</td>\n",
              "      <td>NaN</td>\n",
              "    </tr>\n",
              "  </tbody>\n",
              "</table>\n",
              "</div>"
            ],
            "text/plain": [
              "           ID                  Name Sex   Age  Height  Weight    Team  NOC        Games  Year  Season         City             Sport                                              Event   Medal\n",
              "154798  77710  Robert Tait McKenzie   M  44.0     NaN     NaN  Canada  CAN  1912 Summer  1912  Summer    Stockholm  Art Competitions                 Art Competitions Mixed Sculpturing     NaN\n",
              "154799  77710  Robert Tait McKenzie   M  60.0     NaN     NaN  Canada  CAN  1928 Summer  1928  Summer    Amsterdam  Art Competitions        Art Competitions Mixed Sculpturing, Statues     NaN\n",
              "154800  77710  Robert Tait McKenzie   M  60.0     NaN     NaN  Canada  CAN  1928 Summer  1928  Summer    Amsterdam  Art Competitions        Art Competitions Mixed Sculpturing, Statues     NaN\n",
              "154801  77710  Robert Tait McKenzie   M  60.0     NaN     NaN  Canada  CAN  1928 Summer  1928  Summer    Amsterdam  Art Competitions        Art Competitions Mixed Sculpturing, Statues     NaN\n",
              "154802  77710  Robert Tait McKenzie   M  60.0     NaN     NaN  Canada  CAN  1928 Summer  1928  Summer    Amsterdam  Art Competitions        Art Competitions Mixed Sculpturing, Statues     NaN\n",
              "154803  77710  Robert Tait McKenzie   M  60.0     NaN     NaN  Canada  CAN  1928 Summer  1928  Summer    Amsterdam  Art Competitions        Art Competitions Mixed Sculpturing, Statues     NaN\n",
              "154804  77710  Robert Tait McKenzie   M  60.0     NaN     NaN  Canada  CAN  1928 Summer  1928  Summer    Amsterdam  Art Competitions        Art Competitions Mixed Sculpturing, Statues     NaN\n",
              "154805  77710  Robert Tait McKenzie   M  60.0     NaN     NaN  Canada  CAN  1928 Summer  1928  Summer    Amsterdam  Art Competitions        Art Competitions Mixed Sculpturing, Statues     NaN\n",
              "154806  77710  Robert Tait McKenzie   M  65.0     NaN     NaN  Canada  CAN  1932 Summer  1932  Summer  Los Angeles  Art Competitions  Art Competitions Mixed Sculpturing, Medals And...  Bronze\n",
              "154807  77710  Robert Tait McKenzie   M  65.0     NaN     NaN  Canada  CAN  1932 Summer  1932  Summer  Los Angeles  Art Competitions  Art Competitions Mixed Sculpturing, Unknown Event     NaN\n",
              "154808  77710  Robert Tait McKenzie   M  65.0     NaN     NaN  Canada  CAN  1932 Summer  1932  Summer  Los Angeles  Art Competitions  Art Competitions Mixed Sculpturing, Unknown Event     NaN\n",
              "154809  77710  Robert Tait McKenzie   M  65.0     NaN     NaN  Canada  CAN  1932 Summer  1932  Summer  Los Angeles  Art Competitions  Art Competitions Mixed Sculpturing, Unknown Event     NaN\n",
              "154810  77710  Robert Tait McKenzie   M  65.0     NaN     NaN  Canada  CAN  1932 Summer  1932  Summer  Los Angeles  Art Competitions  Art Competitions Mixed Sculpturing, Unknown Event     NaN\n",
              "154811  77710  Robert Tait McKenzie   M  65.0     NaN     NaN  Canada  CAN  1932 Summer  1932  Summer  Los Angeles  Art Competitions  Art Competitions Mixed Sculpturing, Unknown Event     NaN\n",
              "154812  77710  Robert Tait McKenzie   M  65.0     NaN     NaN  Canada  CAN  1932 Summer  1932  Summer  Los Angeles  Art Competitions  Art Competitions Mixed Sculpturing, Unknown Event     NaN\n",
              "154813  77710  Robert Tait McKenzie   M  65.0     NaN     NaN  Canada  CAN  1932 Summer  1932  Summer  Los Angeles  Art Competitions  Art Competitions Mixed Sculpturing, Unknown Event     NaN\n",
              "154814  77710  Robert Tait McKenzie   M  65.0     NaN     NaN  Canada  CAN  1932 Summer  1932  Summer  Los Angeles  Art Competitions  Art Competitions Mixed Sculpturing, Unknown Event     NaN\n",
              "154815  77710  Robert Tait McKenzie   M  65.0     NaN     NaN  Canada  CAN  1932 Summer  1932  Summer  Los Angeles  Art Competitions  Art Competitions Mixed Sculpturing, Unknown Event     NaN\n",
              "154816  77710  Robert Tait McKenzie   M  65.0     NaN     NaN  Canada  CAN  1932 Summer  1932  Summer  Los Angeles  Art Competitions  Art Competitions Mixed Sculpturing, Unknown Event     NaN\n",
              "154817  77710  Robert Tait McKenzie   M  65.0     NaN     NaN  Canada  CAN  1932 Summer  1932  Summer  Los Angeles  Art Competitions  Art Competitions Mixed Sculpturing, Unknown Event     NaN\n",
              "154818  77710  Robert Tait McKenzie   M  65.0     NaN     NaN  Canada  CAN  1932 Summer  1932  Summer  Los Angeles  Art Competitions  Art Competitions Mixed Sculpturing, Unknown Event     NaN\n",
              "154819  77710  Robert Tait McKenzie   M  65.0     NaN     NaN  Canada  CAN  1932 Summer  1932  Summer  Los Angeles  Art Competitions  Art Competitions Mixed Sculpturing, Unknown Event     NaN\n",
              "154820  77710  Robert Tait McKenzie   M  65.0     NaN     NaN  Canada  CAN  1932 Summer  1932  Summer  Los Angeles  Art Competitions  Art Competitions Mixed Sculpturing, Unknown Event     NaN\n",
              "154821  77710  Robert Tait McKenzie   M  65.0     NaN     NaN  Canada  CAN  1932 Summer  1932  Summer  Los Angeles  Art Competitions  Art Competitions Mixed Sculpturing, Unknown Event     NaN\n",
              "154822  77710  Robert Tait McKenzie   M  65.0     NaN     NaN  Canada  CAN  1932 Summer  1932  Summer  Los Angeles  Art Competitions  Art Competitions Mixed Sculpturing, Unknown Event     NaN\n",
              "154823  77710  Robert Tait McKenzie   M  65.0     NaN     NaN  Canada  CAN  1932 Summer  1932  Summer  Los Angeles  Art Competitions  Art Competitions Mixed Sculpturing, Unknown Event     NaN\n",
              "154824  77710  Robert Tait McKenzie   M  65.0     NaN     NaN  Canada  CAN  1932 Summer  1932  Summer  Los Angeles  Art Competitions  Art Competitions Mixed Sculpturing, Unknown Event     NaN\n",
              "154825  77710  Robert Tait McKenzie   M  65.0     NaN     NaN  Canada  CAN  1932 Summer  1932  Summer  Los Angeles  Art Competitions  Art Competitions Mixed Sculpturing, Unknown Event     NaN\n",
              "154826  77710  Robert Tait McKenzie   M  65.0     NaN     NaN  Canada  CAN  1932 Summer  1932  Summer  Los Angeles  Art Competitions  Art Competitions Mixed Sculpturing, Unknown Event     NaN\n",
              "154827  77710  Robert Tait McKenzie   M  65.0     NaN     NaN  Canada  CAN  1932 Summer  1932  Summer  Los Angeles  Art Competitions  Art Competitions Mixed Sculpturing, Unknown Event     NaN\n",
              "154828  77710  Robert Tait McKenzie   M  65.0     NaN     NaN  Canada  CAN  1932 Summer  1932  Summer  Los Angeles  Art Competitions  Art Competitions Mixed Sculpturing, Unknown Event     NaN\n",
              "154829  77710  Robert Tait McKenzie   M  65.0     NaN     NaN  Canada  CAN  1932 Summer  1932  Summer  Los Angeles  Art Competitions  Art Competitions Mixed Sculpturing, Unknown Event     NaN\n",
              "154830  77710  Robert Tait McKenzie   M  65.0     NaN     NaN  Canada  CAN  1932 Summer  1932  Summer  Los Angeles  Art Competitions  Art Competitions Mixed Sculpturing, Unknown Event     NaN\n",
              "154831  77710  Robert Tait McKenzie   M  65.0     NaN     NaN  Canada  CAN  1932 Summer  1932  Summer  Los Angeles  Art Competitions  Art Competitions Mixed Sculpturing, Unknown Event     NaN\n",
              "154832  77710  Robert Tait McKenzie   M  65.0     NaN     NaN  Canada  CAN  1932 Summer  1932  Summer  Los Angeles  Art Competitions  Art Competitions Mixed Sculpturing, Unknown Event     NaN\n",
              "154833  77710  Robert Tait McKenzie   M  65.0     NaN     NaN  Canada  CAN  1932 Summer  1932  Summer  Los Angeles  Art Competitions  Art Competitions Mixed Sculpturing, Unknown Event     NaN\n",
              "154834  77710  Robert Tait McKenzie   M  65.0     NaN     NaN  Canada  CAN  1932 Summer  1932  Summer  Los Angeles  Art Competitions  Art Competitions Mixed Sculpturing, Unknown Event     NaN\n",
              "154835  77710  Robert Tait McKenzie   M  65.0     NaN     NaN  Canada  CAN  1932 Summer  1932  Summer  Los Angeles  Art Competitions  Art Competitions Mixed Sculpturing, Unknown Event     NaN\n",
              "154836  77710  Robert Tait McKenzie   M  65.0     NaN     NaN  Canada  CAN  1932 Summer  1932  Summer  Los Angeles  Art Competitions  Art Competitions Mixed Sculpturing, Unknown Event     NaN\n",
              "154837  77710  Robert Tait McKenzie   M  65.0     NaN     NaN  Canada  CAN  1932 Summer  1932  Summer  Los Angeles  Art Competitions  Art Competitions Mixed Sculpturing, Unknown Event     NaN\n",
              "154838  77710  Robert Tait McKenzie   M  65.0     NaN     NaN  Canada  CAN  1932 Summer  1932  Summer  Los Angeles  Art Competitions  Art Competitions Mixed Sculpturing, Unknown Event     NaN\n",
              "154839  77710  Robert Tait McKenzie   M  65.0     NaN     NaN  Canada  CAN  1932 Summer  1932  Summer  Los Angeles  Art Competitions  Art Competitions Mixed Sculpturing, Unknown Event     NaN\n",
              "154840  77710  Robert Tait McKenzie   M  65.0     NaN     NaN  Canada  CAN  1932 Summer  1932  Summer  Los Angeles  Art Competitions  Art Competitions Mixed Sculpturing, Unknown Event     NaN\n",
              "154841  77710  Robert Tait McKenzie   M  65.0     NaN     NaN  Canada  CAN  1932 Summer  1932  Summer  Los Angeles  Art Competitions  Art Competitions Mixed Sculpturing, Unknown Event     NaN\n",
              "154842  77710  Robert Tait McKenzie   M  65.0     NaN     NaN  Canada  CAN  1932 Summer  1932  Summer  Los Angeles  Art Competitions  Art Competitions Mixed Sculpturing, Unknown Event     NaN\n",
              "154843  77710  Robert Tait McKenzie   M  65.0     NaN     NaN  Canada  CAN  1932 Summer  1932  Summer  Los Angeles  Art Competitions  Art Competitions Mixed Sculpturing, Unknown Event     NaN\n",
              "154844  77710  Robert Tait McKenzie   M  65.0     NaN     NaN  Canada  CAN  1932 Summer  1932  Summer  Los Angeles  Art Competitions  Art Competitions Mixed Sculpturing, Unknown Event     NaN\n",
              "154845  77710  Robert Tait McKenzie   M  65.0     NaN     NaN  Canada  CAN  1932 Summer  1932  Summer  Los Angeles  Art Competitions  Art Competitions Mixed Sculpturing, Unknown Event     NaN\n",
              "154846  77710  Robert Tait McKenzie   M  65.0     NaN     NaN  Canada  CAN  1932 Summer  1932  Summer  Los Angeles  Art Competitions  Art Competitions Mixed Sculpturing, Unknown Event     NaN\n",
              "154847  77710  Robert Tait McKenzie   M  65.0     NaN     NaN  Canada  CAN  1932 Summer  1932  Summer  Los Angeles  Art Competitions  Art Competitions Mixed Sculpturing, Unknown Event     NaN\n",
              "154848  77710  Robert Tait McKenzie   M  65.0     NaN     NaN  Canada  CAN  1932 Summer  1932  Summer  Los Angeles  Art Competitions  Art Competitions Mixed Sculpturing, Unknown Event     NaN\n",
              "154849  77710  Robert Tait McKenzie   M  65.0     NaN     NaN  Canada  CAN  1932 Summer  1932  Summer  Los Angeles  Art Competitions  Art Competitions Mixed Sculpturing, Unknown Event     NaN\n",
              "154850  77710  Robert Tait McKenzie   M  69.0     NaN     NaN  Canada  CAN  1936 Summer  1936  Summer       Berlin  Art Competitions         Art Competitions Mixed Sculpturing, Medals     NaN\n",
              "154851  77710  Robert Tait McKenzie   M  69.0     NaN     NaN  Canada  CAN  1936 Summer  1936  Summer       Berlin  Art Competitions  Art Competitions Mixed Sculpturing, Unknown Event     NaN\n",
              "154852  77710  Robert Tait McKenzie   M  69.0     NaN     NaN  Canada  CAN  1936 Summer  1936  Summer       Berlin  Art Competitions  Art Competitions Mixed Sculpturing, Unknown Event     NaN\n",
              "154853  77710  Robert Tait McKenzie   M  69.0     NaN     NaN  Canada  CAN  1936 Summer  1936  Summer       Berlin  Art Competitions  Art Competitions Mixed Sculpturing, Unknown Event     NaN\n",
              "154854  77710  Robert Tait McKenzie   M  69.0     NaN     NaN  Canada  CAN  1936 Summer  1936  Summer       Berlin  Art Competitions  Art Competitions Mixed Sculpturing, Unknown Event     NaN\n",
              "154855  77710  Robert Tait McKenzie   M  81.0     NaN     NaN  Canada  CAN  1948 Summer  1948  Summer       London  Art Competitions  Art Competitions Mixed Sculpturing, Unknown Event     NaN"
            ]
          },
          "metadata": {
            "tags": []
          },
          "execution_count": 60
        }
      ]
    },
    {
      "cell_type": "markdown",
      "metadata": {
        "id": "1F9jNAd2Qx6M"
      },
      "source": [
        "## Which country won most number of medals in the history of olympics ?\n",
        "Let us calculate -\n",
        "- Country with max gold medals \n",
        "- Country with max solver medals \n",
        "- Country with max bronze medals \n",
        "- Country with max total medals"
      ]
    },
    {
      "cell_type": "code",
      "metadata": {
        "colab": {
          "base_uri": "https://localhost:8080/"
        },
        "id": "-2BjAJ4sRK1x",
        "outputId": "730ee86a-33b2-4ab7-b99b-c5e453885e26"
      },
      "source": [
        "print(athelete_events_df.info())"
      ],
      "execution_count": 61,
      "outputs": [
        {
          "output_type": "stream",
          "text": [
            "<class 'pandas.core.frame.DataFrame'>\n",
            "RangeIndex: 271116 entries, 0 to 271115\n",
            "Data columns (total 15 columns):\n",
            " #   Column  Non-Null Count   Dtype  \n",
            "---  ------  --------------   -----  \n",
            " 0   ID      271116 non-null  int64  \n",
            " 1   Name    271116 non-null  object \n",
            " 2   Sex     271116 non-null  object \n",
            " 3   Age     261642 non-null  float64\n",
            " 4   Height  210945 non-null  float64\n",
            " 5   Weight  208241 non-null  float64\n",
            " 6   Team    271116 non-null  object \n",
            " 7   NOC     271116 non-null  object \n",
            " 8   Games   271116 non-null  object \n",
            " 9   Year    271116 non-null  int64  \n",
            " 10  Season  271116 non-null  object \n",
            " 11  City    271116 non-null  object \n",
            " 12  Sport   271116 non-null  object \n",
            " 13  Event   271116 non-null  object \n",
            " 14  Medal   39783 non-null   object \n",
            "dtypes: float64(3), int64(2), object(10)\n",
            "memory usage: 31.0+ MB\n",
            "None\n"
          ],
          "name": "stdout"
        }
      ]
    },
    {
      "cell_type": "code",
      "metadata": {
        "colab": {
          "base_uri": "https://localhost:8080/"
        },
        "id": "YwnQq_tlKXDv",
        "outputId": "cf875cbd-8bd2-4d5e-e58b-9a089c4ad961"
      },
      "source": [
        "#Get the medal count for each country \n",
        "unique_list_of_countries = athelete_events_df[\"Team\"].unique()\n",
        "print(\"Unique list of coutries - \", unique_list_of_countries)\n",
        "print(\"Length of countries - \", len(unique_list_of_countries))"
      ],
      "execution_count": 77,
      "outputs": [
        {
          "output_type": "stream",
          "text": [
            "Unique list of coutries -  ['China' 'Denmark' 'Denmark/Sweden' ... 'Solos Carex' 'Dow Jones' 'Digby']\n",
            "Length of countries -  1184\n"
          ],
          "name": "stdout"
        }
      ]
    },
    {
      "cell_type": "markdown",
      "metadata": {
        "id": "tNQl_bppaMCU"
      },
      "source": [
        "The outcome above does not look unique as we dont have this many numbe rof countries in the world. That means we cannot rely on this column for count.Let us see any other column which can get us this count "
      ]
    },
    {
      "cell_type": "code",
      "metadata": {
        "colab": {
          "base_uri": "https://localhost:8080/"
        },
        "id": "epLLq-2aKXAe",
        "outputId": "324a2145-aa5f-430d-ba17-4bc7503b97e4"
      },
      "source": [
        "#Get the medal count for each country \n",
        "unique_list_of_countries = athelete_events_df[\"NOC\"].unique()\n",
        "\n",
        "print(\"Unique list of coutries (NOC) - \\n\\n\", unique_list_of_countries)\n",
        "print(\"\")\n",
        "print(\"Length of countries(NOC) - \", len(unique_list_of_countries))"
      ],
      "execution_count": 83,
      "outputs": [
        {
          "output_type": "stream",
          "text": [
            "Unique list of coutries (NOC) - \n",
            "\n",
            " ['CHN' 'DEN' 'NED' 'USA' 'FIN' 'NOR' 'ROU' 'EST' 'FRA' 'MAR' 'ESP' 'EGY'\n",
            " 'IRI' 'BUL' 'ITA' 'CHA' 'AZE' 'SUD' 'RUS' 'ARG' 'CUB' 'BLR' 'GRE' 'CMR'\n",
            " 'TUR' 'CHI' 'MEX' 'URS' 'NCA' 'HUN' 'NGR' 'ALG' 'KUW' 'BRN' 'PAK' 'IRQ'\n",
            " 'UAR' 'LIB' 'QAT' 'MAS' 'GER' 'CAN' 'IRL' 'AUS' 'RSA' 'ERI' 'TAN' 'JOR'\n",
            " 'TUN' 'LBA' 'BEL' 'DJI' 'PLE' 'COM' 'KAZ' 'BRU' 'IND' 'KSA' 'SYR' 'MDV'\n",
            " 'ETH' 'UAE' 'YAR' 'INA' 'PHI' 'SGP' 'UZB' 'KGZ' 'TJK' 'EUN' 'JPN' 'CGO'\n",
            " 'SUI' 'BRA' 'FRG' 'GDR' 'MON' 'ISR' 'URU' 'SWE' 'ISV' 'SRI' 'ARM' 'CIV'\n",
            " 'KEN' 'BEN' 'UKR' 'GBR' 'GHA' 'SOM' 'LAT' 'NIG' 'MLI' 'AFG' 'POL' 'CRC'\n",
            " 'PAN' 'GEO' 'SLO' 'CRO' 'GUY' 'NZL' 'POR' 'PAR' 'ANG' 'VEN' 'COL' 'BAN'\n",
            " 'PER' 'ESA' 'PUR' 'UGA' 'HON' 'ECU' 'TKM' 'MRI' 'SEY' 'TCH' 'LUX' 'MTN'\n",
            " 'CZE' 'SKN' 'TTO' 'DOM' 'VIN' 'JAM' 'LBR' 'SUR' 'NEP' 'MGL' 'AUT' 'PLW'\n",
            " 'LTU' 'TOG' 'NAM' 'AHO' 'ISL' 'ASA' 'SAM' 'RWA' 'DMA' 'HAI' 'MLT' 'CYP'\n",
            " 'GUI' 'BIZ' 'YMD' 'KOR' 'THA' 'BER' 'ANZ' 'SCG' 'SLE' 'PNG' 'YEM' 'IOA'\n",
            " 'OMA' 'FIJ' 'VAN' 'MDA' 'YUG' 'BAH' 'GUA' 'SRB' 'IVB' 'MOZ' 'CAF' 'MAD'\n",
            " 'MAL' 'BIH' 'GUM' 'CAY' 'SVK' 'BAR' 'GBS' 'TLS' 'COD' 'GAB' 'SMR' 'LAO'\n",
            " 'BOT' 'ROT' 'CAM' 'PRK' 'SOL' 'SEN' 'CPV' 'CRT' 'GEQ' 'BOL' 'SAA' 'AND'\n",
            " 'ANT' 'ZIM' 'GRN' 'HKG' 'LCA' 'FSM' 'MYA' 'MAW' 'ZAM' 'RHO' 'TPE' 'STP'\n",
            " 'MKD' 'BOH' 'TGA' 'LIE' 'MNE' 'GAM' 'COK' 'ALB' 'WIF' 'SWZ' 'BUR' 'NBO'\n",
            " 'BDI' 'ARU' 'NRU' 'VNM' 'VIE' 'BHU' 'MHL' 'KIR' 'UNK' 'TUV' 'NFL' 'KOS'\n",
            " 'SSD' 'LES']\n",
            "\n",
            "Length of countries(NOC) -  230\n"
          ],
          "name": "stdout"
        }
      ]
    },
    {
      "cell_type": "markdown",
      "metadata": {
        "id": "zB47o8kfayog"
      },
      "source": [
        "The above outcome looks good as we practically have 230 countries in the world"
      ]
    },
    {
      "cell_type": "markdown",
      "metadata": {
        "id": "Wav8TP1OgDtA"
      },
      "source": [
        "Let us try to get gold, silver and bronze count for one country"
      ]
    },
    {
      "cell_type": "code",
      "metadata": {
        "colab": {
          "base_uri": "https://localhost:8080/"
        },
        "id": "RcqFFYdZdumt",
        "outputId": "670fbe9f-b0b2-429b-95ac-f6f63ad2b1af"
      },
      "source": [
        "chinese_medal_count = athelete_events_df[athelete_events_df[\"NOC\"] == \"CHN\"]\n",
        "\n",
        "gold = chinese_medal_count[\"Medal\"].value_counts()[\"Gold\"]\n",
        "silver = chinese_medal_count[\"Medal\"].value_counts()[\"Silver\"]\n",
        "bronze = chinese_medal_count[\"Medal\"].value_counts()[\"Bronze\"]\n",
        "print(gold, silver, bronze)"
      ],
      "execution_count": 167,
      "outputs": [
        {
          "output_type": "stream",
          "text": [
            "350 347 292\n"
          ],
          "name": "stdout"
        }
      ]
    },
    {
      "cell_type": "markdown",
      "metadata": {
        "id": "TEUv5qm_gL3s"
      },
      "source": [
        "Let us apply this logic for all countries in the list "
      ]
    },
    {
      "cell_type": "code",
      "metadata": {
        "id": "tYPktpdfKW6X"
      },
      "source": [
        "medal_count_list = []\n",
        "\n",
        "for country in unique_list_of_countries:\n",
        "  gold = silver = bronze = 0\n",
        "  medal_count = athelete_events_df[athelete_events_df[\"NOC\"] == country]\n",
        "  \n",
        "  try:\n",
        "    gold = medal_count[\"Medal\"].value_counts()[\"Gold\"]\n",
        "  except KeyError:\n",
        "    gold = 0\n",
        "  \n",
        "  try:\n",
        "    silver = medal_count[\"Medal\"].value_counts()[\"Silver\"]\n",
        "  except KeyError:\n",
        "    silver = 0\n",
        "  \n",
        "  try:\n",
        "    bronze = medal_count[\"Medal\"].value_counts()[\"Bronze\"]\n",
        "  except KeyError:\n",
        "    bronze = 0\n",
        "\n",
        "  medal_dict = {}\n",
        "  medal_dict = {\n",
        "      \"Country\": country,\n",
        "      \"Gold\": gold,\n",
        "      \"Silver\": silver,\n",
        "      \"Bronze\": bronze, \n",
        "      \"Total\" : gold + silver + bronze\n",
        "      }\n",
        "  #print(country_medal_df)\n",
        "  medal_count_list.append(medal_dict)\n",
        "  \n",
        "  #df1.append(df2)"
      ],
      "execution_count": 168,
      "outputs": []
    },
    {
      "cell_type": "code",
      "metadata": {
        "colab": {
          "base_uri": "https://localhost:8080/"
        },
        "id": "5hrFNyhdjjtY",
        "outputId": "bf0ccead-9ecd-43c9-b84c-d1ba2c0c6e94"
      },
      "source": [
        "medal_count_df = pd.DataFrame(medal_count_list)\n",
        "print(medal_count_df)"
      ],
      "execution_count": 169,
      "outputs": [
        {
          "output_type": "stream",
          "text": [
            "    Country  Gold  Silver  Bronze  Total\n",
            "0       CHN   350     347     292    989\n",
            "1       DEN   179     241     177    597\n",
            "2       NED   287     340     413   1040\n",
            "3       USA  2638    1641    1358   5637\n",
            "4       FIN   198     270     432    900\n",
            "..      ...   ...     ...     ...    ...\n",
            "225     TUV     0       0       0      0\n",
            "226     NFL     0       0       0      0\n",
            "227     KOS     1       0       0      1\n",
            "228     SSD     0       0       0      0\n",
            "229     LES     0       0       0      0\n",
            "\n",
            "[230 rows x 5 columns]\n"
          ],
          "name": "stdout"
        }
      ]
    },
    {
      "cell_type": "markdown",
      "metadata": {
        "id": "oQnDyp5Er1K8"
      },
      "source": [
        "Let us know count the country with max number of gold medals and plot a graph of top 10 countries with gold medals "
      ]
    },
    {
      "cell_type": "code",
      "metadata": {
        "colab": {
          "base_uri": "https://localhost:8080/"
        },
        "id": "0y89iLa5le6j",
        "outputId": "62ad710a-4332-462d-fcdc-fda8306f719b"
      },
      "source": [
        "max_gold_index = medal_count_df[\"Gold\"].idxmax()\n",
        "print(\"Country with Max Gold - \", medal_count_df.loc[max_gold_index][\"Country\"])\n",
        "print(\"Number of Gold medals won - \", medal_count_df.loc[max_gold_index][\"Gold\"])"
      ],
      "execution_count": 170,
      "outputs": [
        {
          "output_type": "stream",
          "text": [
            "Country with Max Gold -  USA\n",
            "Number of Gold medals won -  2638\n"
          ],
          "name": "stdout"
        }
      ]
    },
    {
      "cell_type": "markdown",
      "metadata": {
        "id": "E-oOWUayrBLN"
      },
      "source": [
        "Below is the bar graph to show the gold medal count for top 10 countries "
      ]
    },
    {
      "cell_type": "code",
      "metadata": {
        "colab": {
          "base_uri": "https://localhost:8080/",
          "height": 280
        },
        "id": "0wEk-V55nFz5",
        "outputId": "d73f39e3-250d-439b-b02c-a2543393d53b"
      },
      "source": [
        "medal_count_df.sort_values(\"Gold\", axis = 0, ascending = False, inplace = True)\n",
        "sns.barplot(x = \"Country\", y = \"Gold\", data = medal_count_df.head(10));"
      ],
      "execution_count": 171,
      "outputs": [
        {
          "output_type": "display_data",
          "data": {
            "image/png": "[encoded data removed]",
            "text/plain": [
              "<Figure size 432x288 with 1 Axes>"
            ]
          },
          "metadata": {
            "tags": []
          }
        }
      ]
    },
    {
      "cell_type": "markdown",
      "metadata": {
        "id": "82yC-pCar9OP"
      },
      "source": [
        "Let us know count the country with max number of silver medals and plot a graph of top 10 countries with max silver medals "
      ]
    },
    {
      "cell_type": "code",
      "metadata": {
        "colab": {
          "base_uri": "https://localhost:8080/"
        },
        "id": "IE2hl1NLsCRB",
        "outputId": "2a3e295f-3baf-4d5a-ed47-d7b57703b3fe"
      },
      "source": [
        "max_gold_index = medal_count_df[\"Silver\"].idxmax()\n",
        "print(\"Country with Max Silver - \", medal_count_df.loc[max_gold_index][\"Country\"])\n",
        "print(\"Number of Silver medals won - \", medal_count_df.loc[max_gold_index][\"Silver\"])"
      ],
      "execution_count": 172,
      "outputs": [
        {
          "output_type": "stream",
          "text": [
            "Country with Max Silver -  USA\n",
            "Number of Silver medals won -  1641\n"
          ],
          "name": "stdout"
        }
      ]
    },
    {
      "cell_type": "code",
      "metadata": {
        "colab": {
          "base_uri": "https://localhost:8080/",
          "height": 280
        },
        "id": "-DHDzV9XsUWj",
        "outputId": "0c019270-41af-4cdf-8eea-290146f265d4"
      },
      "source": [
        "medal_count_df.sort_values(\"Silver\", axis = 0, ascending = False, inplace = True)\n",
        "sns.barplot(x = \"Country\", y = \"Silver\", data = medal_count_df.head(10));"
      ],
      "execution_count": 173,
      "outputs": [
        {
          "output_type": "display_data",
          "data": {
            "image/png": "[encoded data removed]",
            "text/plain": [
              "<Figure size 432x288 with 1 Axes>"
            ]
          },
          "metadata": {
            "tags": []
          }
        }
      ]
    },
    {
      "cell_type": "code",
      "metadata": {
        "colab": {
          "base_uri": "https://localhost:8080/"
        },
        "id": "-ywNoj5qsJFb",
        "outputId": "9faf921a-661f-4cf2-98ce-9859d04c41b7"
      },
      "source": [
        "max_gold_index = medal_count_df[\"Bronze\"].idxmax()\n",
        "print(\"Country with max Bronze  - \", medal_count_df.loc[max_gold_index][\"Country\"])\n",
        "print(\"Number of Bronze medals won - \", medal_count_df.loc[max_gold_index][\"Bronze\"])"
      ],
      "execution_count": 174,
      "outputs": [
        {
          "output_type": "stream",
          "text": [
            "Country with max Bronze  -  USA\n",
            "Number of Bronze medals won -  1358\n"
          ],
          "name": "stdout"
        }
      ]
    },
    {
      "cell_type": "code",
      "metadata": {
        "colab": {
          "base_uri": "https://localhost:8080/",
          "height": 280
        },
        "id": "L62sWYMUsvnJ",
        "outputId": "18906e1e-57f9-40b9-b48f-fe987460dfc2"
      },
      "source": [
        "medal_count_df.sort_values(\"Bronze\", axis = 0, ascending = False, inplace = True)\n",
        "sns.barplot(x = \"Country\", y = \"Bronze\", data = medal_count_df.head(10));"
      ],
      "execution_count": 175,
      "outputs": [
        {
          "output_type": "display_data",
          "data": {
            "image/png": "[encoded data removed]",
            "text/plain": [
              "<Figure size 432x288 with 1 Axes>"
            ]
          },
          "metadata": {
            "tags": []
          }
        }
      ]
    },
    {
      "cell_type": "code",
      "metadata": {
        "colab": {
          "base_uri": "https://localhost:8080/"
        },
        "id": "j4rEO55mtaUX",
        "outputId": "e92baa91-7f4c-4eb7-aa23-6e0dc3e408fe"
      },
      "source": [
        "max_gold_index = medal_count_df[\"Total\"].idxmax()\n",
        "print(\"Country with max number of medals  - \", medal_count_df.loc[max_gold_index][\"Country\"])\n",
        "print(\"Number of  medals won - \", medal_count_df.loc[max_gold_index][\"Total\"])"
      ],
      "execution_count": 177,
      "outputs": [
        {
          "output_type": "stream",
          "text": [
            "Country with max number of medals  -  USA\n",
            "Number of  medals won -  5637\n"
          ],
          "name": "stdout"
        }
      ]
    },
    {
      "cell_type": "code",
      "metadata": {
        "colab": {
          "base_uri": "https://localhost:8080/",
          "height": 280
        },
        "id": "noMU4i1HtvG_",
        "outputId": "46e6bebc-ba10-41af-d5b2-ea6d4cca12cd"
      },
      "source": [
        "medal_count_df.sort_values(\"Total\", axis = 0, ascending = False, inplace = True)\n",
        "sns.barplot(x = \"Country\", y = \"Total\", data = medal_count_df.head(10));"
      ],
      "execution_count": 178,
      "outputs": [
        {
          "output_type": "display_data",
          "data": {
            "image/png": "[encoded data removed]",
            "text/plain": [
              "<Figure size 432x288 with 1 Axes>"
            ]
          },
          "metadata": {
            "tags": []
          }
        }
      ]
    },
    {
      "cell_type": "markdown",
      "metadata": {
        "id": "d5jq_3GwuK_q"
      },
      "source": [
        "## How many countries never won a medal in Olympics ?\n",
        "We need to get the list of countries which never won a gold, silver or bronze in olympic history"
      ]
    },
    {
      "cell_type": "code",
      "metadata": {
        "colab": {
          "base_uri": "https://localhost:8080/"
        },
        "id": "WhWjZGCTuW8Q",
        "outputId": "d696fafc-c399-4b9b-89be-c93c96e1955c"
      },
      "source": [
        "never_won_any_medal = medal_count_df[medal_count_df[\"Total\"] == 0]\n",
        "print(\"Total number of countries which never won any olympic medal is \", len(never_won_any_medal))\n",
        "print(\"List of those countries - \")\n",
        "print(never_won_any_medal[\"Country\"].tolist())"
      ],
      "execution_count": 182,
      "outputs": [
        {
          "output_type": "stream",
          "text": [
            "Total number of countries which never won any olympic medal is  81\n",
            "List of those countries - \n",
            "['YAR', 'CGO', 'SOL', 'GUI', 'SOM', 'SMR', 'BUR', 'BAN', 'CAY', 'GBS', 'BIH', 'OMA', 'CHA', 'ANG', 'NCA', 'SKN', 'VIN', 'TKM', 'LBR', 'PLW', 'HON', 'ASA', 'SAM', 'RWA', 'DMA', 'SEY', 'MLT', 'BIZ', 'YMD', 'SLE', 'YEM', 'MTN', 'VAN', 'GUM', 'SWZ', 'CAM', 'COK', 'CRT', 'GAM', 'ALB', 'SSD', 'NFL', 'TUV', 'UNK', 'KIR', 'MHL', 'BHU', 'BEN', 'NRU', 'ARU', 'NBO', 'MAW', 'MAL', 'MAD', 'CAF', 'ROT', 'LAO', 'FSM', 'MLI', 'BOL', 'SAA', 'ESA', 'LBA', 'MDV', 'PLE', 'COM', 'TLS', 'COD', 'PNG', 'CPV', 'GEQ', 'BRU', 'IVB', 'STP', 'RHO', 'VNM', 'MYA', 'LCA', 'ANT', 'AND', 'LES']\n"
          ],
          "name": "stdout"
        }
      ]
    },
    {
      "cell_type": "markdown",
      "metadata": {
        "id": "aJKR2-xDvRFj"
      },
      "source": [
        "## How many countries never won a Gold medal in Olympics ?"
      ]
    },
    {
      "cell_type": "code",
      "metadata": {
        "colab": {
          "base_uri": "https://localhost:8080/"
        },
        "id": "0rLmEawZvUgU",
        "outputId": "c0606def-058b-47d8-c369-f3572a3c5b0d"
      },
      "source": [
        "never_won_any_medal = medal_count_df[medal_count_df[\"Gold\"] == 0]\n",
        "print(\"Total number of countries which never won a Gold olympic medal is \", len(never_won_any_medal))\n",
        "print(\"List of those countries - \")\n",
        "print(never_won_any_medal[\"Country\"].tolist())"
      ],
      "execution_count": 183,
      "outputs": [
        {
          "output_type": "stream",
          "text": [
            "Total number of countries which never won a Gold olympic medal is  121\n",
            "List of those countries - \n",
            "['GHA', 'PAR', 'ISL', 'MAS', 'MNE', 'BOH', 'PHI', 'MDA', 'KSA', 'WIF', 'QAT', 'NAM', 'LIB', 'KGZ', 'ZAM', 'SRI', 'UAR', 'NIG', 'KUW', 'AFG', 'TAN', 'BOT', 'CYP', 'GAB', 'SUD', 'AHO', 'TGA', 'GUA', 'SEN', 'ISV', 'MON', 'MRI', 'MKD', 'ERI', 'BAR', 'DJI', 'TOG', 'GUY', 'IRQ', 'BER', 'YAR', 'CGO', 'SOL', 'GUI', 'SOM', 'SMR', 'BUR', 'BAN', 'CAY', 'GBS', 'BIH', 'OMA', 'CHA', 'ANG', 'NCA', 'SKN', 'VIN', 'TKM', 'LBR', 'PLW', 'HON', 'ASA', 'SAM', 'RWA', 'DMA', 'SEY', 'MLT', 'BIZ', 'YMD', 'SLE', 'YEM', 'MTN', 'VAN', 'GUM', 'SWZ', 'CAM', 'COK', 'CRT', 'GAM', 'ALB', 'SSD', 'NFL', 'TUV', 'UNK', 'KIR', 'MHL', 'BHU', 'BEN', 'NRU', 'ARU', 'NBO', 'MAW', 'MAL', 'MAD', 'CAF', 'ROT', 'LAO', 'FSM', 'MLI', 'BOL', 'SAA', 'ESA', 'LBA', 'MDV', 'PLE', 'COM', 'TLS', 'COD', 'PNG', 'CPV', 'GEQ', 'BRU', 'IVB', 'STP', 'RHO', 'VNM', 'MYA', 'LCA', 'ANT', 'AND', 'LES']\n"
          ],
          "name": "stdout"
        }
      ]
    },
    {
      "cell_type": "code",
      "metadata": {
        "colab": {
          "base_uri": "https://localhost:8080/"
        },
        "id": "zLB7Sj0_vaVh",
        "outputId": "1ea61b64-cd05-4561-dcf4-3c5759462919"
      },
      "source": [
        "never_won_any_medal = medal_count_df[medal_count_df[\"Silver\"] == 0]\n",
        "print(\"Total number of countries which never won a Silver olympic medal is \", len(never_won_any_medal))\n",
        "print(\"List of those countries - \")\n",
        "print(never_won_any_medal[\"Country\"].tolist())"
      ],
      "execution_count": 184,
      "outputs": [
        {
          "output_type": "stream",
          "text": [
            "Total number of countries which never won a Gold olympic medal is  102\n",
            "List of those countries - \n",
            "['FIJ', 'WIF', 'PAN', 'MOZ', 'UAE', 'SUR', 'KUW', 'AFG', 'MON', 'MRI', 'MKD', 'ERI', 'BAR', 'DJI', 'TOG', 'GUY', 'IRQ', 'NEP', 'JOR', 'KOS', 'BER', 'YAR', 'CGO', 'SOL', 'GUI', 'SOM', 'SMR', 'BUR', 'BAN', 'CAY', 'GBS', 'BIH', 'OMA', 'CHA', 'ANG', 'NCA', 'SKN', 'VIN', 'TKM', 'LBR', 'PLW', 'HON', 'ASA', 'SAM', 'RWA', 'DMA', 'SEY', 'MLT', 'BIZ', 'YMD', 'SLE', 'YEM', 'MTN', 'VAN', 'GUM', 'SWZ', 'CAM', 'COK', 'CRT', 'GAM', 'ALB', 'SSD', 'NFL', 'TUV', 'UNK', 'KIR', 'MHL', 'BHU', 'BEN', 'NRU', 'ARU', 'NBO', 'MAW', 'MAL', 'MAD', 'CAF', 'ROT', 'LAO', 'FSM', 'MLI', 'BOL', 'SAA', 'ESA', 'LBA', 'MDV', 'PLE', 'COM', 'TLS', 'COD', 'PNG', 'CPV', 'GEQ', 'BRU', 'IVB', 'STP', 'RHO', 'VNM', 'MYA', 'LCA', 'ANT', 'AND', 'LES']\n"
          ],
          "name": "stdout"
        }
      ]
    },
    {
      "cell_type": "code",
      "metadata": {
        "colab": {
          "base_uri": "https://localhost:8080/"
        },
        "id": "SPsF2Ponvbwh",
        "outputId": "2fa9a446-8144-473d-c047-b415f6fb2a5e"
      },
      "source": [
        "never_won_any_medal = medal_count_df[medal_count_df[\"Bronze\"] == 0]\n",
        "print(\"Total number of countries which never won a Bronze olympic medal is \", len(never_won_any_medal))\n",
        "print(\"List of those countries - \")\n",
        "print(never_won_any_medal[\"Country\"].tolist())"
      ],
      "execution_count": 186,
      "outputs": [
        {
          "output_type": "stream",
          "text": [
            "Total number of countries which never won a Bronze olympic medal is  105\n",
            "List of those countries - \n",
            "['PAR', 'PER', 'MNE', 'FIJ', 'LUX', 'NAM', 'VIE', 'SRI', 'BDI', 'ECU', 'GRN', 'TAN', 'BOT', 'CYP', 'GAB', 'SUD', 'AHO', 'TGA', 'GUA', 'SEN', 'ISV', 'NEP', 'JOR', 'KOS', 'YAR', 'CGO', 'SOL', 'GUI', 'SOM', 'SMR', 'BUR', 'BAN', 'CAY', 'GBS', 'BIH', 'OMA', 'CHA', 'ANG', 'NCA', 'SKN', 'VIN', 'TKM', 'LBR', 'PLW', 'HON', 'ASA', 'SAM', 'RWA', 'DMA', 'SEY', 'MLT', 'BIZ', 'YMD', 'SLE', 'YEM', 'MTN', 'VAN', 'GUM', 'SWZ', 'CAM', 'COK', 'CRT', 'GAM', 'ALB', 'SSD', 'NFL', 'TUV', 'UNK', 'KIR', 'MHL', 'BHU', 'BEN', 'NRU', 'ARU', 'NBO', 'MAW', 'MAL', 'MAD', 'CAF', 'ROT', 'LAO', 'FSM', 'MLI', 'BOL', 'SAA', 'ESA', 'LBA', 'MDV', 'PLE', 'COM', 'TLS', 'COD', 'PNG', 'CPV', 'GEQ', 'BRU', 'IVB', 'STP', 'RHO', 'VNM', 'MYA', 'LCA', 'ANT', 'AND', 'LES']\n"
          ],
          "name": "stdout"
        }
      ]
    },
    {
      "cell_type": "code",
      "metadata": {
        "colab": {
          "base_uri": "https://localhost:8080/",
          "height": 419
        },
        "id": "YlaUTqYuyMn2",
        "outputId": "53cd57f9-b090-474a-d931-9523fdaf4e1b"
      },
      "source": [
        "medal_count_df[\"Total\"]\n"
      ],
      "execution_count": 197,
      "outputs": [
        {
          "output_type": "execute_result",
          "data": {
            "text/html": [
              "<div>\n",
              "<style scoped>\n",
              "    .dataframe tbody tr th:only-of-type {\n",
              "        vertical-align: middle;\n",
              "    }\n",
              "\n",
              "    .dataframe tbody tr th {\n",
              "        vertical-align: top;\n",
              "    }\n",
              "\n",
              "    .dataframe thead th {\n",
              "        text-align: right;\n",
              "    }\n",
              "</style>\n",
              "<table border=\"1\" class=\"dataframe\">\n",
              "  <thead>\n",
              "    <tr style=\"text-align: right;\">\n",
              "      <th></th>\n",
              "      <th>Country</th>\n",
              "      <th>Gold</th>\n",
              "      <th>Silver</th>\n",
              "      <th>Bronze</th>\n",
              "    </tr>\n",
              "  </thead>\n",
              "  <tbody>\n",
              "    <tr>\n",
              "      <th>3</th>\n",
              "      <td>USA</td>\n",
              "      <td>2638</td>\n",
              "      <td>1641</td>\n",
              "      <td>1358</td>\n",
              "    </tr>\n",
              "    <tr>\n",
              "      <th>27</th>\n",
              "      <td>URS</td>\n",
              "      <td>1082</td>\n",
              "      <td>732</td>\n",
              "      <td>689</td>\n",
              "    </tr>\n",
              "    <tr>\n",
              "      <th>40</th>\n",
              "      <td>GER</td>\n",
              "      <td>745</td>\n",
              "      <td>674</td>\n",
              "      <td>746</td>\n",
              "    </tr>\n",
              "    <tr>\n",
              "      <th>87</th>\n",
              "      <td>GBR</td>\n",
              "      <td>678</td>\n",
              "      <td>739</td>\n",
              "      <td>651</td>\n",
              "    </tr>\n",
              "    <tr>\n",
              "      <th>8</th>\n",
              "      <td>FRA</td>\n",
              "      <td>501</td>\n",
              "      <td>610</td>\n",
              "      <td>666</td>\n",
              "    </tr>\n",
              "    <tr>\n",
              "      <th>...</th>\n",
              "      <td>...</td>\n",
              "      <td>...</td>\n",
              "      <td>...</td>\n",
              "      <td>...</td>\n",
              "    </tr>\n",
              "    <tr>\n",
              "      <th>191</th>\n",
              "      <td>AND</td>\n",
              "      <td>0</td>\n",
              "      <td>0</td>\n",
              "      <td>0</td>\n",
              "    </tr>\n",
              "    <tr>\n",
              "      <th>49</th>\n",
              "      <td>LBA</td>\n",
              "      <td>0</td>\n",
              "      <td>0</td>\n",
              "      <td>0</td>\n",
              "    </tr>\n",
              "    <tr>\n",
              "      <th>203</th>\n",
              "      <td>STP</td>\n",
              "      <td>0</td>\n",
              "      <td>0</td>\n",
              "      <td>0</td>\n",
              "    </tr>\n",
              "    <tr>\n",
              "      <th>228</th>\n",
              "      <td>SSD</td>\n",
              "      <td>0</td>\n",
              "      <td>0</td>\n",
              "      <td>0</td>\n",
              "    </tr>\n",
              "    <tr>\n",
              "      <th>229</th>\n",
              "      <td>LES</td>\n",
              "      <td>0</td>\n",
              "      <td>0</td>\n",
              "      <td>0</td>\n",
              "    </tr>\n",
              "  </tbody>\n",
              "</table>\n",
              "<p>230 rows × 4 columns</p>\n",
              "</div>"
            ],
            "text/plain": [
              "    Country  Gold  Silver  Bronze\n",
              "3       USA  2638    1641    1358\n",
              "27      URS  1082     732     689\n",
              "40      GER   745     674     746\n",
              "87      GBR   678     739     651\n",
              "8       FRA   501     610     666\n",
              "..      ...   ...     ...     ...\n",
              "191     AND     0       0       0\n",
              "49      LBA     0       0       0\n",
              "203     STP     0       0       0\n",
              "228     SSD     0       0       0\n",
              "229     LES     0       0       0\n",
              "\n",
              "[230 rows x 4 columns]"
            ]
          },
          "metadata": {
            "tags": []
          },
          "execution_count": 197
        }
      ]
    },
    {
      "cell_type": "code",
      "metadata": {
        "colab": {
          "base_uri": "https://localhost:8080/",
          "height": 304
        },
        "id": "yfvEa34QxZff",
        "outputId": "45233429-dead-403c-8184-b8969c3fc33b"
      },
      "source": [
        "medal_count_df.sort_values(\"Total\", axis = 0, ascending = False, inplace = True)\n",
        "temp_medal_df = medal_count_df.drop([\"Total\"], axis = 1)\n",
        "temp_medal_df.head(10).plot(x = 'Country', kind='bar', stacked=True, title='Total Medals division for Gold, Silver and Bronze');"
      ],
      "execution_count": 202,
      "outputs": [
        {
          "output_type": "display_data",
          "data": {
            "image/png": "[encoded data removed]",
            "text/plain": [
              "<Figure size 432x288 with 1 Axes>"
            ]
          },
          "metadata": {
            "tags": []
          }
        }
      ]
    },
    {
      "cell_type": "markdown",
      "metadata": {
        "id": "g_OgtQJeKU7t"
      },
      "source": [
        "#Summary \n",
        "\n",
        "Let us summarize our statistics here in this table - \n",
        "\n",
        "|S.No.|Question asked|Answer|\n",
        "|----|--|---|\n",
        "|1|Number of male atheletes appeared in the Olympics ?| 196,594 |\n",
        "|2|Number of female atheletes appeared in the Olympics ?|74,522|\n",
        "|3|Minimum age of an athelete who participated in Olympics history ?| 10 years|\n",
        "|4|Maximum age of an athelete who participated in Olympics history ?| 97 years|\n",
        "|5|Mimimum weight of an athelete who participated in Olympics history ?|25 KG|\n",
        "|6|Maximum weight of an athelete who participated in Olympics history ?|214 KG|\n",
        "|7|Which athelete appeared for most number of times in Olympics history ?| Robert Tait McKenzie for 58 times |\n",
        "|8|Which country won most number of gold medals in the history of olympics ?|United States won 2638 gold models|\n",
        "|9|Which country won most number of silver medals in the history of olympics ?|United States won 1641 silver medals|\n",
        "|10|Which country won most number of bronze medals in the history of olympics ?|United states won 1358 bronze medals|\n",
        "|11|Which country won most number of medals in the history of olympics ?|United states won 5637 medals in total|\n",
        "|12|How many countries never won any medals in olympic ?|81 countries never won any medal|\n",
        "|13|How many countries never won any gold medal in olympics ?|121 countries never won a gold medal|\n",
        "|14|How many countries never won any silver medal in olympics ?|102 countries never won a silver medal|\n",
        "|15|How many countries never won any bronze medal in olympics ?|105 countries never won a bronze medal|"
      ]
    },
    {
      "cell_type": "code",
      "metadata": {
        "colab": {
          "base_uri": "https://localhost:8080/",
          "height": 86
        },
        "id": "sqqJb9fPyohq",
        "outputId": "8008e316-a441-414c-e931-3f490131c30c"
      },
      "source": [
        "jovian.commit()"
      ],
      "execution_count": 200,
      "outputs": [
        {
          "output_type": "stream",
          "text": [
            "[jovian] Detected Colab notebook...\u001b[0m\n",
            "[jovian] Uploading colab notebook to Jovian...\u001b[0m\n",
            "Committed successfully! https://jovian.ai/aaryaashay1848/data-analysis-120-years-of-olympic\n"
          ],
          "name": "stdout"
        },
        {
          "output_type": "execute_result",
          "data": {
            "application/vnd.google.colaboratory.intrinsic+json": {
              "type": "string"
            },
            "text/plain": [
              "'https://jovian.ai/aaryaashay1848/data-analysis-120-years-of-olympic'"
            ]
          },
          "metadata": {
            "tags": []
          },
          "execution_count": 200
        }
      ]
    }
  ]
}